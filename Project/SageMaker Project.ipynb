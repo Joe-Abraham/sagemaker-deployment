{
 "cells": [
  {
   "cell_type": "markdown",
   "metadata": {},
   "source": [
    "# Creating a Sentiment Analysis Web App\n",
    "## Using PyTorch and SageMaker\n",
    "\n",
    "_Deep Learning Nanodegree Program | Deployment_\n",
    "\n",
    "---\n",
    "\n",
    "Now that we have a basic understanding of how SageMaker works we will try to use it to construct a complete project from end to end. Our goal will be to have a simple web page which a user can use to enter a movie review. The web page will then send the review off to our deployed model which will predict the sentiment of the entered review.\n",
    "\n",
    "## Instructions\n",
    "\n",
    "Some template code has already been provided for you, and you will need to implement additional functionality to successfully complete this notebook. You will not need to modify the included code beyond what is requested. Sections that begin with '**TODO**' in the header indicate that you need to complete or implement some portion within them. Instructions will be provided for each section and the specifics of the implementation are marked in the code block with a `# TODO: ...` comment. Please be sure to read the instructions carefully!\n",
    "\n",
    "In addition to implementing code, there will be questions for you to answer which relate to the task and your implementation. Each section where you will answer a question is preceded by a '**Question:**' header. Carefully read each question and provide your answer below the '**Answer:**' header by editing the Markdown cell.\n",
    "\n",
    "> **Note**: Code and Markdown cells can be executed using the **Shift+Enter** keyboard shortcut. In addition, a cell can be edited by typically clicking it (double-click for Markdown cells) or by pressing **Enter** while it is highlighted.\n",
    "\n",
    "## General Outline\n",
    "\n",
    "Recall the general outline for SageMaker projects using a notebook instance.\n",
    "\n",
    "1. Download or otherwise retrieve the data.\n",
    "2. Process / Prepare the data.\n",
    "3. Upload the processed data to S3.\n",
    "4. Train a chosen model.\n",
    "5. Test the trained model (typically using a batch transform job).\n",
    "6. Deploy the trained model.\n",
    "7. Use the deployed model.\n",
    "\n",
    "For this project, you will be following the steps in the general outline with some modifications. \n",
    "\n",
    "First, you will not be testing the model in its own step. You will still be testing the model, however, you will do it by deploying your model and then using the deployed model by sending the test data to it. One of the reasons for doing this is so that you can make sure that your deployed model is working correctly before moving forward.\n",
    "\n",
    "In addition, you will deploy and use your trained model a second time. In the second iteration you will customize the way that your trained model is deployed by including some of your own code. In addition, your newly deployed model will be used in the sentiment analysis web app."
   ]
  },
  {
   "cell_type": "markdown",
   "metadata": {},
   "source": [
    "## Step 1: Downloading the data\n",
    "\n",
    "As in the XGBoost in SageMaker notebook, we will be using the [IMDb dataset](http://ai.stanford.edu/~amaas/data/sentiment/)\n",
    "\n",
    "> Maas, Andrew L., et al. [Learning Word Vectors for Sentiment Analysis](http://ai.stanford.edu/~amaas/data/sentiment/). In _Proceedings of the 49th Annual Meeting of the Association for Computational Linguistics: Human Language Technologies_. Association for Computational Linguistics, 2011."
   ]
  },
  {
   "cell_type": "code",
   "execution_count": 1,
   "metadata": {},
   "outputs": [
    {
     "name": "stdout",
     "output_type": "stream",
     "text": [
      "mkdir: cannot create directory ‘../data’: File exists\n",
      "--2020-09-09 12:28:21--  http://ai.stanford.edu/~amaas/data/sentiment/aclImdb_v1.tar.gz\n",
      "Resolving ai.stanford.edu (ai.stanford.edu)... 171.64.68.10\n",
      "Connecting to ai.stanford.edu (ai.stanford.edu)|171.64.68.10|:80... connected.\n",
      "HTTP request sent, awaiting response... 200 OK\n",
      "Length: 84125825 (80M) [application/x-gzip]\n",
      "Saving to: ‘../data/aclImdb_v1.tar.gz’\n",
      "\n",
      "../data/aclImdb_v1. 100%[===================>]  80.23M  24.9MB/s    in 3.8s    \n",
      "\n",
      "2020-09-09 12:28:25 (21.1 MB/s) - ‘../data/aclImdb_v1.tar.gz’ saved [84125825/84125825]\n",
      "\n"
     ]
    }
   ],
   "source": [
    "%mkdir ../data\n",
    "!wget -O ../data/aclImdb_v1.tar.gz http://ai.stanford.edu/~amaas/data/sentiment/aclImdb_v1.tar.gz\n",
    "!tar -zxf ../data/aclImdb_v1.tar.gz -C ../data"
   ]
  },
  {
   "cell_type": "markdown",
   "metadata": {},
   "source": [
    "## Step 2: Preparing and Processing the data\n",
    "\n",
    "Also, as in the XGBoost notebook, we will be doing some initial data processing. The first few steps are the same as in the XGBoost example. To begin with, we will read in each of the reviews and combine them into a single input structure. Then, we will split the dataset into a training set and a testing set."
   ]
  },
  {
   "cell_type": "code",
   "execution_count": 2,
   "metadata": {},
   "outputs": [],
   "source": [
    "import os\n",
    "import glob\n",
    "\n",
    "def read_imdb_data(data_dir='../data/aclImdb'):\n",
    "    data = {}\n",
    "    labels = {}\n",
    "    \n",
    "    for data_type in ['train', 'test']:\n",
    "        data[data_type] = {}\n",
    "        labels[data_type] = {}\n",
    "        \n",
    "        for sentiment in ['pos', 'neg']:\n",
    "            data[data_type][sentiment] = []\n",
    "            labels[data_type][sentiment] = []\n",
    "            \n",
    "            path = os.path.join(data_dir, data_type, sentiment, '*.txt')\n",
    "            files = glob.glob(path)\n",
    "            \n",
    "            for f in files:\n",
    "                with open(f) as review:\n",
    "                    data[data_type][sentiment].append(review.read())\n",
    "                    # Here we represent a positive review by '1' and a negative review by '0'\n",
    "                    labels[data_type][sentiment].append(1 if sentiment == 'pos' else 0)\n",
    "                    \n",
    "            assert len(data[data_type][sentiment]) == len(labels[data_type][sentiment]), \\\n",
    "                    \"{}/{} data size does not match labels size\".format(data_type, sentiment)\n",
    "                \n",
    "    return data, labels"
   ]
  },
  {
   "cell_type": "code",
   "execution_count": 3,
   "metadata": {},
   "outputs": [
    {
     "name": "stdout",
     "output_type": "stream",
     "text": [
      "IMDB reviews: train = 12500 pos / 12500 neg, test = 12500 pos / 12500 neg\n"
     ]
    }
   ],
   "source": [
    "data, labels = read_imdb_data()\n",
    "print(\"IMDB reviews: train = {} pos / {} neg, test = {} pos / {} neg\".format(\n",
    "            len(data['train']['pos']), len(data['train']['neg']),\n",
    "            len(data['test']['pos']), len(data['test']['neg'])))"
   ]
  },
  {
   "cell_type": "markdown",
   "metadata": {},
   "source": [
    "Now that we've read the raw training and testing data from the downloaded dataset, we will combine the positive and negative reviews and shuffle the resulting records."
   ]
  },
  {
   "cell_type": "code",
   "execution_count": 4,
   "metadata": {},
   "outputs": [],
   "source": [
    "from sklearn.utils import shuffle\n",
    "\n",
    "def prepare_imdb_data(data, labels):\n",
    "    \"\"\"Prepare training and test sets from IMDb movie reviews.\"\"\"\n",
    "    \n",
    "    #Combine positive and negative reviews and labels\n",
    "    data_train = data['train']['pos'] + data['train']['neg']\n",
    "    data_test = data['test']['pos'] + data['test']['neg']\n",
    "    labels_train = labels['train']['pos'] + labels['train']['neg']\n",
    "    labels_test = labels['test']['pos'] + labels['test']['neg']\n",
    "    \n",
    "    #Shuffle reviews and corresponding labels within training and test sets\n",
    "    data_train, labels_train = shuffle(data_train, labels_train)\n",
    "    data_test, labels_test = shuffle(data_test, labels_test)\n",
    "    \n",
    "    # Return a unified training data, test data, training labels, test labets\n",
    "    return data_train, data_test, labels_train, labels_test"
   ]
  },
  {
   "cell_type": "code",
   "execution_count": 5,
   "metadata": {},
   "outputs": [
    {
     "name": "stdout",
     "output_type": "stream",
     "text": [
      "IMDb reviews (combined): train = 25000, test = 25000\n"
     ]
    }
   ],
   "source": [
    "train_X, test_X, train_y, test_y = prepare_imdb_data(data, labels)\n",
    "print(\"IMDb reviews (combined): train = {}, test = {}\".format(len(train_X), len(test_X)))"
   ]
  },
  {
   "cell_type": "markdown",
   "metadata": {},
   "source": [
    "Now that we have our training and testing sets unified and prepared, we should do a quick check and see an example of the data our model will be trained on. This is generally a good idea as it allows you to see how each of the further processing steps affects the reviews and it also ensures that the data has been loaded correctly."
   ]
  },
  {
   "cell_type": "code",
   "execution_count": 6,
   "metadata": {},
   "outputs": [
    {
     "name": "stdout",
     "output_type": "stream",
     "text": [
      "Keeping all political views aside, Feroz Khan and Anil Kapoor's 'Gandhi, My Father' is a good movie that cleverly explores the confused-towards-family side of Mohandas Karamchand Gandhi, and the fight of his eldest son Harilal Gandhi with the society, his larger-than-life father, and most importantly demons in his head. One draws parallels to Gandhi the father of the nation and struggles any son could have with their father<br /><br />The acting is good. Shefali Shetty, Darshan Zariwala and Akshaye Khanna-strictly in that order- add color and pathos to this heart wrenching tale of Harilal who weeps to be hugged just once and also runs away at the faintest touch of the finger.<br /><br />Feroz Khan's direction and the production canvas is lavish and attractive, however, the screenplay could've been tighter. I had seen the play some years ago on a pirated video type DVD (it was called Mahatama vs Gandhi, I think) and it was certainly more gripping. Though, the movie's background score and the father-son and mother-son moments are just a brilliant treat.<br /><br />This movie could have been great. It's borderline to that. It has the potential so huge to have been just a story differences between a father and son or just Gandhi or even both. somewhere, the plot is lost and when you expect absolute epitome of emotions, nothing comes to you.<br /><br />It compares decently to other Gandhi's. Certainly not an overview film like Kingsley's Gandhi,or abstract as Kamal Hassan's Hey Ram. The film just about manages to find its footing; however, one is left wondering \"what if...\" Worth a watch. 7.5/10\n",
      "1\n"
     ]
    }
   ],
   "source": [
    "print(train_X[100])\n",
    "print(train_y[100])"
   ]
  },
  {
   "cell_type": "markdown",
   "metadata": {},
   "source": [
    "The first step in processing the reviews is to make sure that any html tags that appear should be removed. In addition we wish to tokenize our input, that way words such as *entertained* and *entertaining* are considered the same with regard to sentiment analysis."
   ]
  },
  {
   "cell_type": "code",
   "execution_count": 7,
   "metadata": {},
   "outputs": [],
   "source": [
    "import nltk\n",
    "from nltk.corpus import stopwords\n",
    "from nltk.stem.porter import *\n",
    "\n",
    "import re\n",
    "from bs4 import BeautifulSoup\n",
    "\n",
    "def review_to_words(review):\n",
    "    nltk.download(\"stopwords\", quiet=True)\n",
    "    stemmer = PorterStemmer()\n",
    "    \n",
    "    text = BeautifulSoup(review, \"html.parser\").get_text() # Remove HTML tags\n",
    "    text = re.sub(r\"[^a-zA-Z0-9]\", \" \", text.lower()) # Convert to lower case\n",
    "    words = text.split() # Split string into words\n",
    "    words = [w for w in words if w not in stopwords.words(\"english\")] # Remove stopwords\n",
    "    words = [PorterStemmer().stem(w) for w in words] # stem\n",
    "    \n",
    "    return words"
   ]
  },
  {
   "cell_type": "markdown",
   "metadata": {},
   "source": [
    "The `review_to_words` method defined above uses `BeautifulSoup` to remove any html tags that appear and uses the `nltk` package to tokenize the reviews. As a check to ensure we know how everything is working, try applying `review_to_words` to one of the reviews in the training set."
   ]
  },
  {
   "cell_type": "code",
   "execution_count": 8,
   "metadata": {},
   "outputs": [
    {
     "name": "stdout",
     "output_type": "stream",
     "text": [
      "['keep', 'polit', 'view', 'asid', 'feroz', 'khan', 'anil', 'kapoor', 'gandhi', 'father', 'good', 'movi', 'cleverli', 'explor', 'confus', 'toward', 'famili', 'side', 'mohanda', 'karamchand', 'gandhi', 'fight', 'eldest', 'son', 'haril', 'gandhi', 'societi', 'larger', 'life', 'father', 'importantli', 'demon', 'head', 'one', 'draw', 'parallel', 'gandhi', 'father', 'nation', 'struggl', 'son', 'could', 'fatherth', 'act', 'good', 'shefali', 'shetti', 'darshan', 'zariwala', 'akshay', 'khanna', 'strictli', 'order', 'add', 'color', 'patho', 'heart', 'wrench', 'tale', 'haril', 'weep', 'hug', 'also', 'run', 'away', 'faintest', 'touch', 'finger', 'feroz', 'khan', 'direct', 'product', 'canva', 'lavish', 'attract', 'howev', 'screenplay', 'could', 'tighter', 'seen', 'play', 'year', 'ago', 'pirat', 'video', 'type', 'dvd', 'call', 'mahatama', 'vs', 'gandhi', 'think', 'certainli', 'grip', 'though', 'movi', 'background', 'score', 'father', 'son', 'mother', 'son', 'moment', 'brilliant', 'treat', 'movi', 'could', 'great', 'borderlin', 'potenti', 'huge', 'stori', 'differ', 'father', 'son', 'gandhi', 'even', 'somewher', 'plot', 'lost', 'expect', 'absolut', 'epitom', 'emot', 'noth', 'come', 'compar', 'decent', 'gandhi', 'certainli', 'overview', 'film', 'like', 'kingsley', 'gandhi', 'abstract', 'kamal', 'hassan', 'hey', 'ram', 'film', 'manag', 'find', 'foot', 'howev', 'one', 'left', 'wonder', 'worth', 'watch', '7', '5', '10']\n"
     ]
    }
   ],
   "source": [
    "# TODO: Apply review_to_words to a review (train_X[100] or any other review)\n",
    "print(review_to_words(train_X[100]))"
   ]
  },
  {
   "cell_type": "markdown",
   "metadata": {},
   "source": [
    "**Question:** Above we mentioned that `review_to_words` method removes html formatting and allows us to tokenize the words found in a review, for example, converting *entertained* and *entertaining* into *entertain* so that they are treated as though they are the same word. What else, if anything, does this method do to the input?"
   ]
  },
  {
   "cell_type": "markdown",
   "metadata": {},
   "source": [
    "**Answer:** Additionally preprocessing remove the stopwords, converts all words to small caps, remove of symbols like \"!\" and all.\n",
    "\n",
    "Why we need to remove this is because :\n",
    "1. Stopwords- Which lead to unnecessary words for training\n",
    "2. Capatisation - For eg. \"word\" and \"Word\" will be considered as two words\n",
    "3. Removal of uncessary symbols like \"!\" - It doesn't convey any meaning."
   ]
  },
  {
   "cell_type": "markdown",
   "metadata": {},
   "source": [
    "The method below applies the `review_to_words` method to each of the reviews in the training and testing datasets. In addition it caches the results. This is because performing this processing step can take a long time. This way if you are unable to complete the notebook in the current session, you can come back without needing to process the data a second time."
   ]
  },
  {
   "cell_type": "code",
   "execution_count": 9,
   "metadata": {},
   "outputs": [],
   "source": [
    "import pickle\n",
    "\n",
    "cache_dir = os.path.join(\"../cache\", \"sentiment_analysis\")  # where to store cache files\n",
    "os.makedirs(cache_dir, exist_ok=True)  # ensure cache directory exists\n",
    "\n",
    "def preprocess_data(data_train, data_test, labels_train, labels_test,\n",
    "                    cache_dir=cache_dir, cache_file=\"preprocessed_data.pkl\"):\n",
    "    \"\"\"Convert each review to words; read from cache if available.\"\"\"\n",
    "\n",
    "    # If cache_file is not None, try to read from it first\n",
    "    cache_data = None\n",
    "    if cache_file is not None:\n",
    "        try:\n",
    "            with open(os.path.join(cache_dir, cache_file), \"rb\") as f:\n",
    "                cache_data = pickle.load(f)\n",
    "            print(\"Read preprocessed data from cache file:\", cache_file)\n",
    "        except:\n",
    "            pass  # unable to read from cache, but that's okay\n",
    "    \n",
    "    # If cache is missing, then do the heavy lifting\n",
    "    if cache_data is None:\n",
    "        # Preprocess training and test data to obtain words for each review\n",
    "        #words_train = list(map(review_to_words, data_train))\n",
    "        #words_test = list(map(review_to_words, data_test))\n",
    "        words_train = [review_to_words(review) for review in data_train]\n",
    "        words_test = [review_to_words(review) for review in data_test]\n",
    "        \n",
    "        # Write to cache file for future runs\n",
    "        if cache_file is not None:\n",
    "            cache_data = dict(words_train=words_train, words_test=words_test,\n",
    "                              labels_train=labels_train, labels_test=labels_test)\n",
    "            with open(os.path.join(cache_dir, cache_file), \"wb\") as f:\n",
    "                pickle.dump(cache_data, f)\n",
    "            print(\"Wrote preprocessed data to cache file:\", cache_file)\n",
    "    else:\n",
    "        # Unpack data loaded from cache file\n",
    "        words_train, words_test, labels_train, labels_test = (cache_data['words_train'],\n",
    "                cache_data['words_test'], cache_data['labels_train'], cache_data['labels_test'])\n",
    "    \n",
    "    return words_train, words_test, labels_train, labels_test"
   ]
  },
  {
   "cell_type": "code",
   "execution_count": 10,
   "metadata": {},
   "outputs": [
    {
     "name": "stdout",
     "output_type": "stream",
     "text": [
      "Read preprocessed data from cache file: preprocessed_data.pkl\n"
     ]
    }
   ],
   "source": [
    "# Preprocess data\n",
    "train_X, test_X, train_y, test_y = preprocess_data(train_X, test_X, train_y, test_y)\n"
   ]
  },
  {
   "cell_type": "markdown",
   "metadata": {},
   "source": [
    "## Transform the data\n",
    "\n",
    "In the XGBoost notebook we transformed the data from its word representation to a bag-of-words feature representation. For the model we are going to construct in this notebook we will construct a feature representation which is very similar. To start, we will represent each word as an integer. Of course, some of the words that appear in the reviews occur very infrequently and so likely don't contain much information for the purposes of sentiment analysis. The way we will deal with this problem is that we will fix the size of our working vocabulary and we will only include the words that appear most frequently. We will then combine all of the infrequent words into a single category and, in our case, we will label it as `1`.\n",
    "\n",
    "Since we will be using a recurrent neural network, it will be convenient if the length of each review is the same. To do this, we will fix a size for our reviews and then pad short reviews with the category 'no word' (which we will label `0`) and truncate long reviews."
   ]
  },
  {
   "cell_type": "markdown",
   "metadata": {},
   "source": [
    "### (TODO) Create a word dictionary\n",
    "\n",
    "To begin with, we need to construct a way to map words that appear in the reviews to integers. Here we fix the size of our vocabulary (including the 'no word' and 'infrequent' categories) to be `5000` but you may wish to change this to see how it affects the model.\n",
    "\n",
    "> **TODO:** Complete the implementation for the `build_dict()` method below. Note that even though the vocab_size is set to `5000`, we only want to construct a mapping for the most frequently appearing `4998` words. This is because we want to reserve the special labels `0` for 'no word' and `1` for 'infrequent word'."
   ]
  },
  {
   "cell_type": "code",
   "execution_count": 11,
   "metadata": {},
   "outputs": [],
   "source": [
    "import numpy as np\n",
    "\n",
    "def build_dict(data, vocab_size = 5000):\n",
    "    \"\"\"Construct and return a dictionary mapping each of the most frequently appearing words to a unique integer.\"\"\"\n",
    "    \n",
    "    # TODO: Determine how often each word appears in `data`. Note that `data` is a list of sentences and that a\n",
    "    #       sentence is a list of words.\n",
    "    \n",
    "    word_count = {} # A dict storing the words that appear in the reviews along with how often they occur\n",
    "    \n",
    "    #Solution - Loop over through the words, if it exist add the count else add it to the dictonary\n",
    "    for review in data:\n",
    "        for word in review:\n",
    "            if word in word_count.keys():\n",
    "                word_count[word] += 1\n",
    "            else:\n",
    "                word_count[word] = 1\n",
    "                \n",
    "    # TODO: Sort the words found in `data` so that sorted_words[0] is the most frequently appearing word and\n",
    "    #       sorted_words[-1] is the least frequently appearing word.\n",
    "    \n",
    "    sorted_words = None\n",
    "    \n",
    "    #Solution - copy the words to array and reverse sort.\n",
    "    words = np.array(list(word_count.keys()))\n",
    "    counts = np.array(list(word_count.values()))\n",
    "    sorted_words = words[np.argsort(counts)][::-1]\n",
    "    \n",
    "    word_dict = {} # This is what we are building, a dictionary that translates words into integers\n",
    "    for idx, word in enumerate(sorted_words[:vocab_size - 2]): # The -2 is so that we save room for the 'no word'\n",
    "        word_dict[word] = idx + 2                              # 'infrequent' labels\n",
    "        \n",
    "    return word_dict"
   ]
  },
  {
   "cell_type": "code",
   "execution_count": 12,
   "metadata": {},
   "outputs": [],
   "source": [
    "word_dict = build_dict(train_X)"
   ]
  },
  {
   "cell_type": "code",
   "execution_count": 13,
   "metadata": {},
   "outputs": [
    {
     "name": "stdout",
     "output_type": "stream",
     "text": [
      "{'movi': 2, 'film': 3, 'one': 4, 'like': 5, 'time': 6, 'good': 7, 'make': 8, 'charact': 9, 'get': 10, 'see': 11, 'watch': 12, 'stori': 13, 'even': 14, 'would': 15, 'realli': 16, 'well': 17, 'scene': 18, 'look': 19, 'show': 20, 'much': 21, 'end': 22, 'peopl': 23, 'bad': 24, 'go': 25, 'great': 26, 'also': 27, 'first': 28, 'love': 29, 'think': 30, 'way': 31, 'act': 32, 'play': 33, 'made': 34, 'thing': 35, 'could': 36, 'know': 37, 'say': 38, 'seem': 39, 'work': 40, 'plot': 41, 'two': 42, 'actor': 43, 'year': 44, 'come': 45, 'mani': 46, 'seen': 47, 'take': 48, 'life': 49, 'want': 50, 'never': 51, 'littl': 52, 'best': 53, 'tri': 54, 'man': 55, 'ever': 56, 'give': 57, 'better': 58, 'still': 59, 'perform': 60, 'find': 61, 'feel': 62, 'part': 63, 'back': 64, 'use': 65, 'someth': 66, 'director': 67, 'actual': 68, 'interest': 69, 'lot': 70, 'real': 71, 'old': 72, 'cast': 73, 'though': 74, 'live': 75, 'star': 76, 'enjoy': 77, 'guy': 78, 'anoth': 79, 'new': 80, 'role': 81, 'noth': 82, '10': 83, 'funni': 84, 'music': 85, 'point': 86, 'start': 87, 'set': 88, 'girl': 89, 'origin': 90, 'day': 91, 'world': 92, 'everi': 93, 'believ': 94, 'turn': 95, 'quit': 96, 'us': 97, 'direct': 98, 'thought': 99, 'fact': 100, 'minut': 101, 'horror': 102, 'kill': 103, 'action': 104, 'comedi': 105, 'pretti': 106, 'young': 107, 'wonder': 108, 'happen': 109, 'around': 110, 'got': 111, 'effect': 112, 'right': 113, 'long': 114, 'howev': 115, 'big': 116, 'line': 117, 'famili': 118, 'enough': 119, 'seri': 120, 'may': 121, 'need': 122, 'fan': 123, 'bit': 124, 'script': 125, 'beauti': 126, 'person': 127, 'becom': 128, 'without': 129, 'must': 130, 'alway': 131, 'friend': 132, 'tell': 133, 'reason': 134, 'saw': 135, 'last': 136, 'final': 137, 'kid': 138, 'almost': 139, 'put': 140, 'least': 141, 'sure': 142, 'done': 143, 'whole': 144, 'place': 145, 'complet': 146, 'kind': 147, 'expect': 148, 'differ': 149, 'shot': 150, 'far': 151, 'mean': 152, 'anyth': 153, 'book': 154, 'laugh': 155, 'might': 156, 'name': 157, 'sinc': 158, 'begin': 159, '2': 160, 'probabl': 161, 'woman': 162, 'help': 163, 'entertain': 164, 'let': 165, 'screen': 166, 'call': 167, 'tv': 168, 'moment': 169, 'away': 170, 'read': 171, 'yet': 172, 'rather': 173, 'worst': 174, 'run': 175, 'fun': 176, 'lead': 177, 'hard': 178, 'audienc': 179, 'idea': 180, 'anyon': 181, 'episod': 182, 'american': 183, 'found': 184, 'appear': 185, 'bore': 186, 'especi': 187, 'although': 188, 'hope': 189, 'keep': 190, 'cours': 191, 'anim': 192, 'job': 193, 'goe': 194, 'move': 195, 'sens': 196, 'version': 197, 'dvd': 198, 'war': 199, 'money': 200, 'someon': 201, 'mind': 202, 'mayb': 203, 'problem': 204, 'true': 205, 'hous': 206, 'everyth': 207, 'nice': 208, 'second': 209, 'rate': 210, 'three': 211, 'night': 212, 'face': 213, 'follow': 214, 'recommend': 215, 'product': 216, 'main': 217, 'worth': 218, 'leav': 219, 'human': 220, 'special': 221, 'excel': 222, 'togeth': 223, 'wast': 224, 'sound': 225, 'everyon': 226, 'john': 227, 'hand': 228, '1': 229, 'father': 230, 'later': 231, 'eye': 232, 'said': 233, 'view': 234, 'instead': 235, 'review': 236, 'boy': 237, 'high': 238, 'hour': 239, 'miss': 240, 'classic': 241, 'talk': 242, 'wife': 243, 'understand': 244, 'left': 245, 'care': 246, 'black': 247, 'death': 248, 'open': 249, 'murder': 250, 'write': 251, 'half': 252, 'head': 253, 'rememb': 254, 'chang': 255, 'viewer': 256, 'fight': 257, 'gener': 258, 'surpris': 259, 'short': 260, 'includ': 261, 'die': 262, 'fall': 263, 'less': 264, 'els': 265, 'entir': 266, 'piec': 267, 'involv': 268, 'pictur': 269, 'simpli': 270, 'power': 271, 'home': 272, 'top': 273, 'total': 274, 'usual': 275, 'budget': 276, 'attempt': 277, 'suppos': 278, 'releas': 279, 'hollywood': 280, 'terribl': 281, 'song': 282, 'men': 283, 'possibl': 284, 'featur': 285, 'portray': 286, 'disappoint': 287, 'poor': 288, '3': 289, 'coupl': 290, 'stupid': 291, 'camera': 292, 'dead': 293, 'wrong': 294, 'produc': 295, 'low': 296, 'video': 297, 'either': 298, 'aw': 299, 'definit': 300, 'except': 301, 'rest': 302, 'given': 303, 'absolut': 304, 'women': 305, 'lack': 306, 'word': 307, 'writer': 308, 'titl': 309, 'talent': 310, 'decid': 311, 'full': 312, 'perfect': 313, 'along': 314, 'style': 315, 'close': 316, 'truli': 317, 'school': 318, 'emot': 319, 'save': 320, 'sex': 321, 'age': 322, 'next': 323, 'bring': 324, 'mr': 325, 'case': 326, 'killer': 327, 'heart': 328, 'comment': 329, 'sort': 330, 'creat': 331, 'perhap': 332, 'came': 333, 'brother': 334, 'sever': 335, 'joke': 336, 'art': 337, 'dialogu': 338, 'game': 339, 'small': 340, 'base': 341, 'flick': 342, 'written': 343, 'sequenc': 344, 'meet': 345, 'earli': 346, 'often': 347, 'other': 348, 'mother': 349, 'develop': 350, 'humor': 351, 'actress': 352, 'consid': 353, 'dark': 354, 'guess': 355, 'amaz': 356, 'unfortun': 357, 'lost': 358, 'light': 359, 'exampl': 360, 'cinema': 361, 'drama': 362, 'ye': 363, 'white': 364, 'experi': 365, 'imagin': 366, 'mention': 367, 'stop': 368, 'natur': 369, 'forc': 370, 'manag': 371, 'felt': 372, 'cut': 373, 'present': 374, 'children': 375, 'fail': 376, 'son': 377, 'support': 378, 'car': 379, 'qualiti': 380, 'ask': 381, 'hit': 382, 'side': 383, 'voic': 384, 'extrem': 385, 'impress': 386, 'evil': 387, 'wors': 388, 'went': 389, 'stand': 390, 'certainli': 391, 'basic': 392, 'oh': 393, 'overal': 394, 'favorit': 395, 'horribl': 396, 'mysteri': 397, 'number': 398, 'type': 399, 'danc': 400, 'wait': 401, 'hero': 402, 'alreadi': 403, '5': 404, 'learn': 405, 'matter': 406, '4': 407, 'michael': 408, 'genr': 409, 'fine': 410, 'despit': 411, 'throughout': 412, 'walk': 413, 'success': 414, 'histori': 415, 'question': 416, 'zombi': 417, 'town': 418, 'realiz': 419, 'relationship': 420, 'past': 421, 'child': 422, 'daughter': 423, 'late': 424, 'b': 425, 'wish': 426, 'credit': 427, 'hate': 428, 'event': 429, 'theme': 430, 'touch': 431, 'citi': 432, 'today': 433, 'sometim': 434, 'behind': 435, 'god': 436, 'twist': 437, 'sit': 438, 'annoy': 439, 'deal': 440, 'stay': 441, 'abl': 442, 'rent': 443, 'pleas': 444, 'edit': 445, 'blood': 446, 'deserv': 447, 'anyway': 448, 'comic': 449, 'appar': 450, 'soon': 451, 'gave': 452, 'etc': 453, 'level': 454, 'slow': 455, 'chanc': 456, 'score': 457, 'bodi': 458, 'brilliant': 459, 'incred': 460, 'figur': 461, 'situat': 462, 'self': 463, 'major': 464, 'stuff': 465, 'decent': 466, 'element': 467, 'dream': 468, 'return': 469, 'obvious': 470, 'continu': 471, 'order': 472, 'pace': 473, 'ridicul': 474, 'happi': 475, 'add': 476, 'highli': 477, 'group': 478, 'thank': 479, 'ladi': 480, 'novel': 481, 'speak': 482, 'pain': 483, 'career': 484, 'shoot': 485, 'strang': 486, 'heard': 487, 'sad': 488, 'husband': 489, 'polic': 490, 'import': 491, 'break': 492, 'took': 493, 'cannot': 494, 'strong': 495, 'predict': 496, 'robert': 497, 'violenc': 498, 'hilari': 499, 'recent': 500, 'countri': 501, 'known': 502, 'particularli': 503, 'pick': 504, 'documentari': 505, 'season': 506, 'critic': 507, 'jame': 508, 'compar': 509, 'obviou': 510, 'alon': 511, 'told': 512, 'state': 513, 'visual': 514, 'rock': 515, 'theater': 516, 'exist': 517, 'offer': 518, 'opinion': 519, 'gore': 520, 'hold': 521, 'crap': 522, 'result': 523, 'room': 524, 'realiti': 525, 'hear': 526, 'clich': 527, 'effort': 528, 'thriller': 529, 'caus': 530, 'serious': 531, 'explain': 532, 'sequel': 533, 'king': 534, 'local': 535, 'ago': 536, 'hell': 537, 'none': 538, 'note': 539, 'allow': 540, 'david': 541, 'sister': 542, 'simpl': 543, 'femal': 544, 'deliv': 545, 'ok': 546, 'class': 547, 'convinc': 548, 'check': 549, 'suspens': 550, 'win': 551, 'buy': 552, 'oscar': 553, 'huge': 554, 'valu': 555, 'sexual': 556, 'cool': 557, 'scari': 558, 'similar': 559, 'excit': 560, 'provid': 561, 'apart': 562, 'exactli': 563, 'avoid': 564, 'shown': 565, 'seriou': 566, 'english': 567, 'taken': 568, 'whose': 569, 'cinematographi': 570, 'shock': 571, 'polit': 572, 'spoiler': 573, 'offic': 574, 'across': 575, 'middl': 576, 'street': 577, 'pass': 578, 'messag': 579, 'silli': 580, 'charm': 581, 'somewhat': 582, 'modern': 583, 'filmmak': 584, 'confus': 585, 'form': 586, 'tale': 587, 'singl': 588, 'jack': 589, 'mostli': 590, 'william': 591, 'carri': 592, 'attent': 593, 'sing': 594, 'subject': 595, 'five': 596, 'prove': 597, 'richard': 598, 'stage': 599, 'team': 600, 'cop': 601, 'unlik': 602, 'georg': 603, 'televis': 604, 'monster': 605, 'earth': 606, 'cover': 607, 'villain': 608, 'pay': 609, 'marri': 610, 'toward': 611, 'build': 612, 'parent': 613, 'pull': 614, 'due': 615, 'respect': 616, 'fill': 617, 'four': 618, 'dialog': 619, 'remind': 620, 'futur': 621, 'typic': 622, 'weak': 623, '7': 624, 'cheap': 625, 'intellig': 626, 'british': 627, 'atmospher': 628, '80': 629, 'clearli': 630, 'paul': 631, 'non': 632, 'dog': 633, 'artist': 634, '8': 635, 'fast': 636, 'knew': 637, 'crime': 638, 'easili': 639, 'escap': 640, 'adult': 641, 'doubt': 642, 'detail': 643, 'date': 644, 'member': 645, 'fire': 646, 'romant': 647, 'drive': 648, 'gun': 649, 'straight': 650, 'beyond': 651, 'fit': 652, 'attack': 653, 'imag': 654, 'upon': 655, 'posit': 656, 'whether': 657, 'fantast': 658, 'peter': 659, 'appreci': 660, 'aspect': 661, 'captur': 662, 'ten': 663, 'plan': 664, 'discov': 665, 'remain': 666, 'near': 667, 'period': 668, 'air': 669, 'realist': 670, 'mark': 671, 'red': 672, 'dull': 673, 'adapt': 674, 'within': 675, 'spend': 676, 'lose': 677, 'materi': 678, 'color': 679, 'chase': 680, 'mari': 681, 'storylin': 682, 'forget': 683, 'bunch': 684, 'clear': 685, 'lee': 686, 'victim': 687, 'nearli': 688, 'box': 689, 'york': 690, 'inspir': 691, 'match': 692, 'finish': 693, 'mess': 694, 'standard': 695, 'easi': 696, 'truth': 697, 'suffer': 698, 'busi': 699, 'space': 700, 'dramat': 701, 'bill': 702, 'western': 703, 'e': 704, 'list': 705, 'battl': 706, 'notic': 707, 'de': 708, 'french': 709, 'ad': 710, '9': 711, 'tom': 712, 'larg': 713, 'among': 714, 'eventu': 715, 'accept': 716, 'train': 717, 'agre': 718, 'spirit': 719, 'soundtrack': 720, 'third': 721, 'teenag': 722, 'soldier': 723, 'adventur': 724, 'sorri': 725, 'suggest': 726, 'drug': 727, 'famou': 728, 'normal': 729, 'babi': 730, 'cri': 731, 'ultim': 732, 'troubl': 733, 'contain': 734, 'certain': 735, 'cultur': 736, 'romanc': 737, 'rare': 738, 'lame': 739, 'somehow': 740, 'mix': 741, 'disney': 742, 'gone': 743, 'cartoon': 744, 'student': 745, 'reveal': 746, 'fear': 747, 'suck': 748, 'kept': 749, 'attract': 750, 'appeal': 751, 'premis': 752, 'secret': 753, 'design': 754, 'greatest': 755, 'shame': 756, 'throw': 757, 'scare': 758, 'copi': 759, 'wit': 760, 'admit': 761, 'america': 762, 'particular': 763, 'brought': 764, 'relat': 765, 'screenplay': 766, 'whatev': 767, 'pure': 768, '70': 769, 'averag': 770, 'harri': 771, 'master': 772, 'describ': 773, 'treat': 774, 'male': 775, '20': 776, 'issu': 777, 'fantasi': 778, 'warn': 779, 'inde': 780, 'forward': 781, 'background': 782, 'free': 783, 'project': 784, 'japanes': 785, 'memor': 786, 'poorli': 787, 'award': 788, 'locat': 789, 'amus': 790, 'potenti': 791, 'struggl': 792, 'magic': 793, 'weird': 794, 'societi': 795, 'okay': 796, 'accent': 797, 'imdb': 798, 'doctor': 799, 'hot': 800, 'water': 801, 'dr': 802, 'express': 803, 'alien': 804, '30': 805, 'odd': 806, 'crazi': 807, 'choic': 808, 'fiction': 809, 'studio': 810, 'becam': 811, 'control': 812, 'masterpiec': 813, 'fli': 814, 'difficult': 815, 'joe': 816, 'scream': 817, 'costum': 818, 'lover': 819, 'refer': 820, 'uniqu': 821, 'remak': 822, 'girlfriend': 823, 'vampir': 824, 'prison': 825, 'execut': 826, 'wear': 827, 'jump': 828, 'unless': 829, 'wood': 830, 'creepi': 831, 'cheesi': 832, 'superb': 833, 'otherwis': 834, 'parti': 835, 'roll': 836, 'ghost': 837, 'mad': 838, 'public': 839, 'depict': 840, 'moral': 841, 'earlier': 842, 'week': 843, 'jane': 844, 'badli': 845, 'fi': 846, 'dumb': 847, 'grow': 848, 'flaw': 849, 'sci': 850, 'deep': 851, 'cat': 852, 'maker': 853, 'footag': 854, 'connect': 855, 'older': 856, 'bother': 857, 'plenti': 858, 'outsid': 859, 'stick': 860, 'gay': 861, 'catch': 862, 'co': 863, 'plu': 864, 'popular': 865, 'equal': 866, 'social': 867, 'disturb': 868, 'quickli': 869, 'perfectli': 870, 'dress': 871, 'era': 872, '90': 873, 'mistak': 874, 'lie': 875, 'ride': 876, 'previou': 877, 'combin': 878, 'concept': 879, 'band': 880, 'answer': 881, 'surviv': 882, 'rich': 883, 'front': 884, 'christma': 885, 'sweet': 886, 'insid': 887, 'concern': 888, 'bare': 889, 'eat': 890, 'beat': 891, 'listen': 892, 'ben': 893, 'c': 894, 'term': 895, 'serv': 896, 'meant': 897, 'german': 898, 'la': 899, 'hardli': 900, 'stereotyp': 901, 'law': 902, 'innoc': 903, 'desper': 904, 'memori': 905, 'promis': 906, 'cute': 907, 'intent': 908, 'variou': 909, 'steal': 910, 'inform': 911, 'brain': 912, 'post': 913, 'tone': 914, 'island': 915, 'amount': 916, 'nuditi': 917, 'track': 918, 'compani': 919, 'claim': 920, 'store': 921, 'hair': 922, '50': 923, 'flat': 924, 'univers': 925, 'land': 926, 'danger': 927, 'fairli': 928, 'scott': 929, 'kick': 930, 'player': 931, 'crew': 932, 'plain': 933, 'step': 934, 'toni': 935, 'share': 936, 'centuri': 937, 'tast': 938, 'engag': 939, 'achiev': 940, 'cold': 941, 'travel': 942, 'record': 943, 'suit': 944, 'rip': 945, 'sadli': 946, 'manner': 947, 'spot': 948, 'tension': 949, 'wrote': 950, 'fascin': 951, 'intens': 952, 'familiar': 953, 'burn': 954, 'remark': 955, 'depth': 956, 'histor': 957, 'destroy': 958, 'sleep': 959, 'purpos': 960, 'languag': 961, 'ignor': 962, 'ruin': 963, 'delight': 964, 'italian': 965, 'unbeliev': 966, 'soul': 967, 'abil': 968, 'collect': 969, 'clever': 970, 'detect': 971, 'violent': 972, 'rape': 973, 'reach': 974, 'door': 975, 'trash': 976, 'scienc': 977, 'liter': 978, 'caught': 979, 'commun': 980, 'reveng': 981, 'creatur': 982, 'approach': 983, 'trip': 984, 'intrigu': 985, 'fashion': 986, 'skill': 987, 'introduc': 988, 'paint': 989, 'complex': 990, 'channel': 991, 'camp': 992, 'christian': 993, 'hole': 994, 'extra': 995, 'mental': 996, 'immedi': 997, 'ann': 998, 'limit': 999, '6': 1000, 'comput': 1001, 'slightli': 1002, 'million': 1003, 'mere': 1004, 'conclus': 1005, 'slasher': 1006, 'suddenli': 1007, 'imposs': 1008, 'crimin': 1009, 'neither': 1010, 'teen': 1011, 'nation': 1012, 'physic': 1013, 'spent': 1014, 'respons': 1015, 'planet': 1016, 'fake': 1017, 'receiv': 1018, 'blue': 1019, 'sick': 1020, 'bizarr': 1021, 'embarrass': 1022, 'indian': 1023, 'ring': 1024, '15': 1025, 'pop': 1026, 'drop': 1027, 'drag': 1028, 'haunt': 1029, 'suspect': 1030, 'pointless': 1031, 'search': 1032, 'edg': 1033, 'handl': 1034, 'common': 1035, 'biggest': 1036, 'faith': 1037, 'arriv': 1038, 'hurt': 1039, 'technic': 1040, 'angel': 1041, 'genuin': 1042, 'dad': 1043, 'f': 1044, 'solid': 1045, 'awesom': 1046, 'colleg': 1047, 'van': 1048, 'former': 1049, 'focu': 1050, 'count': 1051, 'heavi': 1052, 'tear': 1053, 'rais': 1054, 'wall': 1055, 'laughabl': 1056, 'visit': 1057, 'younger': 1058, 'excus': 1059, 'sign': 1060, 'fair': 1061, 'cult': 1062, 'motion': 1063, 'tough': 1064, 'key': 1065, 'super': 1066, 'desir': 1067, 'stun': 1068, 'addit': 1069, 'exploit': 1070, 'cloth': 1071, 'smith': 1072, 'tortur': 1073, 'race': 1074, 'davi': 1075, 'author': 1076, 'cross': 1077, 'jim': 1078, 'compel': 1079, 'minor': 1080, 'focus': 1081, 'consist': 1082, 'chemistri': 1083, 'commit': 1084, 'pathet': 1085, 'park': 1086, 'tradit': 1087, 'obsess': 1088, 'frank': 1089, 'grade': 1090, 'asid': 1091, '60': 1092, 'brutal': 1093, 'somewher': 1094, 'steve': 1095, 'depress': 1096, 'u': 1097, 'explor': 1098, 'opportun': 1099, 'grant': 1100, 'rule': 1101, 'honest': 1102, 'besid': 1103, 'anti': 1104, 'dub': 1105, 'intend': 1106, 'trailer': 1107, 'bar': 1108, 'west': 1109, 'regard': 1110, 'scientist': 1111, 'longer': 1112, 'judg': 1113, 'decad': 1114, 'silent': 1115, 'creativ': 1116, 'armi': 1117, 'wild': 1118, 'stewart': 1119, 'g': 1120, 'south': 1121, 'draw': 1122, 'road': 1123, 'govern': 1124, 'ex': 1125, 'boss': 1126, 'practic': 1127, 'motiv': 1128, 'festiv': 1129, 'gang': 1130, 'club': 1131, 'surprisingli': 1132, 'green': 1133, 'london': 1134, 'page': 1135, 'redeem': 1136, 'militari': 1137, 'machin': 1138, 'display': 1139, 'aliv': 1140, 'idiot': 1141, 'thrill': 1142, 'repeat': 1143, 'yeah': 1144, 'nobodi': 1145, 'folk': 1146, '100': 1147, '40': 1148, 'garbag': 1149, 'journey': 1150, 'ground': 1151, 'smile': 1152, 'tire': 1153, 'mood': 1154, 'bought': 1155, 'stone': 1156, 'cost': 1157, 'sam': 1158, 'noir': 1159, 'mouth': 1160, 'terrif': 1161, 'agent': 1162, 'requir': 1163, 'utterli': 1164, 'honestli': 1165, 'area': 1166, 'sexi': 1167, 'report': 1168, 'geniu': 1169, 'investig': 1170, 'glad': 1171, 'enter': 1172, 'humour': 1173, 'serial': 1174, 'narr': 1175, 'passion': 1176, 'occasion': 1177, 'marriag': 1178, 'climax': 1179, 'industri': 1180, 'studi': 1181, 'demon': 1182, 'ship': 1183, 'center': 1184, 'nowher': 1185, 'charli': 1186, 'loos': 1187, 'hors': 1188, 'bear': 1189, 'wow': 1190, 'hang': 1191, 'graphic': 1192, 'giant': 1193, 'admir': 1194, 'send': 1195, 'loud': 1196, 'damn': 1197, 'subtl': 1198, 'nake': 1199, 'profession': 1200, 'rel': 1201, 'blow': 1202, 'bottom': 1203, 'batman': 1204, 'insult': 1205, 'kelli': 1206, 'doubl': 1207, 'r': 1208, 'boyfriend': 1209, 'initi': 1210, 'frame': 1211, 'gem': 1212, 'opera': 1213, 'cinemat': 1214, 'affect': 1215, 'drawn': 1216, 'challeng': 1217, 'church': 1218, 'fulli': 1219, 'j': 1220, 'evid': 1221, 'l': 1222, 'seek': 1223, 'nightmar': 1224, 'arm': 1225, 'conflict': 1226, 'essenti': 1227, 'grace': 1228, 'henri': 1229, 'wind': 1230, 'christoph': 1231, 'assum': 1232, 'witch': 1233, 'narrat': 1234, 'push': 1235, 'hunt': 1236, 'chri': 1237, 'wise': 1238, 'month': 1239, 'nomin': 1240, 'repres': 1241, 'avail': 1242, 'affair': 1243, 'sceneri': 1244, 'hide': 1245, 'thu': 1246, 'justic': 1247, 'smart': 1248, 'bond': 1249, 'flashback': 1250, 'outstand': 1251, 'interview': 1252, 'satisfi': 1253, 'presenc': 1254, 'constantli': 1255, 'central': 1256, 'bed': 1257, 'iron': 1258, 'content': 1259, 'sell': 1260, 'everybodi': 1261, 'gag': 1262, 'slowli': 1263, 'hotel': 1264, 'hire': 1265, 'system': 1266, 'charl': 1267, 'adam': 1268, 'thrown': 1269, 'hey': 1270, 'individu': 1271, 'mediocr': 1272, 'jone': 1273, 'allen': 1274, 'billi': 1275, 'lesson': 1276, 'ray': 1277, 'cameo': 1278, 'photographi': 1279, 'fellow': 1280, 'pari': 1281, 'strike': 1282, 'brief': 1283, 'absurd': 1284, 'independ': 1285, 'rise': 1286, 'neg': 1287, 'phone': 1288, 'impact': 1289, 'born': 1290, 'ill': 1291, 'model': 1292, 'fresh': 1293, 'spoil': 1294, 'angl': 1295, 'likabl': 1296, 'abus': 1297, 'hill': 1298, 'discuss': 1299, 'ahead': 1300, 'sight': 1301, 'photograph': 1302, 'sent': 1303, 'occur': 1304, 'blame': 1305, 'shine': 1306, 'logic': 1307, 'bruce': 1308, 'mainli': 1309, 'skip': 1310, 'forev': 1311, 'commerci': 1312, 'held': 1313, 'teacher': 1314, 'segment': 1315, 'surround': 1316, 'blond': 1317, 'zero': 1318, 'satir': 1319, 'trap': 1320, 'resembl': 1321, 'summer': 1322, 'ball': 1323, 'queen': 1324, 'fool': 1325, 'six': 1326, 'tragedi': 1327, 'sub': 1328, 'twice': 1329, 'pack': 1330, 'reaction': 1331, 'bomb': 1332, 'hospit': 1333, 'protagonist': 1334, 'will': 1335, 'mile': 1336, 'sport': 1337, 'vote': 1338, 'trust': 1339, 'jerri': 1340, 'drink': 1341, 'mom': 1342, 'encount': 1343, 'plane': 1344, 'al': 1345, 'program': 1346, 'station': 1347, 'current': 1348, 'choos': 1349, 'martin': 1350, 'celebr': 1351, 'join': 1352, 'field': 1353, 'favourit': 1354, 'lord': 1355, 'round': 1356, 'tragic': 1357, 'robot': 1358, 'jean': 1359, 'vision': 1360, 'arthur': 1361, 'tie': 1362, 'fortun': 1363, 'random': 1364, 'roger': 1365, 'psycholog': 1366, 'intern': 1367, 'dread': 1368, 'improv': 1369, 'epic': 1370, 'nonsens': 1371, 'prefer': 1372, 'pleasur': 1373, 'legend': 1374, 'formula': 1375, 'highlight': 1376, 'dollar': 1377, 'tape': 1378, '11': 1379, 'wide': 1380, 'porn': 1381, 'thin': 1382, 'gorgeou': 1383, 'fox': 1384, 'object': 1385, 'buddi': 1386, 'influenc': 1387, 'ugli': 1388, 'prepar': 1389, 'ii': 1390, 'nasti': 1391, 'warm': 1392, 'supposedli': 1393, 'progress': 1394, 'reflect': 1395, 'youth': 1396, 'worthi': 1397, 'unusu': 1398, 'latter': 1399, 'length': 1400, 'crash': 1401, 'seven': 1402, 'childhood': 1403, 'superior': 1404, 'shop': 1405, 'theatr': 1406, 'remot': 1407, 'paid': 1408, 'funniest': 1409, 'pilot': 1410, 'disgust': 1411, 'convers': 1412, 'castl': 1413, 'trick': 1414, 'fell': 1415, 'gangster': 1416, 'disast': 1417, 'establish': 1418, 'rob': 1419, 'disappear': 1420, 'suicid': 1421, 'heaven': 1422, 'ident': 1423, 'mine': 1424, 'heroin': 1425, 'mask': 1426, 'singer': 1427, 'decis': 1428, 'forgotten': 1429, 'tend': 1430, 'partner': 1431, 'brian': 1432, 'recogn': 1433, 'alan': 1434, 'desert': 1435, 'p': 1436, 'sky': 1437, 'stuck': 1438, 'ms': 1439, 'thoroughli': 1440, 'accur': 1441, 'replac': 1442, 'market': 1443, 'andi': 1444, 'commentari': 1445, 'clue': 1446, 'danni': 1447, 'eddi': 1448, 'uncl': 1449, 'seemingli': 1450, 'devil': 1451, 'jackson': 1452, 'pair': 1453, 'therefor': 1454, 'refus': 1455, 'that': 1456, 'fate': 1457, 'ed': 1458, 'river': 1459, 'accid': 1460, 'unit': 1461, 'fault': 1462, 'tune': 1463, 'afraid': 1464, 'russian': 1465, 'stephen': 1466, 'clean': 1467, 'hidden': 1468, 'test': 1469, 'quick': 1470, 'irrit': 1471, 'convey': 1472, 'readi': 1473, 'captain': 1474, 'instanc': 1475, 'european': 1476, 'insan': 1477, 'frustrat': 1478, 'daniel': 1479, 'rescu': 1480, 'food': 1481, 'chines': 1482, '1950': 1483, 'wed': 1484, 'dirti': 1485, 'lock': 1486, 'angri': 1487, 'joy': 1488, 'price': 1489, 'steven': 1490, 'bland': 1491, 'cage': 1492, 'anymor': 1493, 'rang': 1494, 'wooden': 1495, 'n': 1496, 'rush': 1497, 'news': 1498, 'jason': 1499, '12': 1500, 'twenti': 1501, 'worri': 1502, 'led': 1503, 'board': 1504, 'martial': 1505, 'transform': 1506, 'cgi': 1507, 'symbol': 1508, 'hunter': 1509, 'piti': 1510, 'invent': 1511, 'onto': 1512, 'johnni': 1513, 'sentiment': 1514, 'x': 1515, 'process': 1516, 'explan': 1517, 'attitud': 1518, 'owner': 1519, 'awar': 1520, 'aim': 1521, 'target': 1522, 'favor': 1523, 'necessari': 1524, 'floor': 1525, 'energi': 1526, 'opposit': 1527, 'religi': 1528, 'insight': 1529, 'blind': 1530, 'chick': 1531, 'window': 1532, 'movement': 1533, 'possess': 1534, 'research': 1535, 'deepli': 1536, 'comparison': 1537, 'mountain': 1538, 'comed': 1539, 'whatsoev': 1540, 'grand': 1541, 'rain': 1542, 'shadow': 1543, 'bank': 1544, 'began': 1545, 'mid': 1546, 'princ': 1547, 'parodi': 1548, 'weapon': 1549, 'credibl': 1550, 'taylor': 1551, 'pre': 1552, 'friendship': 1553, 'teach': 1554, 'flesh': 1555, 'dougla': 1556, 'terror': 1557, 'bloodi': 1558, 'protect': 1559, 'hint': 1560, 'marvel': 1561, 'superman': 1562, 'accord': 1563, 'leader': 1564, 'load': 1565, 'drunk': 1566, 'watchabl': 1567, 'anybodi': 1568, 'freddi': 1569, 'brown': 1570, 'hitler': 1571, 'seat': 1572, 'tim': 1573, 'appropri': 1574, 'jeff': 1575, 'knock': 1576, 'charg': 1577, 'keaton': 1578, 'unknown': 1579, 'villag': 1580, 'unnecessari': 1581, 'empti': 1582, 'enemi': 1583, 'england': 1584, 'media': 1585, 'strength': 1586, 'craft': 1587, 'dare': 1588, 'buck': 1589, 'perspect': 1590, 'utter': 1591, 'wave': 1592, 'correct': 1593, 'contrast': 1594, 'nativ': 1595, 'ford': 1596, 'kiss': 1597, 'speed': 1598, 'soap': 1599, 'nazi': 1600, 'knowledg': 1601, 'distract': 1602, 'chill': 1603, 'magnific': 1604, 'anywher': 1605, 'ice': 1606, 'fred': 1607, 'mission': 1608, 'breath': 1609, '1980': 1610, 'joan': 1611, 'moon': 1612, 'crowd': 1613, 'jr': 1614, 'frighten': 1615, 'kate': 1616, '000': 1617, 'soft': 1618, 'dick': 1619, 'hundr': 1620, 'nick': 1621, 'dan': 1622, 'dozen': 1623, 'somebodi': 1624, 'radio': 1625, 'simon': 1626, 'andrew': 1627, 'loss': 1628, 'thousand': 1629, 'academi': 1630, 'shakespear': 1631, 'root': 1632, 'account': 1633, 'sum': 1634, 'quot': 1635, 'vehicl': 1636, 'convent': 1637, 'leg': 1638, 'behavior': 1639, '1970': 1640, 'regular': 1641, 'gold': 1642, 'pretenti': 1643, 'worker': 1644, 'demand': 1645, 'compet': 1646, 'explos': 1647, 'lynch': 1648, 'notabl': 1649, 'candi': 1650, 'privat': 1651, 'stretch': 1652, 'interpret': 1653, 'japan': 1654, 'debut': 1655, 'constant': 1656, 'tarzan': 1657, 'translat': 1658, 'revolv': 1659, 'spi': 1660, 'sea': 1661, 'prais': 1662, 'ass': 1663, 'sat': 1664, 'franc': 1665, 'technolog': 1666, 'quiet': 1667, 'threaten': 1668, 'jesu': 1669, 'failur': 1670, 'aid': 1671, 'punch': 1672, 'higher': 1673, 'kevin': 1674, 'toy': 1675, 'met': 1676, 'interact': 1677, 'mike': 1678, 'vh': 1679, 'abandon': 1680, 'separ': 1681, 'command': 1682, 'bet': 1683, 'confront': 1684, 'techniqu': 1685, 'stunt': 1686, 'belong': 1687, 'recal': 1688, 'site': 1689, 'gotten': 1690, 'servic': 1691, 'cabl': 1692, 'foot': 1693, 'bug': 1694, 'freak': 1695, 'african': 1696, 'capabl': 1697, 'fu': 1698, 'jimmi': 1699, 'bright': 1700, 'clark': 1701, 'succeed': 1702, 'stock': 1703, 'presid': 1704, 'boat': 1705, 'fat': 1706, 'spanish': 1707, 'gene': 1708, 'structur': 1709, 'kidnap': 1710, 'paper': 1711, 'whilst': 1712, 'factor': 1713, 'belief': 1714, 'bob': 1715, 'witti': 1716, 'complic': 1717, 'realism': 1718, 'tree': 1719, 'realis': 1720, 'educ': 1721, 'attend': 1722, 'broken': 1723, 'assist': 1724, 'santa': 1725, 'finest': 1726, 'v': 1727, 'determin': 1728, 'up': 1729, 'observ': 1730, 'smoke': 1731, 'depart': 1732, 'rubbish': 1733, 'fame': 1734, 'routin': 1735, 'domin': 1736, 'oper': 1737, 'lewi': 1738, 'hat': 1739, 'foreign': 1740, 'advanc': 1741, 'safe': 1742, 'kinda': 1743, 'morgan': 1744, 'lone': 1745, 'hook': 1746, 'numer': 1747, 'rank': 1748, 'shallow': 1749, 'vs': 1750, 'washington': 1751, 'civil': 1752, 'rose': 1753, 'shape': 1754, 'werewolf': 1755, 'gari': 1756, 'morn': 1757, 'kong': 1758, 'winner': 1759, 'ordinari': 1760, 'accomplish': 1761, 'virtual': 1762, 'grab': 1763, 'peac': 1764, 'whenev': 1765, 'luck': 1766, 'h': 1767, 'offens': 1768, 'contriv': 1769, 'patient': 1770, 'welcom': 1771, 'activ': 1772, 'complain': 1773, 'bigger': 1774, 'unfunni': 1775, 'dimension': 1776, 'pretend': 1777, 'con': 1778, 'trek': 1779, 'flash': 1780, 'dri': 1781, 'cain': 1782, 'wake': 1783, 'code': 1784, 'lesbian': 1785, 'eric': 1786, 'corrupt': 1787, 'statu': 1788, 'guard': 1789, 'dancer': 1790, 'manipul': 1791, 'albert': 1792, 'signific': 1793, 'gain': 1794, 'sourc': 1795, 'awkward': 1796, 'speech': 1797, 'context': 1798, 'psycho': 1799, 'anthoni': 1800, 'sean': 1801, '13': 1802, 'corni': 1803, 'clip': 1804, 'advic': 1805, 'w': 1806, 'religion': 1807, 'priest': 1808, 'reli': 1809, 'theatric': 1810, 'curiou': 1811, 'flow': 1812, 'addict': 1813, 'skin': 1814, 'specif': 1815, 'asian': 1816, 'howard': 1817, 'jennif': 1818, 'secur': 1819, 'promot': 1820, 'core': 1821, 'organ': 1822, 'comfort': 1823, 'luke': 1824, 'golden': 1825, 'cheat': 1826, 'lucki': 1827, 'cash': 1828, 'dislik': 1829, 'lower': 1830, 'associ': 1831, 'contribut': 1832, 'degre': 1833, 'regret': 1834, 'wing': 1835, 'frequent': 1836, 'balanc': 1837, 'devic': 1838, 'frankli': 1839, 'spell': 1840, 'lake': 1841, 'print': 1842, 'forgiv': 1843, 'sake': 1844, 'thoma': 1845, 'betti': 1846, 'mass': 1847, 'crack': 1848, 'unexpect': 1849, 'gordon': 1850, 'construct': 1851, 'unfold': 1852, 'depend': 1853, 'grown': 1854, 'categori': 1855, 'invit': 1856, 'amateur': 1857, 'matur': 1858, 'walter': 1859, 'anna': 1860, 'honor': 1861, 'condit': 1862, 'intellectu': 1863, 'grew': 1864, 'mirror': 1865, 'sudden': 1866, 'sole': 1867, 'veteran': 1868, 'spectacular': 1869, 'gift': 1870, 'card': 1871, 'overli': 1872, 'freedom': 1873, 'grip': 1874, 'demonstr': 1875, 'meanwhil': 1876, 'robin': 1877, 'experienc': 1878, 'liner': 1879, 'drew': 1880, 'subtitl': 1881, 'theori': 1882, 'oliv': 1883, 'brilliantli': 1884, 'crappi': 1885, 'circumst': 1886, 'unabl': 1887, 'section': 1888, 'sheriff': 1889, 'colour': 1890, 'laughter': 1891, 'sheer': 1892, 'matt': 1893, 'altern': 1894, 'parker': 1895, 'cook': 1896, 'pile': 1897, 'path': 1898, 'sinatra': 1899, 'treatment': 1900, 'defin': 1901, 'lawyer': 1902, 'wander': 1903, 'accident': 1904, 'hall': 1905, 'relief': 1906, 'captiv': 1907, 'hank': 1908, 'dragon': 1909, 'moor': 1910, 'gratuit': 1911, 'halloween': 1912, 'broadway': 1913, 'wayn': 1914, 'cowboy': 1915, 'jacki': 1916, 'barbara': 1917, 'kung': 1918, 'unintent': 1919, 'wound': 1920, 'k': 1921, 'statement': 1922, 'surreal': 1923, 'winter': 1924, 'spoof': 1925, 'canadian': 1926, 'fare': 1927, 'cheer': 1928, 'compos': 1929, 'fish': 1930, 'gonna': 1931, 'treasur': 1932, 'victor': 1933, 'emerg': 1934, 'sensit': 1935, 'unrealist': 1936, 'woodi': 1937, 'sympathet': 1938, 'neighbor': 1939, 'driven': 1940, 'ran': 1941, 'overlook': 1942, 'authent': 1943, 'topic': 1944, 'menac': 1945, 'expos': 1946, 'glass': 1947, 'handsom': 1948, 'michel': 1949, 'chief': 1950, 'ancient': 1951, 'gross': 1952, 'stranger': 1953, 'cinderella': 1954, 'built': 1955, 'feet': 1956, 'comedian': 1957, 'contemporari': 1958, 'pleasant': 1959, 'nevertheless': 1960, 'russel': 1961, 'network': 1962, 'endless': 1963, 'letter': 1964, 'underr': 1965, 'miser': 1966, 'earn': 1967, 'consider': 1968, 'gori': 1969, 'blockbust': 1970, 'switch': 1971, 'solv': 1972, 'brook': 1973, 'joseph': 1974, 'victoria': 1975, 'convict': 1976, 'bullet': 1977, 'edward': 1978, 'virgin': 1979, 'scale': 1980, 'scenario': 1981, 'cynic': 1982, '0': 1983, 'alex': 1984, 'chosen': 1985, 'gut': 1986, 'com': 1987, 'outrag': 1988, 'sword': 1989, 'curs': 1990, 'wrap': 1991, 'screenwrit': 1992, 'juli': 1993, 'substanc': 1994, 'uk': 1995, 'driver': 1996, 'monkey': 1997, 'proper': 1998, 'court': 1999, 'indic': 2000, 'bird': 2001, 'par': 2002, 'remov': 2003, 'rental': 2004, 'grave': 2005, 'roy': 2006, 'advertis': 2007, 'consequ': 2008, 'inevit': 2009, 'loser': 2010, 'naiv': 2011, 'nanci': 2012, 'brave': 2013, 'fatal': 2014, 'slap': 2015, 'germani': 2016, 'invis': 2017, 'le': 2018, 'bridg': 2019, 'loui': 2020, 'provok': 2021, 'anger': 2022, 'footbal': 2023, 'ador': 2024, 'alcohol': 2025, 'chan': 2026, 'anderson': 2027, 'professor': 2028, 'stumbl': 2029, 'willi': 2030, 'ryan': 2031, 'patrick': 2032, '1930': 2033, 'assassin': 2034, 'bat': 2035, 'sharp': 2036, 'australian': 2037, 'eight': 2038, 'deni': 2039, 'cell': 2040, 'ape': 2041, 'refresh': 2042, 'lousi': 2043, 'heck': 2044, 'trilog': 2045, 'amateurish': 2046, 'saturday': 2047, 'liber': 2048, 'strongli': 2049, 'sin': 2050, 'vagu': 2051, 'resid': 2052, 'san': 2053, 'justifi': 2054, 'sympathi': 2055, 'defeat': 2056, 'creator': 2057, 'mini': 2058, 'reput': 2059, 'terrifi': 2060, 'indi': 2061, 'endur': 2062, 'task': 2063, 'tabl': 2064, 'prevent': 2065, 'tediou': 2066, 'expert': 2067, 'imit': 2068, 'trial': 2069, 'basebal': 2070, 'offend': 2071, 'employ': 2072, 'che': 2073, 'rival': 2074, 'complaint': 2075, 'dig': 2076, 'europ': 2077, 'weekend': 2078, 'beach': 2079, 'max': 2080, 'fairi': 2081, 'pitch': 2082, 'murphi': 2083, 'risk': 2084, 'format': 2085, 'purchas': 2086, 'bite': 2087, 'tini': 2088, 'powel': 2089, 'glimps': 2090, 'harsh': 2091, 'titan': 2092, 'reminisc': 2093, 'nois': 2094, 'hype': 2095, 'north': 2096, 'asleep': 2097, 'fals': 2098, 'prime': 2099, 'till': 2100, 'strip': 2101, '14': 2102, 'revel': 2103, 'africa': 2104, 'texa': 2105, 'destruct': 2106, 'descript': 2107, 'uninterest': 2108, 'surfac': 2109, 'sitcom': 2110, 'semi': 2111, 'inner': 2112, 'excess': 2113, 'spin': 2114, 'arrest': 2115, 'makeup': 2116, 'controversi': 2117, 'dinosaur': 2118, 'massiv': 2119, 'argu': 2120, 'twin': 2121, 'maintain': 2122, 'hitchcock': 2123, 'ideal': 2124, 'kim': 2125, 'expens': 2126, 'ludicr': 2127, 'reject': 2128, 'melodrama': 2129, 'stare': 2130, 'insist': 2131, 'host': 2132, 'columbo': 2133, 'nail': 2134, 'supernatur': 2135, 'atroci': 2136, 'subplot': 2137, 'press': 2138, 'erot': 2139, 'ala': 2140, 'ga': 2141, 'forest': 2142, 'notch': 2143, 'dude': 2144, 'presum': 2145, 'cant': 2146, 'identifi': 2147, 'plagu': 2148, 'forgett': 2149, 'method': 2150, 'character': 2151, 'closer': 2152, 'crude': 2153, 'guest': 2154, 'landscap': 2155, 'beast': 2156, 'lion': 2157, 'princess': 2158, 'border': 2159, 'foster': 2160, 'ear': 2161, 'damag': 2162, 'storytel': 2163, 'bound': 2164, 'jungl': 2165, 'aunt': 2166, 'previous': 2167, 'birth': 2168, 'pacino': 2169, 'urban': 2170, 'accus': 2171, 'jess': 2172, 'chose': 2173, 'guid': 2174, 'nude': 2175, 'doll': 2176, 'propaganda': 2177, 'thirti': 2178, 'emma': 2179, '25': 2180, 'whoever': 2181, 'pet': 2182, 'mate': 2183, 'mainstream': 2184, 'warrior': 2185, 'merit': 2186, 'friday': 2187, 'cooper': 2188, 'gritti': 2189, 'deadli': 2190, 'upset': 2191, 'poster': 2192, 'exact': 2193, 'size': 2194, 'latest': 2195, '1990': 2196, 'contact': 2197, 'blend': 2198, 'rough': 2199, 'ton': 2200, 'wilson': 2201, 'contest': 2202, 'settl': 2203, 'corps': 2204, 'warner': 2205, 'popul': 2206, 'sun': 2207, 'buff': 2208, 'citizen': 2209, 'pitt': 2210, 'bu': 2211, 'metal': 2212, 'mgm': 2213, 'select': 2214, 'rat': 2215, 'overcom': 2216, 'alic': 2217, 'environ': 2218, 'widow': 2219, 'guilti': 2220, 'link': 2221, 'revolut': 2222, 'lift': 2223, 'ted': 2224, 'particip': 2225, 'accompani': 2226, 'matrix': 2227, '1960': 2228, 'moron': 2229, 'prostitut': 2230, 'johnson': 2231, 'afternoon': 2232, 'corpor': 2233, 'exagger': 2234, 'corner': 2235, 'hood': 2236, 'doom': 2237, 'sincer': 2238, 'friendli': 2239, 'clair': 2240, 'instal': 2241, 'multipl': 2242, 'holm': 2243, 'leagu': 2244, 'examin': 2245, 'string': 2246, 'lugosi': 2247, 'grim': 2248, 'aka': 2249, 'advis': 2250, 'hip': 2251, 'sunday': 2252, 'defend': 2253, 'blah': 2254, 'junk': 2255, 'irish': 2256, 'campi': 2257, 'tight': 2258, 'icon': 2259, 'rachel': 2260, 'shut': 2261, 'shake': 2262, 'confid': 2263, 'varieti': 2264, 'pro': 2265, 'directli': 2266, 'goal': 2267, 'medic': 2268, 'denni': 2269, 'attach': 2270, 'sullivan': 2271, 'jaw': 2272, 'mexican': 2273, 'legendari': 2274, 'breast': 2275, 'truck': 2276, 'sentenc': 2277, 'duke': 2278, 'courag': 2279, 'prior': 2280, 'terrorist': 2281, 'dean': 2282, 'sarah': 2283, 'bourn': 2284, 'vietnam': 2285, 'proceed': 2286, 'nose': 2287, 'hong': 2288, 'entri': 2289, 'donald': 2290, 'behav': 2291, 'un': 2292, 'split': 2293, 'yell': 2294, 'unconvinc': 2295, 'borrow': 2296, 'swim': 2297, 'stolen': 2298, 'everywher': 2299, 'crush': 2300, 'concentr': 2301, 'jerk': 2302, 'confess': 2303, 'lifetim': 2304, 'buri': 2305, 'forth': 2306, 'gather': 2307, 'pan': 2308, 'turkey': 2309, 'deliveri': 2310, 'spite': 2311, 'lip': 2312, 'julia': 2313, 'california': 2314, 'reward': 2315, 'china': 2316, 'downright': 2317, 'hoffman': 2318, 'freeman': 2319, 'proud': 2320, 'offici': 2321, 'quest': 2322, 'flight': 2323, 'betray': 2324, 'jon': 2325, 'inept': 2326, 'worthwhil': 2327, 'fabul': 2328, 'fade': 2329, 'encourag': 2330, 'lazi': 2331, 'sir': 2332, 'jail': 2333, 'sink': 2334, 'notori': 2335, 'susan': 2336, 'shower': 2337, 'retard': 2338, 'imageri': 2339, 'lisa': 2340, 'branagh': 2341, 'survivor': 2342, 'bell': 2343, 'bag': 2344, 'cousin': 2345, 'teeth': 2346, 'storm': 2347, 'relev': 2348, 'trade': 2349, 'finger': 2350, 'hugh': 2351, 'quirki': 2352, 'stab': 2353, 'shark': 2354, 'alright': 2355, 'toler': 2356, 'tremend': 2357, 'mexico': 2358, 'facial': 2359, 'bride': 2360, 'summari': 2361, 'bitter': 2362, 'von': 2363, 'blown': 2364, 'pose': 2365, 'ha': 2366, 'hyster': 2367, 'larri': 2368, 'bone': 2369, 'ron': 2370, 'ned': 2371, 'cruel': 2372, 'afterward': 2373, 'christ': 2374, 'scheme': 2375, 'address': 2376, 'snake': 2377, 'beg': 2378, 'screw': 2379, 'distinct': 2380, 'tour': 2381, 'thumb': 2382, 'traci': 2383, 'swear': 2384, 'pursu': 2385, 'feed': 2386, 'chair': 2387, 'photo': 2388, 'stomach': 2389, 'occas': 2390, 'raw': 2391, 'mechan': 2392, 'obscur': 2393, 'hardi': 2394, 'necessarili': 2395, 'gruesom': 2396, 'resist': 2397, 'render': 2398, 'sidney': 2399, 'argument': 2400, 'holiday': 2401, 'southern': 2402, 'chain': 2403, 'heavili': 2404, 'cabin': 2405, 'indulg': 2406, 'philip': 2407, 'racist': 2408, 'india': 2409, 'satan': 2410, 'understood': 2411, 'midnight': 2412, 'outfit': 2413, 'pregnant': 2414, 'stalk': 2415, 'obnoxi': 2416, 'forgot': 2417, 'tongu': 2418, 'lay': 2419, 'integr': 2420, 'fourth': 2421, 'belov': 2422, 'inhabit': 2423, 'carol': 2424, 'garden': 2425, 'slapstick': 2426, 'deeper': 2427, 'restor': 2428, 'magazin': 2429, '17': 2430, 'ticket': 2431, 'incid': 2432, 'lincoln': 2433, 'brad': 2434, 'shoe': 2435, 'devot': 2436, 'divorc': 2437, 'maria': 2438, 'guarante': 2439, 'underground': 2440, 'lili': 2441, 'benefit': 2442, 'sandler': 2443, 'anticip': 2444, 'disbelief': 2445, 'elizabeth': 2446, 'explod': 2447, 'bbc': 2448, 'princip': 2449, 'greater': 2450, 'slave': 2451, 'creation': 2452, 'capit': 2453, 'cring': 2454, 'mildli': 2455, 'amazingli': 2456, 'extraordinari': 2457, 'halfway': 2458, 'introduct': 2459, 'lesli': 2460, 'funnier': 2461, 'wreck': 2462, 'punish': 2463, 'extent': 2464, 'advantag': 2465, 'enhanc': 2466, 'overwhelm': 2467, 'transfer': 2468, 'tap': 2469, 'text': 2470, 'jessica': 2471, 'horrif': 2472, 'lane': 2473, 'deliber': 2474, 'lo': 2475, 'east': 2476, 'dynam': 2477, 'preview': 2478, 'plant': 2479, 'error': 2480, 'ensu': 2481, 'basi': 2482, 'appli': 2483, 'homosexu': 2484, '2000': 2485, 'miscast': 2486, 'vacat': 2487, 'vincent': 2488, 'miller': 2489, 'sophist': 2490, 'uncomfort': 2491, 'mansion': 2492, 'elev': 2493, 'extend': 2494, 'measur': 2495, 'sleazi': 2496, 'reed': 2497, 'bollywood': 2498, 'spoken': 2499, 'via': 2500, 'steel': 2501, 'savag': 2502, 'blair': 2503, 'cathol': 2504, 'fix': 2505, 'alter': 2506, 'hippi': 2507, 'assign': 2508, 'beer': 2509, 'melt': 2510, 'breathtak': 2511, 'stanley': 2512, 'daili': 2513, 'goofi': 2514, 'overact': 2515, 'dentist': 2516, 'mous': 2517, 'conceiv': 2518, 'succe': 2519, 'subsequ': 2520, 'properli': 2521, 'sacrific': 2522, 'carpent': 2523, 'oppos': 2524, 'inspector': 2525, 'everyday': 2526, 'burt': 2527, 'nowaday': 2528, 'block': 2529, 'circl': 2530, 'massacr': 2531, 'laura': 2532, 'neck': 2533, 'fay': 2534, 'christi': 2535, 'mob': 2536, 'concert': 2537, 'lesser': 2538, 'grey': 2539, 'pool': 2540, 'fallen': 2541, 'access': 2542, 'portrait': 2543, 'seagal': 2544, 'isol': 2545, 'sinist': 2546, 'usa': 2547, 'chees': 2548, 'jake': 2549, 'relax': 2550, 'competit': 2551, 'jewish': 2552, 'react': 2553, 'nine': 2554, 'appal': 2555, 'immens': 2556, '2006': 2557, 'stink': 2558, 'ironi': 2559, 'chop': 2560, 'creep': 2561, 'nonetheless': 2562, 'spiritu': 2563, 'suitabl': 2564, 'lyric': 2565, 'sold': 2566, 'spring': 2567, 'nut': 2568, 'rage': 2569, 'reduc': 2570, 'adopt': 2571, 'retir': 2572, 'shirt': 2573, 'franchis': 2574, 'user': 2575, 'needless': 2576, 'navi': 2577, 'luci': 2578, 'showcas': 2579, 'uninspir': 2580, 'digit': 2581, 'asham': 2582, 'stanwyck': 2583, 'jay': 2584, 'bath': 2585, 'per': 2586, 'nurs': 2587, 'bulli': 2588, 'zone': 2589, 'amongst': 2590, 'upper': 2591, '2001': 2592, 'broadcast': 2593, 'oddli': 2594, 'illustr': 2595, '1940': 2596, 'laid': 2597, 'sutherland': 2598, 'brando': 2599, 'throat': 2600, 'stylish': 2601, 'fulfil': 2602, 'baker': 2603, 'aspir': 2604, 'disguis': 2605, 'pound': 2606, 'thief': 2607, 'nobl': 2608, 'pride': 2609, 'em': 2610, 'wwii': 2611, '18': 2612, 'endear': 2613, 'wanna': 2614, 'impli': 2615, 'neighborhood': 2616, 'bo': 2617, 'bett': 2618, 'tens': 2619, 'dinner': 2620, 'coher': 2621, 'shift': 2622, 'distribut': 2623, 'prop': 2624, 'diseas': 2625, 'albeit': 2626, 'shoulder': 2627, 'dawn': 2628, 'rochest': 2629, '16': 2630, 'cinematograph': 2631, 'silenc': 2632, 'contract': 2633, 'surf': 2634, 'wash': 2635, 'poignant': 2636, 'knife': 2637, 'matthau': 2638, 'function': 2639, 'rebel': 2640, 'forti': 2641, 'snow': 2642, 'shout': 2643, 'cancel': 2644, 'internet': 2645, 'reunion': 2646, 'derek': 2647, 'widmark': 2648, 'eeri': 2649, 'horrend': 2650, 'henc': 2651, 'proof': 2652, 'heat': 2653, 'height': 2654, 'cannib': 2655, 'mindless': 2656, 'duti': 2657, 'elvira': 2658, 'silver': 2659, 'instinct': 2660, 'chuck': 2661, 'glori': 2662, 'repetit': 2663, 'neat': 2664, 'mill': 2665, 'musician': 2666, 'etern': 2667, 'pie': 2668, 'greatli': 2669, 'absorb': 2670, 'premier': 2671, 'innov': 2672, 'incoher': 2673, 'elvi': 2674, 'torn': 2675, 'alik': 2676, 'spielberg': 2677, 'burton': 2678, 'fbi': 2679, 'wealthi': 2680, 'nelson': 2681, 'infam': 2682, 'britain': 2683, 'itali': 2684, 'homag': 2685, 'bang': 2686, 'trite': 2687, 'announc': 2688, 'horrifi': 2689, 'precis': 2690, 'redempt': 2691, 'blank': 2692, 'racism': 2693, 'diamond': 2694, 'lovabl': 2695, 'crisi': 2696, 'wilder': 2697, 'helen': 2698, 'parallel': 2699, 'happili': 2700, 'chaplin': 2701, 'pat': 2702, 'resolut': 2703, 'hammer': 2704, 'dedic': 2705, 'flop': 2706, 'ensembl': 2707, 'streisand': 2708, 'plastic': 2709, 'st': 2710, 'conclud': 2711, 'factori': 2712, 'oil': 2713, 'disagre': 2714, 'cube': 2715, 'triumph': 2716, 'mar': 2717, 'carter': 2718, 'broke': 2719, 'weight': 2720, 'vega': 2721, 'own': 2722, 'fighter': 2723, 'march': 2724, 'chuckl': 2725, 'climb': 2726, 'bush': 2727, 'row': 2728, 'rocket': 2729, 'sensibl': 2730, 'lust': 2731, 'kurt': 2732, 'dane': 2733, 'meaning': 2734, 'thug': 2735, 'boot': 2736, 'enorm': 2737, 'luca': 2738, 'spare': 2739, 'dump': 2740, 'mst3k': 2741, 'wherea': 2742, 'unforgett': 2743, 'arnold': 2744, 'difficulti': 2745, 'fifti': 2746, 'dear': 2747, 'threat': 2748, 'caricatur': 2749, 'bobbi': 2750, 'rap': 2751, 'engin': 2752, 'adequ': 2753, 'karloff': 2754, 'stress': 2755, 'brand': 2756, 'butt': 2757, 'elabor': 2758, 'hamlet': 2759, 'homeless': 2760, 'journalist': 2761, 'secretari': 2762, 'arrog': 2763, 'swing': 2764, 'ego': 2765, 'flynn': 2766, 'fest': 2767, 'polish': 2768, 'ralph': 2769, 'barri': 2770, 'conspiraci': 2771, 'arrang': 2772, 'tool': 2773, 'fanci': 2774, 'simpson': 2775, 'spike': 2776, 'grate': 2777, 'unbear': 2778, 'induc': 2779, 'puppet': 2780, 'resort': 2781, 'float': 2782, 'muppet': 2783, 'boll': 2784, 'guilt': 2785, 'pig': 2786, 'cruis': 2787, 'choreograph': 2788, 'tribut': 2789, 'phillip': 2790, 'exercis': 2791, 'basement': 2792, '24': 2793, 'fianc': 2794, 'item': 2795, 'medium': 2796, 'layer': 2797, 'ward': 2798, 'file': 2799, 'document': 2800, 'tower': 2801, 'stan': 2802, 'scarecrow': 2803, 'editor': 2804, 'puzzl': 2805, 'babe': 2806, 'korean': 2807, 'ham': 2808, 'slip': 2809, 'toilet': 2810, 'superfici': 2811, 'transit': 2812, 'denzel': 2813, 'catherin': 2814, 'portion': 2815, 'librari': 2816, 'spark': 2817, 'orient': 2818, 'doc': 2819, 'territori': 2820, 'minim': 2821, 'inexplic': 2822, 'philosoph': 2823, 'assur': 2824, 'glover': 2825, 'persona': 2826, 'slaughter': 2827, 'larger': 2828, 'dorothi': 2829, 'ban': 2830, 'wolf': 2831, 'pg': 2832, 'financi': 2833, 'sneak': 2834, 'walken': 2835, 'owe': 2836, 'curti': 2837, 'shi': 2838, 'boredom': 2839, 'jet': 2840, 'jeremi': 2841, 'ambigu': 2842, 'profound': 2843, 'metaphor': 2844, 'backdrop': 2845, 'cusack': 2846, 'hudson': 2847, 'eleph': 2848, 'whale': 2849, 'multi': 2850, 'union': 2851, 'rave': 2852, 'notion': 2853, 'gadget': 2854, 'viru': 2855, '2005': 2856, 'elsewher': 2857, 'birthday': 2858, 'stiff': 2859, 'hack': 2860, 'ultra': 2861, 'implaus': 2862, 'slight': 2863, 'distanc': 2864, 'eva': 2865, 'eastwood': 2866, 'hawk': 2867, 'bibl': 2868, 'disc': 2869, 'squar': 2870, 'reader': 2871, 'urg': 2872, 'afford': 2873, '1st': 2874, 'pad': 2875, 'canada': 2876, 'newspap': 2877, 'poison': 2878, 'lloyd': 2879, 'superhero': 2880, 'deriv': 2881, 'cure': 2882, 'drown': 2883, 'health': 2884, 'sadist': 2885, 'spread': 2886, 'restaur': 2887, 'montag': 2888, 'button': 2889, 'essenc': 2890, 'charisma': 2891, 'heston': 2892, 'huh': 2893, 'skit': 2894, 'maniac': 2895, 'gradual': 2896, 'estat': 2897, 'peak': 2898, 'dealt': 2899, 'scoobi': 2900, 'fetch': 2901, 'companion': 2902, 'lab': 2903, 'muslim': 2904, 'invest': 2905, 'godfath': 2906, 'ritter': 2907, 'servant': 2908, 'subtleti': 2909, 'kane': 2910, 'alli': 2911, 'countless': 2912, 'cup': 2913, 'tea': 2914, 'gothic': 2915, 'miik': 2916, 'iii': 2917, 'electr': 2918, 'elect': 2919, 'heroic': 2920, 'briefli': 2921, 'salli': 2922, 'charismat': 2923, 'tender': 2924, 'toss': 2925, 'bud': 2926, 'neil': 2927, 'cole': 2928, 'nuanc': 2929, 'wannab': 2930, 'grandmoth': 2931, 'admittedli': 2932, 'ingredi': 2933, 'reel': 2934, 'resourc': 2935, 'pauli': 2936, 'stronger': 2937, 'label': 2938, 'stood': 2939, 'pit': 2940, 'mafia': 2941, 'dawson': 2942, 'reev': 2943, 'mild': 2944, 'kubrick': 2945, 'shall': 2946, 'poverti': 2947, 'carrey': 2948, 'punk': 2949, 'gate': 2950, 'outcom': 2951, 'terri': 2952, 'fond': 2953, 'ian': 2954, 'useless': 2955, 'cardboard': 2956, 'burst': 2957, 'easier': 2958, 'updat': 2959, 'astair': 2960, 'cox': 2961, 'bakshi': 2962, 'tag': 2963, 'smash': 2964, 'assault': 2965, 'smooth': 2966, 'resolv': 2967, 'increasingli': 2968, 'vulner': 2969, 'exchang': 2970, 'qualifi': 2971, 'vari': 2972, 'fist': 2973, 'coincid': 2974, 'sketch': 2975, 'rex': 2976, 'divers': 2977, 'melodramat': 2978, '2002': 2979, 'samurai': 2980, 'conveni': 2981, 'scratch': 2982, 'brillianc': 2983, 'reynold': 2984, 'templ': 2985, 'insert': 2986, 'suspend': 2987, 'luckili': 2988, 'be': 2989, 'tame': 2990, 'blast': 2991, 'farm': 2992, 'seventi': 2993, 'matthew': 2994, 'strictli': 2995, 'jami': 2996, 'meat': 2997, 'pin': 2998, 'walker': 2999, 'hamilton': 3000, 'fisher': 3001, 'coach': 3002, 'gotta': 3003, 'nuclear': 3004, 'soprano': 3005, 'ambiti': 3006, 'monk': 3007, 'ninja': 3008, 'cave': 3009, 'revers': 3010, 'struck': 3011, 'discoveri': 3012, 'eccentr': 3013, 'butcher': 3014, 'instantli': 3015, 'empir': 3016, 'grasp': 3017, 'closet': 3018, 'joey': 3019, 'kudo': 3020, 'brosnan': 3021, 'spooki': 3022, 'recreat': 3023, 'convolut': 3024, 'timeless': 3025, 'worthless': 3026, 'clock': 3027, 'cliff': 3028, 'importantli': 3029, 'seller': 3030, 'bleak': 3031, 'miracl': 3032, 'communist': 3033, 'pal': 3034, 'norman': 3035, 'declar': 3036, 'sloppi': 3037, 'wipe': 3038, 'eighti': 3039, 'clown': 3040, 'inconsist': 3041, 'partli': 3042, 'evok': 3043, 'sidekick': 3044, 'selfish': 3045, 'mitchel': 3046, 'gray': 3047, 'fifteen': 3048, 'seed': 3049, 'piano': 3050, 'lifestyl': 3051, 'farc': 3052, 'australia': 3053, 'aforement': 3054, 'destin': 3055, 'ho': 3056, 'debat': 3057, 'superbl': 3058, 'cheek': 3059, 'websit': 3060, 'flawless': 3061, 'psychiatrist': 3062, 'enthusiast': 3063, 'stoog': 3064, '45': 3065, 'chew': 3066, 'dash': 3067, 'splatter': 3068, 'abc': 3069, 'dire': 3070, 'kitchen': 3071, 'pressur': 3072, 'anni': 3073, 'soviet': 3074, 'emili': 3075, 'akshay': 3076, 'wick': 3077, 'wrestl': 3078, 'incompet': 3079, 'regardless': 3080, 'bash': 3081, 'slice': 3082, 'directori': 3083, 'drivel': 3084, 'helicopt': 3085, 'dave': 3086, 'recov': 3087, 'beaten': 3088, 'cia': 3089, 'pleasantli': 3090, 'distant': 3091, 'boil': 3092, 'mann': 3093, 'duo': 3094, 'judi': 3095, 'seduc': 3096, 'flower': 3097, 'chapter': 3098, 'cagney': 3099, 'jar': 3100, 'prize': 3101, 'cameron': 3102, 'curios': 3103, 'glow': 3104, 'doo': 3105, 'increas': 3106, 'ken': 3107, 'blob': 3108, 'suppli': 3109, 'lou': 3110, 'artifici': 3111, 'splendid': 3112, 'eleg': 3113, 'goldberg': 3114, 'ranger': 3115, 'psychot': 3116, 'combat': 3117, 'perri': 3118, 'panic': 3119, 'francisco': 3120, 'craven': 3121, 'laurel': 3122, 'craig': 3123, 'glenn': 3124, 'web': 3125, 'favour': 3126, 'drunken': 3127, 'ellen': 3128, 'turner': 3129, 'hop': 3130, 'rid': 3131, 'graduat': 3132, '20th': 3133, 'shortli': 3134, 'falk': 3135, 'modesti': 3136, 'gentl': 3137, 'slightest': 3138, 'philosophi': 3139, 'min': 3140, 'fx': 3141, 'plausibl': 3142, 'ruth': 3143, 'wizard': 3144, 'hatr': 3145, 'flip': 3146, 'alexand': 3147, 'greek': 3148, 'gandhi': 3149, 'futurist': 3150, 'jealou': 3151, 'knight': 3152, 'felix': 3153, 'ocean': 3154, 'unpleas': 3155, 'legal': 3156, 'fund': 3157, 'holi': 3158, 'harm': 3159, 'dracula': 3160, 'manhattan': 3161, 'tall': 3162, 'lend': 3163, 'preciou': 3164, 'we': 3165, 'ami': 3166, 'explicit': 3167, 'forbidden': 3168, 'tank': 3169, 'scientif': 3170, 'mock': 3171, 'giallo': 3172, 'thread': 3173, 'reviv': 3174, 'nod': 3175, 'overdon': 3176, 'digniti': 3177, 'bless': 3178, 'childish': 3179, 'pirat': 3180, 'elderli': 3181, 'verhoeven': 3182, 'margaret': 3183, 'broad': 3184, 'awaken': 3185, 'fever': 3186, 'nerv': 3187, 'eve': 3188, '99': 3189, '2004': 3190, 'awe': 3191, 'yesterday': 3192, 'repeatedli': 3193, 'mel': 3194, 'thick': 3195, 'torment': 3196, 'unwatch': 3197, 'launch': 3198, 'absenc': 3199, 'politician': 3200, 'automat': 3201, 'custom': 3202, 'ambit': 3203, 'rivet': 3204, 'eas': 3205, 'uniform': 3206, 'bin': 3207, 'lean': 3208, 'timothi': 3209, 'roman': 3210, 'publish': 3211, 'stiller': 3212, 'acclaim': 3213, 'ah': 3214, 'romero': 3215, 'kay': 3216, 'royal': 3217, 'griffith': 3218, 'sunshin': 3219, 'antic': 3220, 'tomato': 3221, 'stinker': 3222, 'gabriel': 3223, 'pulp': 3224, 'crook': 3225, 'warren': 3226, 'bathroom': 3227, 'termin': 3228, 'phrase': 3229, 'wallac': 3230, 'foul': 3231, 'homicid': 3232, 'darker': 3233, 'purpl': 3234, 'pierc': 3235, 'transport': 3236, 'saint': 3237, 'evolv': 3238, 'karen': 3239, 'contrari': 3240, 'pray': 3241, 'viciou': 3242, 'album': 3243, 'packag': 3244, 'marin': 3245, 'revolutionari': 3246, 'brazil': 3247, 'q': 3248, 'awak': 3249, 'rambo': 3250, 'kenneth': 3251, 'donna': 3252, 'eyr': 3253, 'hollow': 3254, 'ought': 3255, 'li': 3256, 'prom': 3257, 'choreographi': 3258, 'sixti': 3259, 'coloni': 3260, 'juvenil': 3261, 'horrid': 3262, '2003': 3263, 'boast': 3264, 'dose': 3265, 'ramon': 3266, 'ireland': 3267, 'mildr': 3268, 'nerd': 3269, 'stole': 3270, 'conserv': 3271, 'kapoor': 3272, 'option': 3273, 'overr': 3274, 'blade': 3275, 'beatti': 3276, 'twelv': 3277, 'mummi': 3278, 'candid': 3279, 'defi': 3280, 'trio': 3281, 'kirk': 3282, 'protest': 3283, 'astonish': 3284, 'detract': 3285, 'flame': 3286, 'fulci': 3287, 'natali': 3288, 'jazz': 3289, 'collabor': 3290, 'global': 3291, 'confirm': 3292, 'altman': 3293, 'funer': 3294, 'destini': 3295, 'racial': 3296, 'delici': 3297, 'enterpris': 3298, 'leap': 3299, 'shade': 3300, 'nicholson': 3301, 'blake': 3302, 'yellow': 3303, 'bull': 3304, 'tommi': 3305, 'audio': 3306, 'whip': 3307, 'spit': 3308, 'bottl': 3309, 'mystic': 3310, 'harder': 3311, 'bedroom': 3312, 'visibl': 3313, 'vivid': 3314, 'reunit': 3315, 'inherit': 3316, 'neo': 3317, 'swedish': 3318, 'meaningless': 3319, 'popcorn': 3320, 'threw': 3321, 'adolesc': 3322, 'fonda': 3323, 'pseudo': 3324, 'todd': 3325, 'staff': 3326, 'merci': 3327, 'enchant': 3328, 'altogeth': 3329, 'leonard': 3330, 'crocodil': 3331, 'moodi': 3332, 'lawrenc': 3333, 'jew': 3334, 'tip': 3335, 'voight': 3336, 'roommat': 3337, 'synopsi': 3338, 'madonna': 3339, 'lemmon': 3340, 'respond': 3341, 'atlanti': 3342, 'decor': 3343, 'suspici': 3344, 'kennedi': 3345, 'bust': 3346, 'uneven': 3347, 'exhibit': 3348, 'wire': 3349, 'await': 3350, 'fanat': 3351, 'edi': 3352, 'reserv': 3353, 'ruthless': 3354, 'befriend': 3355, 'bold': 3356, 'bradi': 3357, 'holli': 3358, 'centr': 3359, 'dimens': 3360, 'rural': 3361, '2007': 3362, 'voyag': 3363, 'unsettl': 3364, 'abysm': 3365, 'audit': 3366, 'carl': 3367, 'ventur': 3368, 'clumsi': 3369, 'clint': 3370, 'chao': 3371, 'garner': 3372, 'incident': 3373, 'palma': 3374, 'bargain': 3375, 'neglect': 3376, 'timon': 3377, 'cuba': 3378, 'acknowledg': 3379, 'echo': 3380, 'wealth': 3381, 'characterist': 3382, 'daddi': 3383, 'cari': 3384, 'cd': 3385, 'elimin': 3386, 'versu': 3387, 'humili': 3388, 'hart': 3389, 'imperson': 3390, 'tiger': 3391, '2nd': 3392, 'immigr': 3393, 'lit': 3394, 'nearbi': 3395, 'ant': 3396, 'mall': 3397, 'trail': 3398, 'troop': 3399, 'poetic': 3400, 'mickey': 3401, 'domest': 3402, 'infect': 3403, 'paus': 3404, 'collaps': 3405, 'homer': 3406, 'jeffrey': 3407, 'pun': 3408, 'prejudic': 3409, 'saga': 3410, 'marshal': 3411, 'repuls': 3412, 'mistaken': 3413, 'celluloid': 3414, 'solo': 3415, 'cake': 3416, 'gear': 3417, 'hbo': 3418, 'tribe': 3419, 'promin': 3420, 'equip': 3421, 'inan': 3422, 'assembl': 3423, 'undoubtedli': 3424, 'leon': 3425, 'ginger': 3426, 'coat': 3427, 'chest': 3428, 'olivi': 3429, 'inappropri': 3430, 'interrupt': 3431, 'coffe': 3432, '1996': 3433, 'milk': 3434, 'apolog': 3435, 'harvey': 3436, 'pant': 3437, 'sore': 3438, 'brooklyn': 3439, 'aveng': 3440, 'maggi': 3441, 'pot': 3442, 'highest': 3443, 'devast': 3444, 'vulgar': 3445, 'exot': 3446, 'airplan': 3447, 'retain': 3448, 'primari': 3449, 'colonel': 3450, 'embrac': 3451, 'instant': 3452, 'solut': 3453, 'jenni': 3454, 'colleagu': 3455, 'institut': 3456, 'polanski': 3457, 'humbl': 3458, 'consum': 3459, 'furthermor': 3460, 'pen': 3461, 'florida': 3462, 'trace': 3463, 'smaller': 3464, '1999': 3465, 'cope': 3466, 'seduct': 3467, 'bowl': 3468, 'rick': 3469, 'strain': 3470, 'gender': 3471, 'illog': 3472, 'descend': 3473, 'principl': 3474, 'dian': 3475, 'dutch': 3476, 'ya': 3477, 'outer': 3478, 'godzilla': 3479, 'poke': 3480, 'wive': 3481, '3rd': 3482, 'disabl': 3483, 'linda': 3484, 'sale': 3485, 'yard': 3486, 'rabbit': 3487, 'beneath': 3488, 'glamor': 3489, 'scope': 3490, 'gundam': 3491, 'lol': 3492, 'inferior': 3493, 'vast': 3494, 'mixtur': 3495, 'cue': 3496, 'hal': 3497, 'devoid': 3498, 'dud': 3499, 'bubbl': 3500, 'blatant': 3501, 'primarili': 3502, 'gloriou': 3503, 'predecessor': 3504, 'secondli': 3505, 'dive': 3506, 'garbo': 3507, 'shelf': 3508, 'countrysid': 3509, 'hideou': 3510, 'z': 3511, 'museum': 3512, 'domino': 3513, 'aggress': 3514, 'disjoint': 3515, 'april': 3516, 'myer': 3517, 'casual': 3518, 'arab': 3519, 'shirley': 3520, 'talki': 3521, 'alfr': 3522, 'simplist': 3523, 'et': 3524, 'trademark': 3525, 'alert': 3526, 'senseless': 3527, 'streep': 3528, 'pearl': 3529, 'grinch': 3530, 'breed': 3531, 'invas': 3532, 'applaud': 3533, 'stack': 3534, 'hardcor': 3535, 'loyal': 3536, 'stir': 3537, 'mail': 3538, 'slide': 3539, 'obtain': 3540, 'robberi': 3541, 'oz': 3542, 'illeg': 3543, 'hopeless': 3544, 'maci': 3545, 'khan': 3546, 'sh': 3547, 'mayor': 3548, 'stellar': 3549, 'vanish': 3550, 'boom': 3551, 'rendit': 3552, 'unhappi': 3553, 'disgrac': 3554, 'acid': 3555, 'robinson': 3556, 'experiment': 3557, 'uwe': 3558, 'defens': 3559, 'hartley': 3560, 'fri': 3561, 'counter': 3562, 'diana': 3563, 'dismiss': 3564, 'tempt': 3565, 'rifl': 3566, 'declin': 3567, 'spider': 3568, 'blew': 3569, 'span': 3570, 'emphasi': 3571, 'incomprehens': 3572, 'amanda': 3573, 'scroog': 3574, 'dicken': 3575, 'tenant': 3576, 'wont': 3577, 'recruit': 3578, 'psychic': 3579, 'craze': 3580, 'grandfath': 3581, 'topless': 3582, 'berlin': 3583, 'soccer': 3584, 'shaw': 3585, 'resurrect': 3586, 'trashi': 3587, 'faster': 3588, 'niro': 3589, 'bitch': 3590, 'woo': 3591, 'ration': 3592, 'ethnic': 3593, 'intim': 3594, 'sympath': 3595, 'justin': 3596, 'lumet': 3597, 'parad': 3598, 'shed': 3599, 'riot': 3600, 'revolt': 3601, 'sibl': 3602, 'wet': 3603, 'goer': 3604, 'porno': 3605, 'hesit': 3606, 'wendi': 3607, 'region': 3608, 'commend': 3609, 'hopper': 3610, 'wheel': 3611, 'feminist': 3612, 'eager': 3613, '00': 3614, 'weakest': 3615, 'unreal': 3616, 'worm': 3617, 'lena': 3618, 'dealer': 3619, 'honesti': 3620, 'patriot': 3621, 'steam': 3622, 'partial': 3623, 'slick': 3624, 'mario': 3625, 'nephew': 3626, 'choru': 3627, 'rider': 3628, 'farmer': 3629, 'andr': 3630, 'jonathan': 3631, 'biographi': 3632, 'enlighten': 3633, 'ballet': 3634, 'ensur': 3635, 'immort': 3636, 'gap': 3637, 'macarthur': 3638, 'mutant': 3639, 'charlott': 3640, 'franco': 3641, 'kingdom': 3642, 'owen': 3643, 'morri': 3644, 'vice': 3645, 'confin': 3646, 'wore': 3647, 'safeti': 3648, 'prequel': 3649, 'sappi': 3650, 'hung': 3651, 'properti': 3652, 'repress': 3653, 'blunt': 3654, 'psychopath': 3655, 'composit': 3656, 'nostalg': 3657, 'similarli': 3658, 'leo': 3659, 'victori': 3660, 'skull': 3661, 'snap': 3662, 'sandra': 3663, 'util': 3664, 'snl': 3665, 'tad': 3666, 'compass': 3667, 'del': 3668, 'rambl': 3669, 'bumbl': 3670, 'rocki': 3671, 'bergman': 3672, 'compens': 3673, 'dalton': 3674, 'whoopi': 3675, 'despair': 3676, 'valuabl': 3677, 'strand': 3678, 'hyde': 3679, 'speci': 3680, 'latin': 3681, 'exit': 3682, 'acquir': 3683, 'bow': 3684, 'kyle': 3685, 'tail': 3686, 'nervou': 3687, 'campbel': 3688, 'miseri': 3689, 'heartbreak': 3690, 'drum': 3691, 'bonu': 3692, 'farrel': 3693, '1972': 3694, 'deed': 3695, 'repli': 3696, 'recycl': 3697, 'thru': 3698, 'emperor': 3699, 'pattern': 3700, 'drain': 3701, 'dust': 3702, 'rope': 3703, 'montana': 3704, 'cg': 3705, 'bleed': 3706, 'rotten': 3707, 'olli': 3708, 'orson': 3709, 'gal': 3710, 'rapist': 3711, 'mistress': 3712, 'radic': 3713, '35': 3714, 'gimmick': 3715, 'wacki': 3716, 'romp': 3717, 'roth': 3718, 'contempl': 3719, 'chess': 3720, 'downhil': 3721, 'oppress': 3722, 'tonight': 3723, 'percept': 3724, 'carradin': 3725, 'pour': 3726, 'airport': 3727, 'martian': 3728, 'slug': 3729, 'da': 3730, 'mislead': 3731, 'belt': 3732, 'preach': 3733, 'paltrow': 3734, 'dazzl': 3735, 'shelley': 3736, 'tooth': 3737, 'banal': 3738, 'pervert': 3739, 'pursuit': 3740, 'attorney': 3741, 'champion': 3742, 'arc': 3743, 'heal': 3744, 'edgar': 3745, 'melodi': 3746, 'tackl': 3747, '1983': 3748, 'taught': 3749, 'stilt': 3750, 'unpredict': 3751, 'slash': 3752, 'arguabl': 3753, 'pervers': 3754, 'programm': 3755, 'vocal': 3756, 'cleverli': 3757, 'tiresom': 3758, 'employe': 3759, 'passeng': 3760, 'bela': 3761, 'maid': 3762, 'graham': 3763, 'conneri': 3764, 'plight': 3765, 'gambl': 3766, 'virginia': 3767, 'duval': 3768, 'chicken': 3769, 'uplift': 3770, 'sensat': 3771, 'raymond': 3772, 'franki': 3773, 'marti': 3774, 'poem': 3775, 'closest': 3776, 'mesmer': 3777, 'orang': 3778, 'vengeanc': 3779, 'rubi': 3780, 'dixon': 3781, 'calm': 3782, 'secretli': 3783, 'swallow': 3784, 'pokemon': 3785, 'scottish': 3786, 'outing': 3787, 'amitabh': 3788, 'monologu': 3789, 'mute': 3790, 'quarter': 3791, 'numb': 3792, 'extens': 3793, 'climact': 3794, 'suffic': 3795, 'habit': 3796, 'convincingli': 3797, 'giggl': 3798, 'paranoia': 3799, 'crystal': 3800, 'tube': 3801, 'abraham': 3802, 'clone': 3803, '1968': 3804, 'volum': 3805, 'gerard': 3806, 'iran': 3807, 'whine': 3808, 'engross': 3809, 'inject': 3810, 'bay': 3811, 'lundgren': 3812, 'yawn': 3813, 'sirk': 3814, 'profan': 3815, 'austen': 3816, 'chicago': 3817, 'plod': 3818, 'profess': 3819, 'richardson': 3820, 'earl': 3821, 'bend': 3822, 'lowest': 3823, 'frankenstein': 3824, 'grotesqu': 3825, 'septemb': 3826, 'linger': 3827, 'im': 3828, 'underst': 3829, 'taxi': 3830, 'nichola': 3831, 'trend': 3832, 'junior': 3833, 'ethan': 3834, 'fed': 3835, 'backward': 3836, 'dispos': 3837, 'surpass': 3838, 'meander': 3839, 'spock': 3840, 'expand': 3841, 'abort': 3842, 'franci': 3843, 'poetri': 3844, 'spoke': 3845, 'tourist': 3846, 'simplic': 3847, 'dysfunct': 3848, 'myth': 3849, 'greedi': 3850, 'instrument': 3851, 'hum': 3852, 'lure': 3853, 'nostalgia': 3854, 'der': 3855, 'mundan': 3856, 'literatur': 3857, 'household': 3858, 'stallon': 3859, 'sue': 3860, 'descent': 3861, 'catchi': 3862, 'muddl': 3863, 'cannon': 3864, 'eugen': 3865, 'waitress': 3866, 'compliment': 3867, 'rubber': 3868, 'econom': 3869, 'rant': 3870, 'phantom': 3871, 'carel': 3872, 'dement': 3873, 'recognis': 3874, 'louis': 3875, 'insur': 3876, 'eaten': 3877, 'occupi': 3878, 'alongsid': 3879, 'omen': 3880, 'recognit': 3881, 'damon': 3882, 'sissi': 3883, 'stale': 3884, 'irrelev': 3885, 'duck': 3886, 'deaf': 3887, 'dictat': 3888, 'mortal': 3889, 'lang': 3890, 'cent': 3891, 'randi': 3892, 'firstli': 3893, 'coast': 3894, 'equival': 3895, 'phoni': 3896, 'june': 3897, 'bacal': 3898, 'crucial': 3899, 'hello': 3900, 'flee': 3901, 'mankind': 3902, 'molli': 3903, 'furi': 3904, 'map': 3905, 'rude': 3906, 'antwon': 3907, 'onlin': 3908, 'ashley': 3909, 'blackmail': 3910, 'dreari': 3911, 'biko': 3912, 'labor': 3913, '1973': 3914, 'lengthi': 3915, 'distinguish': 3916, 'bike': 3917, 'loyalti': 3918, 'twilight': 3919, 'buffalo': 3920, 'daisi': 3921, 'damm': 3922, 'wisdom': 3923, 'grayson': 3924, 'reign': 3925, 'drake': 3926, 'newli': 3927, 'bump': 3928, 'likewis': 3929, 'freez': 3930, 'heel': 3931, 'cyborg': 3932, 'rooney': 3933, 'ridden': 3934, 'barrymor': 3935, 'incorpor': 3936, 'sailor': 3937, 'analysi': 3938, 'exposur': 3939, 'vein': 3940, 'keith': 3941, 'boxer': 3942, 'chronicl': 3943, 'nineti': 3944, 'butler': 3945, 'attribut': 3946, 'startl': 3947, 'baddi': 3948, 'provoc': 3949, 'proce': 3950, 'prey': 3951, 'approv': 3952, 'emphas': 3953, 'unorigin': 3954, 'basketbal': 3955, 'worn': 3956, 'tunnel': 3957, 'interior': 3958, 'inher': 3959, 'pink': 3960, 'unrel': 3961, 'meg': 3962, 'carla': 3963, 'barrel': 3964, 'othello': 3965, 'drift': 3966, 'walsh': 3967, 'degrad': 3968, 'simmon': 3969, 'substitut': 3970, 'mighti': 3971, 'hypnot': 3972, 'indiffer': 3973, 'stalker': 3974, 'robbin': 3975, 'meyer': 3976, 'underli': 3977, 'mormon': 3978, 'belushi': 3979, 'julian': 3980, 'predat': 3981, 'er': 3982, 'undeni': 3983, 'condemn': 3984, 'millionair': 3985, 'elm': 3986, 'nicol': 3987, 'bunni': 3988, 'improvis': 3989, 'fleet': 3990, 'palac': 3991, 'firm': 3992, 'rukh': 3993, 'errol': 3994, 'alison': 3995, 'enthusiasm': 3996, 'novak': 3997, 'alarm': 3998, 'mtv': 3999, 'nyc': 4000, 'exquisit': 4001, 'vital': 4002, 'unawar': 4003, 'shove': 4004, 'lampoon': 4005, 'dolph': 4006, 'hay': 4007, 'edgi': 4008, '3d': 4009, 'roof': 4010, 'marion': 4011, 'greed': 4012, 'disord': 4013, 'reid': 4014, 'watson': 4015, 'agenda': 4016, 'warmth': 4017, 'priceless': 4018, 'eastern': 4019, 'drip': 4020, 'beatl': 4021, 'israel': 4022, 'simultan': 4023, 'angela': 4024, 'testament': 4025, 'petti': 4026, 'profit': 4027, 'orlean': 4028, 'nun': 4029, 'gestur': 4030, 'peck': 4031, 'spain': 4032, 'showdown': 4033, 'campaign': 4034, 'unleash': 4035, 'session': 4036, '13th': 4037, 'ponder': 4038, 'championship': 4039, 'crown': 4040, 'zizek': 4041, 'preserv': 4042, 'sergeant': 4043, 'minimum': 4044, 'randomli': 4045, 'glanc': 4046, 'thompson': 4047, 'distort': 4048, 'cassidi': 4049, 'coup': 4050, 'peril': 4051, 'valentin': 4052, '1933': 4053, 'iraq': 4054, 'pamela': 4055, 'what': 4056, 'miyazaki': 4057, 'crow': 4058, 'restrain': 4059, 'din': 4060, 'wig': 4061, 'kurosawa': 4062, 'brenda': 4063, 'buster': 4064, 'contradict': 4065, 'stake': 4066, 'reson': 4067, 'quinn': 4068, '1984': 4069, 'realm': 4070, 'calib': 4071, 'scotland': 4072, 'climat': 4073, 'perpetu': 4074, 'regist': 4075, 'represent': 4076, 'shootout': 4077, 'empathi': 4078, 'stroke': 4079, 'jan': 4080, 'bro': 4081, 'sabrina': 4082, 'travesti': 4083, 'crawl': 4084, 'cream': 4085, 'han': 4086, 'cooki': 4087, 'rout': 4088, 'valley': 4089, 'exposit': 4090, 'gentleman': 4091, 'mon': 4092, 'fido': 4093, 'unimagin': 4094, 'derang': 4095, 'warrant': 4096, 'censor': 4097, 'unsatisfi': 4098, 'greg': 4099, 'pole': 4100, 'wax': 4101, 'darren': 4102, 'demis': 4103, 'sucker': 4104, 'stargat': 4105, 'tacki': 4106, 'baldwin': 4107, '1987': 4108, 'sammi': 4109, 'fuller': 4110, 'ross': 4111, 'ustinov': 4112, 'crawford': 4113, 'businessman': 4114, 'josh': 4115, 'unseen': 4116, 'delic': 4117, 'absent': 4118, 'shaki': 4119, 'pretens': 4120, 'soderbergh': 4121, 'perceiv': 4122, 'painter': 4123, 'compromis': 4124, '1997': 4125, 'monoton': 4126, 'femm': 4127, 'distress': 4128, 'cloud': 4129, 'shoddi': 4130, 'geek': 4131, 'traumat': 4132, 'abomin': 4133, 'dana': 4134, 'meryl': 4135, 'mclaglen': 4136, 'spacey': 4137, 'passabl': 4138, 'seal': 4139, 'exclus': 4140, 'reluct': 4141, 'unravel': 4142, 'primit': 4143, 'norm': 4144, 'kumar': 4145, 'austin': 4146, 'tech': 4147, 'expedit': 4148, 'uncov': 4149, 'verbal': 4150, 'deceas': 4151, 'judgment': 4152, 'valid': 4153, 'correctli': 4154, 'click': 4155, 'deniro': 4156, 'clash': 4157, 'antonioni': 4158, '1993': 4159, 'furiou': 4160, 'anchor': 4161, 'tarantino': 4162, 'nathan': 4163, 'polici': 4164, 'fenc': 4165, 'jewel': 4166, 'wholli': 4167, 'sid': 4168, 'accuraci': 4169, 'dee': 4170, 'fog': 4171, 'nicola': 4172, 'seldom': 4173, 'fought': 4174, '1995': 4175, 'wretch': 4176, 'darn': 4177, 'murray': 4178, '1971': 4179, 'roller': 4180, 'behold': 4181, 'sustain': 4182, 'conduct': 4183, 'sunni': 4184, 'sheet': 4185, 'shanghai': 4186, 'mode': 4187, 'unfair': 4188, 'sand': 4189, 'patienc': 4190, 'fart': 4191, 'fabric': 4192, 'crippl': 4193, 'vanc': 4194, '2008': 4195, 'alec': 4196, 'enforc': 4197, 'debt': 4198, 'joel': 4199, 'slam': 4200, 'trait': 4201, 'hallucin': 4202, '3000': 4203, 'pocket': 4204, 'temper': 4205, 'wang': 4206, 'clerk': 4207, 'bake': 4208, 'dreck': 4209, 'tax': 4210, 'malon': 4211, 'ritual': 4212, 'logan': 4213, 'pete': 4214, 'despis': 4215, 'rita': 4216, 'conscious': 4217, 'stark': 4218, 'runner': 4219, 'robber': 4220, 'sweep': 4221, 'penni': 4222, 'divid': 4223, 'stuart': 4224, 'preston': 4225, 'soup': 4226, 'helpless': 4227, 'fundament': 4228, 'canyon': 4229, 'exhaust': 4230, 'squad': 4231, 'phil': 4232, 'preposter': 4233, 'bias': 4234, 'guitar': 4235, 'schedul': 4236, 'outlin': 4237, 'clau': 4238, 'technicolor': 4239, 'scriptwrit': 4240, 'grief': 4241, 'isabel': 4242, 'critiqu': 4243, 'legaci': 4244, 'tactic': 4245, 'shell': 4246, 'bridget': 4247, 'gregori': 4248, 'sentinel': 4249, 'consciou': 4250, 'rehash': 4251, 'jacket': 4252, 'palanc': 4253, 'implic': 4254, 'newman': 4255, 'connor': 4256, 'cigarett': 4257, 'lacklust': 4258, 'sugar': 4259, 'flair': 4260, 'liberti': 4261, 'passag': 4262, 'marc': 4263, 'agenc': 4264, 'vomit': 4265, 'downey': 4266, 'sniper': 4267, 'bloom': 4268, 'alicia': 4269, 'delv': 4270, 'unexpectedli': 4271, 'invad': 4272, 'inabl': 4273, 'rear': 4274, 'alley': 4275, 'culmin': 4276, 'jodi': 4277, 'russia': 4278, 'restrict': 4279, 'boyl': 4280, 'kansa': 4281, 'drove': 4282, 'propos': 4283, 'feat': 4284, 'horn': 4285, 'wrench': 4286, 'rod': 4287, 'rampag': 4288, 'ladder': 4289, 'chainsaw': 4290, 'vet': 4291, 'asylum': 4292, 'rehears': 4293, 'delet': 4294, '1936': 4295, 'awhil': 4296, 'karl': 4297, 'sharon': 4298, 'yeti': 4299, 'aesthet': 4300, 'behaviour': 4301, 'tendenc': 4302, 'arrow': 4303, 'lush': 4304, 'kolchak': 4305, '22': 4306, 'pale': 4307, 'mccoy': 4308, 'cap': 4309, 'bacon': 4310, 'improb': 4311, 'tripe': 4312, 'foxx': 4313, 'paradis': 4314, 'minu': 4315, 'loneli': 4316, 'aristocrat': 4317, 'tasteless': 4318, 'suspicion': 4319, 'prank': 4320, 'amazon': 4321, '1978': 4322, 'coaster': 4323, 'spice': 4324, 'hungri': 4325, 'financ': 4326, 'hulk': 4327, 'elit': 4328, 'scoop': 4329, 'stream': 4330, '19th': 4331, 'conscienc': 4332, 'rumor': 4333, 'suffici': 4334, 'basing': 4335, 'weav': 4336, 'tomorrow': 4337, '1988': 4338, 'sung': 4339, 'filler': 4340, 'globe': 4341, 'rhythm': 4342, 'visitor': 4343, 'wagner': 4344, '1920': 4345, 'wildli': 4346, 'paramount': 4347, 'hackney': 4348, 'thunderbird': 4349, 'lurk': 4350, 'fright': 4351, 'underneath': 4352, 'newcom': 4353, 'shortcom': 4354, 'el': 4355, 'atroc': 4356, 'heist': 4357, 'choppi': 4358, 'dirt': 4359, 'standout': 4360, 'springer': 4361, 'entranc': 4362, 'quietli': 4363, 'chamberlain': 4364, 'penn': 4365, 'recogniz': 4366, 'bread': 4367, 'iv': 4368, 'hopkin': 4369, 'beverli': 4370, 'impos': 4371, 'immers': 4372, 'wwe': 4373, 'abrupt': 4374, 'posey': 4375, 'grudg': 4376, 'curli': 4377, 'literari': 4378, 'couch': 4379, 'secondari': 4380, 'naughti': 4381, 'brit': 4382, '75': 4383, 'inmat': 4384, '1989': 4385, 'en': 4386, 'worship': 4387, 'straightforward': 4388, 'tierney': 4389, 'lectur': 4390, 'paxton': 4391, 'cancer': 4392, 'smell': 4393, 'teas': 4394, 'chavez': 4395, 'rub': 4396, 'counterpart': 4397, 'minist': 4398, '1939': 4399, 'leigh': 4400, 'ingeni': 4401, 'ram': 4402, 'injuri': 4403, 'quaid': 4404, 'geni': 4405, 'esther': 4406, 'bernard': 4407, 'watcher': 4408, 'sassi': 4409, 'policeman': 4410, 'nemesi': 4411, 'variat': 4412, 'lindsay': 4413, 'skeptic': 4414, 'ratso': 4415, 'missil': 4416, '1986': 4417, 'heartfelt': 4418, 'sublim': 4419, 'ace': 4420, 'yearn': 4421, 'transcend': 4422, 'moreov': 4423, 'attenborough': 4424, 'clan': 4425, 'morbid': 4426, 'convert': 4427, 'net': 4428, 'misguid': 4429, 'entitl': 4430, 'laurenc': 4431, 'cattl': 4432, 'nolan': 4433, 'enthral': 4434, 'duel': 4435, 'characteris': 4436, 'youngest': 4437, 'out': 4438, 'unexplain': 4439, 'egg': 4440, 'bean': 4441, 'poe': 4442, 'obstacl': 4443, 'steadi': 4444, 'puppi': 4445, 'reliabl': 4446, 'brood': 4447, 'spiral': 4448, 'mytholog': 4449, 'artsi': 4450, 'graini': 4451, 'rosemari': 4452, 'hk': 4453, 'setup': 4454, 'buzz': 4455, 'diari': 4456, 'grin': 4457, 'kidman': 4458, 'vader': 4459, 'cruelti': 4460, 'uncut': 4461, 'tyler': 4462, 'kitti': 4463, 'facil': 4464, '1979': 4465, 'dont': 4466, 'hopelessli': 4467, 'carlito': 4468, 'enabl': 4469, 'bye': 4470, 'moder': 4471, 'bounc': 4472, 'bewar': 4473, 'heap': 4474, 'hain': 4475, 'niec': 4476, 'sweat': 4477, 'christin': 4478, 'brendan': 4479, 'hammi': 4480, 'baffl': 4481, 'weather': 4482, 'disastr': 4483, 'spontan': 4484, 'oblig': 4485, 'athlet': 4486, 'effici': 4487, 'fuel': 4488, 'martha': 4489, 'exterior': 4490, 'narrow': 4491, 'decept': 4492, 'preming': 4493, 'despic': 4494, '1969': 4495, 'acquaint': 4496, 'patricia': 4497, 'gina': 4498, 'clueless': 4499, 'gillian': 4500, 'underworld': 4501, 'bronson': 4502, 'kline': 4503, 'preachi': 4504, 'fontain': 4505, 'renaiss': 4506, '73': 4507, 'injur': 4508, 'outlaw': 4509, 'angst': 4510, 'viewpoint': 4511, 'mermaid': 4512, 'harmless': 4513, 'loi': 4514, 'housewif': 4515, 'candl': 4516, 'uh': 4517, 'enlist': 4518, 'loath': 4519, 'mayhem': 4520, 'trigger': 4521, 'virtu': 4522, 'taboo': 4523, 'tick': 4524, 'goof': 4525, 'rome': 4526, 'sleepwalk': 4527, 'dilemma': 4528, 'circu': 4529, 'astound': 4530, 'lester': 4531, 'scar': 4532, 'dandi': 4533, 'biker': 4534, 'analyz': 4535, 'shatter': 4536, 'sooner': 4537, 'hepburn': 4538, 'suprem': 4539, 'insipid': 4540, '19': 4541, 'headach': 4542, 'dismal': 4543, 'guin': 4544, 'fluff': 4545, 'hooker': 4546, 'slimi': 4547, 'stair': 4548, 'redund': 4549, 'whore': 4550, 'filth': 4551, 'immatur': 4552, 'gere': 4553, 'cassavet': 4554, 'camcord': 4555, 'foolish': 4556, 'glorifi': 4557, 'scorses': 4558, 'intric': 4559, 'claustrophob': 4560, 'ebert': 4561, 'idol': 4562, 'amor': 4563, 'surgeri': 4564, 'ariel': 4565, 'overlong': 4566, 'hostag': 4567, 'steer': 4568, 'spade': 4569, 'macho': 4570, 'stimul': 4571, 'contempt': 4572, 'boston': 4573, 'corbett': 4574, 'zoom': 4575, 'hokey': 4576, 'oldest': 4577, 'phenomenon': 4578, 'tripl': 4579, 'sox': 4580, 'dish': 4581, 'bent': 4582, 'salt': 4583, 'conquer': 4584, 'rhyme': 4585, 'mount': 4586, 'frantic': 4587, 'messi': 4588, 'fascist': 4589, 'spinal': 4590, 'gasp': 4591, 'cush': 4592, 'schlock': 4593, 'flag': 4594, 'keen': 4595, 'perman': 4596, 'muscl': 4597, 'naschi': 4598, 'remad': 4599, 'proport': 4600, 'corman': 4601, 'radiat': 4602, 'cow': 4603, '1976': 4604, '1981': 4605, 'shred': 4606, 'joker': 4607, 'mutual': 4608, 'antagonist': 4609, 'widescreen': 4610, 'gabl': 4611, 'harold': 4612, 'beard': 4613, 'obligatori': 4614, 'trivia': 4615, 'spree': 4616, 'zane': 4617, 'dwarf': 4618, 'preced': 4619, 'margin': 4620, 'cohen': 4621, 'shield': 4622, 'flashi': 4623, 'faint': 4624, 'strongest': 4625, 'transplant': 4626, 'alvin': 4627, 'down': 4628, 'astronaut': 4629, 'flirt': 4630, 'assert': 4631, 'nolt': 4632, '28': 4633, 'vaniti': 4634, 'instruct': 4635, 'aborigin': 4636, 'mobil': 4637, 'bachelor': 4638, 'ritchi': 4639, 'raj': 4640, 'off': 4641, 'archiv': 4642, 'www': 4643, 'bitten': 4644, 'sensual': 4645, 'barn': 4646, 'mol': 4647, 'divin': 4648, 'hara': 4649, 'wield': 4650, 'departur': 4651, 'discern': 4652, 'interestingli': 4653, 'carey': 4654, 'triangl': 4655, 'persuad': 4656, 'boob': 4657, 'deer': 4658, 'repris': 4659, 'resum': 4660, 'claud': 4661, 'fishburn': 4662, '1945': 4663, 'brush': 4664, 'neurot': 4665, 'inflict': 4666, '95': 4667, 'strive': 4668, 'danish': 4669, 'someday': 4670, 'info': 4671, 'flock': 4672, 'scandal': 4673, 'hapless': 4674, 'carlo': 4675, 'rot': 4676, 'pickford': 4677, 'loretta': 4678, 'heartwarm': 4679, 'biblic': 4680, 'dim': 4681, 'traffic': 4682, 'undermin': 4683, 'timberlak': 4684, 'proclaim': 4685, 'frontier': 4686, 'miracul': 4687, 'kathryn': 4688, 'hug': 4689, 'dylan': 4690, 'banter': 4691, 'melissa': 4692, 'helm': 4693, 'prophet': 4694, 'cb': 4695, 'cycl': 4696, 'luka': 4697, 'pacif': 4698, 'cher': 4699, 'earnest': 4700, 'harrison': 4701, 'wendigo': 4702, 'parson': 4703, 'ish': 4704, 'hilar': 4705, 'vibrant': 4706, 'cliffhang': 4707, 'jade': 4708, 'submit': 4709, 'bate': 4710, 'axe': 4711, 'casino': 4712, 'dame': 4713, 'fragil': 4714, 'pixar': 4715, 'artwork': 4716, 'neill': 4717, 'clad': 4718, 'recit': 4719, 'senior': 4720, 'mobster': 4721, 'europa': 4722, 'anton': 4723, 'colin': 4724, 'pc': 4725, 'foil': 4726, 'mathieu': 4727, 'shepherd': 4728, 'northern': 4729, 'electron': 4730, 'uma': 4731, 'milo': 4732, 'holocaust': 4733, 'vanessa': 4734, 'token': 4735, 'illus': 4736, 'lui': 4737, 'akin': 4738, 'nope': 4739, 'blatantli': 4740, 'jo': 4741, 'venom': 4742, 'lucil': 4743, 'alexandr': 4744, 'flavor': 4745, 'http': 4746, 'bikini': 4747, 'isra': 4748, 'winchest': 4749, 'vile': 4750, 'misfortun': 4751, 'trier': 4752, 'breakfast': 4753, 'marlon': 4754, 'seedi': 4755, 'aris': 4756, 'antholog': 4757, 'orphan': 4758, 'redneck': 4759, 'bondag': 4760, 'static': 4761, 'feast': 4762, 'eli': 4763, 'cerebr': 4764, 'razor': 4765, 'choke': 4766, 'articl': 4767, 'rooki': 4768, 'legitim': 4769, 'wardrob': 4770, 'toronto': 4771, 'estrang': 4772, 'sicken': 4773, 'jordan': 4774, 'mason': 4775, 'clinic': 4776, 'charlton': 4777, 'glare': 4778, 'comprehend': 4779, 'psych': 4780, 'styliz': 4781, 'gunga': 4782, 'feminin': 4783, 'retriev': 4784, 'fifth': 4785, 'shorter': 4786, 'highway': 4787, 'outdat': 4788, 'leather': 4789, 'howl': 4790, 'magician': 4791, 'cartoonish': 4792, 'wrestler': 4793, 'abund': 4794, 'dudley': 4795, 'ideolog': 4796, 'frog': 4797, 'linear': 4798, 'disregard': 4799, 'audrey': 4800, 'swept': 4801, 'smack': 4802, 'oppon': 4803, 'huston': 4804, 'boyer': 4805, 'affleck': 4806, 'turd': 4807, 'tack': 4808, 'knightley': 4809, 'gilbert': 4810, 'peer': 4811, 'deem': 4812, 'ceremoni': 4813, 'nightclub': 4814, '1991': 4815, 'compris': 4816, 'evolut': 4817, 'spine': 4818, 'summar': 4819, 'whack': 4820, 'phenomen': 4821, 'einstein': 4822, 'mitch': 4823, 'collector': 4824, '4th': 4825, 'potter': 4826, 'lifeless': 4827, 'cuban': 4828, 'btw': 4829, 'durat': 4830, 'cemeteri': 4831, 'spawn': 4832, 'corn': 4833, 'conrad': 4834, 'sleaz': 4835, 'tara': 4836, 'braveheart': 4837, 'toe': 4838, 'boo': 4839, 'lighter': 4840, 'snatch': 4841, 'salman': 4842, 'uniformli': 4843, 'bastard': 4844, 'lavish': 4845, '1994': 4846, 'breakdown': 4847, 'bogu': 4848, 'client': 4849, 'senat': 4850, 'goldsworthi': 4851, 'chip': 4852, 'monument': 4853, 'moe': 4854, 'energet': 4855, 'greet': 4856, 'newer': 4857, 'plate': 4858, 'deliver': 4859, 'eleven': 4860, '1974': 4861, 'bori': 4862, 'luxuri': 4863, 'fluid': 4864, 'gilliam': 4865, 'judd': 4866, 'undertak': 4867, 'bulk': 4868, 'nina': 4869, 'belli': 4870, 'signal': 4871, 'ol': 4872, 'pronounc': 4873, 'kazan': 4874, 'jule': 4875, 'replay': 4876, 'neatli': 4877, 'jam': 4878, 'jare': 4879, 'constitut': 4880, 'evelyn': 4881, 'embark': 4882, 'kent': 4883, 'ie': 4884, 'undead': 4885, 'lex': 4886, 'cecil': 4887, 'creek': 4888, 'appl': 4889, 'mcqueen': 4890, 'outright': 4891, 'randolph': 4892, 'occup': 4893, 'liu': 4894, 'alleg': 4895, '1977': 4896, 'healthi': 4897, 'spectacl': 4898, 'jedi': 4899, 'trauma': 4900, 'historian': 4901, 'firmli': 4902, 'sorrow': 4903, 'capot': 4904, 'inaccuraci': 4905, 'clara': 4906, 'wtf': 4907, 'armstrong': 4908, 'lauren': 4909, 'abound': 4910, 'spray': 4911, 'fruit': 4912, 'goldblum': 4913, 'id': 4914, 'bait': 4915, 'antonio': 4916, 'tokyo': 4917, 'cape': 4918, 'groan': 4919, 'decapit': 4920, 'mum': 4921, 'rosario': 4922, 'congratul': 4923, 'galaxi': 4924, '1985': 4925, 'miniseri': 4926, 'unattract': 4927, 'aussi': 4928, 'ash': 4929, 'inclus': 4930, 'paula': 4931, 'relentless': 4932, 'propheci': 4933, 'curtain': 4934, 'inaccur': 4935, 'conan': 4936, 'miami': 4937, 'poker': 4938, 'knee': 4939, 'vignett': 4940, 'comprehens': 4941, 'carmen': 4942, 'roar': 4943, 'lanc': 4944, 'basket': 4945, 'genet': 4946, 'subtli': 4947, 'meal': 4948, 'pepper': 4949, 'kiddi': 4950, 'blur': 4951, 'sidewalk': 4952, 'forgiven': 4953, 'sacrif': 4954, 'pioneer': 4955, 'porter': 4956, 'vain': 4957, 'truman': 4958, 'unsuspect': 4959, 'palm': 4960, 'walt': 4961, 'bsg': 4962, 'comb': 4963, 'weari': 4964, 'scariest': 4965, 'frontal': 4966, 'reincarn': 4967, 'playboy': 4968, 'assort': 4969, 'modest': 4970, 'hackman': 4971, 'verg': 4972, 'epitom': 4973, 'spill': 4974, 'growth': 4975, 'handicap': 4976, 'casper': 4977, 'scarfac': 4978, 'vastli': 4979, 'turtl': 4980, 'detach': 4981, 'masterson': 4982, 'weaker': 4983, 'macabr': 4984, 'incorrect': 4985, 'victorian': 4986, 'dubiou': 4987, 'cypher': 4988, 'ingrid': 4989, 'profil': 4990, 'omin': 4991, 'sparkl': 4992, 'jill': 4993, 'ghetto': 4994, 'sophi': 4995, 'drone': 4996, 'bach': 4997, 'mice': 4998, 'bravo': 4999}\n"
     ]
    }
   ],
   "source": [
    "print(str(word_dict))"
   ]
  },
  {
   "cell_type": "code",
   "execution_count": 14,
   "metadata": {},
   "outputs": [
    {
     "data": {
      "text/plain": [
       "['movi', 'film', 'one', 'like', 'time']"
      ]
     },
     "execution_count": 14,
     "metadata": {},
     "output_type": "execute_result"
    }
   ],
   "source": [
    "# TODO: Use this space to determine the five most frequently appearing words in the training set.\n",
    "\n",
    "#Solution - most common print the first 5 elements in the vocabulary, since we have reverse\n",
    "# in the previous function\n",
    "\n",
    "[most_freq for most_freq, vocabulary in word_dict.items()][0:5]"
   ]
  },
  {
   "cell_type": "markdown",
   "metadata": {},
   "source": [
    "**Question:** What are the five most frequently appearing (tokenized) words in the training set? Does it makes sense that these words appear frequently in the training set?"
   ]
  },
  {
   "cell_type": "markdown",
   "metadata": {},
   "source": [
    "**Answer:** The most frequently appearing words are 'movi', 'film', 'one', 'like', 'time'"
   ]
  },
  {
   "cell_type": "markdown",
   "metadata": {},
   "source": [
    "### Save `word_dict`\n",
    "\n",
    "Later on when we construct an endpoint which processes a submitted review we will need to make use of the `word_dict` which we have created. As such, we will save it to a file now for future use."
   ]
  },
  {
   "cell_type": "code",
   "execution_count": 15,
   "metadata": {},
   "outputs": [],
   "source": [
    "data_dir = '../data/pytorch' # The folder we will use for storing data\n",
    "if not os.path.exists(data_dir): # Make sure that the folder exists\n",
    "    os.makedirs(data_dir)"
   ]
  },
  {
   "cell_type": "code",
   "execution_count": 16,
   "metadata": {},
   "outputs": [],
   "source": [
    "with open(os.path.join(data_dir, 'word_dict.pkl'), \"wb\") as f:\n",
    "    pickle.dump(word_dict, f)"
   ]
  },
  {
   "cell_type": "markdown",
   "metadata": {},
   "source": [
    "### Transform the reviews\n",
    "\n",
    "Now that we have our word dictionary which allows us to transform the words appearing in the reviews into integers, it is time to make use of it and convert our reviews to their integer sequence representation, making sure to pad or truncate to a fixed length, which in our case is `500`."
   ]
  },
  {
   "cell_type": "code",
   "execution_count": 17,
   "metadata": {},
   "outputs": [],
   "source": [
    "def convert_and_pad(word_dict, sentence, pad=500):\n",
    "    NOWORD = 0 # We will use 0 to represent the 'no word' category\n",
    "    INFREQ = 1 # and we use 1 to represent the infrequent words, i.e., words not appearing in word_dict\n",
    "    \n",
    "    working_sentence = [NOWORD] * pad\n",
    "    \n",
    "    for word_index, word in enumerate(sentence[:pad]):\n",
    "        if word in word_dict:\n",
    "            working_sentence[word_index] = word_dict[word]\n",
    "        else:\n",
    "            working_sentence[word_index] = INFREQ\n",
    "            \n",
    "    return working_sentence, min(len(sentence), pad)\n",
    "\n",
    "def convert_and_pad_data(word_dict, data, pad=500):\n",
    "    result = []\n",
    "    lengths = []\n",
    "    \n",
    "    for sentence in data:\n",
    "        converted, leng = convert_and_pad(word_dict, sentence, pad)\n",
    "        result.append(converted)\n",
    "        lengths.append(leng)\n",
    "        \n",
    "    return np.array(result), np.array(lengths)"
   ]
  },
  {
   "cell_type": "code",
   "execution_count": 18,
   "metadata": {},
   "outputs": [],
   "source": [
    "train_X, train_X_len = convert_and_pad_data(word_dict, train_X)\n",
    "test_X, test_X_len = convert_and_pad_data(word_dict, test_X)"
   ]
  },
  {
   "cell_type": "markdown",
   "metadata": {},
   "source": [
    "As a quick check to make sure that things are working as intended, check to see what one of the reviews in the training set looks like after having been processeed. Does this look reasonable? What is the length of a review in the training set?"
   ]
  },
  {
   "cell_type": "code",
   "execution_count": 19,
   "metadata": {},
   "outputs": [
    {
     "data": {
      "text/plain": [
       "array([[2652,  681, 4677, ...,    0,    0,    0],\n",
       "       [  26, 1965, 4011, ...,    0,    0,    0],\n",
       "       [   1,    1, 3659, ...,  442,  485,    1],\n",
       "       ...,\n",
       "       [3048,   44,  231, ...,    0,    0,    0],\n",
       "       [1153,   19, 2527, ...,    0,    0,    0],\n",
       "       [  37,  181,   36, ...,    0,    0,    0]])"
      ]
     },
     "execution_count": 19,
     "metadata": {},
     "output_type": "execute_result"
    }
   ],
   "source": [
    "# Use this cell to examine one of the processed reviews to make sure everything is working as intended.\n",
    "train_X[:10]"
   ]
  },
  {
   "cell_type": "markdown",
   "metadata": {},
   "source": [
    "**Question:** In the cells above we use the `preprocess_data` and `convert_and_pad_data` methods to process both the training and testing set. Why or why not might this be a problem?"
   ]
  },
  {
   "cell_type": "markdown",
   "metadata": {},
   "source": [
    "**Answer:** Preprocessing and padding of the data is required, preprocessing helps in creating vocabulary meanwhile padding helps to deal with the length of the reviews. \n",
    "Else the model will fail with taking stop words as most frequent words if preprocessing not done properly. And if padding is not done properly the model will fail to translate the sentiment of reviews of different lengths."
   ]
  },
  {
   "cell_type": "markdown",
   "metadata": {},
   "source": [
    "## Step 3: Upload the data to S3\n",
    "\n",
    "As in the XGBoost notebook, we will need to upload the training dataset to S3 in order for our training code to access it. For now we will save it locally and we will upload to S3 later on.\n",
    "\n",
    "### Save the processed training dataset locally\n",
    "\n",
    "It is important to note the format of the data that we are saving as we will need to know it when we write the training code. In our case, each row of the dataset has the form `label`, `length`, `review[500]` where `review[500]` is a sequence of `500` integers representing the words in the review."
   ]
  },
  {
   "cell_type": "code",
   "execution_count": 20,
   "metadata": {},
   "outputs": [],
   "source": [
    "import pandas as pd\n",
    "    \n",
    "pd.concat([pd.DataFrame(train_y), pd.DataFrame(train_X_len), pd.DataFrame(train_X)], axis=1) \\\n",
    "        .to_csv(os.path.join(data_dir, 'train.csv'), header=False, index=False)"
   ]
  },
  {
   "cell_type": "markdown",
   "metadata": {},
   "source": [
    "### Uploading the training data\n",
    "\n",
    "\n",
    "Next, we need to upload the training data to the SageMaker default S3 bucket so that we can provide access to it while training our model."
   ]
  },
  {
   "cell_type": "code",
   "execution_count": 21,
   "metadata": {},
   "outputs": [],
   "source": [
    "import sagemaker\n",
    "\n",
    "sagemaker_session = sagemaker.Session()\n",
    "\n",
    "bucket = sagemaker_session.default_bucket()\n",
    "prefix = 'sagemaker/sentiment_rnn'\n",
    "\n",
    "role = sagemaker.get_execution_role()"
   ]
  },
  {
   "cell_type": "code",
   "execution_count": 22,
   "metadata": {},
   "outputs": [],
   "source": [
    "input_data = sagemaker_session.upload_data(path=data_dir, bucket=bucket, key_prefix=prefix)"
   ]
  },
  {
   "cell_type": "markdown",
   "metadata": {},
   "source": [
    "**NOTE:** The cell above uploads the entire contents of our data directory. This includes the `word_dict.pkl` file. This is fortunate as we will need this later on when we create an endpoint that accepts an arbitrary review. For now, we will just take note of the fact that it resides in the data directory (and so also in the S3 training bucket) and that we will need to make sure it gets saved in the model directory."
   ]
  },
  {
   "cell_type": "markdown",
   "metadata": {},
   "source": [
    "## Step 4: Build and Train the PyTorch Model\n",
    "\n",
    "In the XGBoost notebook we discussed what a model is in the SageMaker framework. In particular, a model comprises three objects\n",
    "\n",
    " - Model Artifacts,\n",
    " - Training Code, and\n",
    " - Inference Code,\n",
    " \n",
    "each of which interact with one another. In the XGBoost example we used training and inference code that was provided by Amazon. Here we will still be using containers provided by Amazon with the added benefit of being able to include our own custom code.\n",
    "\n",
    "We will start by implementing our own neural network in PyTorch along with a training script. For the purposes of this project we have provided the necessary model object in the `model.py` file, inside of the `train` folder. You can see the provided implementation by running the cell below."
   ]
  },
  {
   "cell_type": "code",
   "execution_count": 23,
   "metadata": {},
   "outputs": [
    {
     "name": "stdout",
     "output_type": "stream",
     "text": [
      "\u001b[34mimport\u001b[39;49;00m \u001b[04m\u001b[36mtorch\u001b[39;49;00m\u001b[04m\u001b[36m.\u001b[39;49;00m\u001b[04m\u001b[36mnn\u001b[39;49;00m \u001b[34mas\u001b[39;49;00m \u001b[04m\u001b[36mnn\u001b[39;49;00m\n",
      "\n",
      "\u001b[34mclass\u001b[39;49;00m \u001b[04m\u001b[32mLSTMClassifier\u001b[39;49;00m(nn.Module):\n",
      "    \u001b[33m\"\"\"\u001b[39;49;00m\n",
      "\u001b[33m    This is the simple RNN model we will be using to perform Sentiment Analysis.\u001b[39;49;00m\n",
      "\u001b[33m    \"\"\"\u001b[39;49;00m\n",
      "\n",
      "    \u001b[34mdef\u001b[39;49;00m \u001b[32m__init__\u001b[39;49;00m(\u001b[36mself\u001b[39;49;00m, embedding_dim, hidden_dim, vocab_size):\n",
      "        \u001b[33m\"\"\"\u001b[39;49;00m\n",
      "\u001b[33m        Initialize the model by settingg up the various layers.\u001b[39;49;00m\n",
      "\u001b[33m        \"\"\"\u001b[39;49;00m\n",
      "        \u001b[36msuper\u001b[39;49;00m(LSTMClassifier, \u001b[36mself\u001b[39;49;00m).\u001b[32m__init__\u001b[39;49;00m()\n",
      "\n",
      "        \u001b[36mself\u001b[39;49;00m.embedding = nn.Embedding(vocab_size, embedding_dim, padding_idx=\u001b[34m0\u001b[39;49;00m)\n",
      "        \u001b[36mself\u001b[39;49;00m.lstm = nn.LSTM(embedding_dim, hidden_dim)\n",
      "        \u001b[36mself\u001b[39;49;00m.dense = nn.Linear(in_features=hidden_dim, out_features=\u001b[34m1\u001b[39;49;00m)\n",
      "        \u001b[36mself\u001b[39;49;00m.sig = nn.Sigmoid()\n",
      "        \n",
      "        \u001b[36mself\u001b[39;49;00m.word_dict = \u001b[34mNone\u001b[39;49;00m\n",
      "\n",
      "    \u001b[34mdef\u001b[39;49;00m \u001b[32mforward\u001b[39;49;00m(\u001b[36mself\u001b[39;49;00m, x):\n",
      "        \u001b[33m\"\"\"\u001b[39;49;00m\n",
      "\u001b[33m        Perform a forward pass of our model on some input.\u001b[39;49;00m\n",
      "\u001b[33m        \"\"\"\u001b[39;49;00m\n",
      "        x = x.t()\n",
      "        lengths = x[\u001b[34m0\u001b[39;49;00m,:]\n",
      "        reviews = x[\u001b[34m1\u001b[39;49;00m:,:]\n",
      "        embeds = \u001b[36mself\u001b[39;49;00m.embedding(reviews)\n",
      "        lstm_out, _ = \u001b[36mself\u001b[39;49;00m.lstm(embeds)\n",
      "        out = \u001b[36mself\u001b[39;49;00m.dense(lstm_out)\n",
      "        out = out[lengths - \u001b[34m1\u001b[39;49;00m, \u001b[36mrange\u001b[39;49;00m(\u001b[36mlen\u001b[39;49;00m(lengths))]\n",
      "        \u001b[34mreturn\u001b[39;49;00m \u001b[36mself\u001b[39;49;00m.sig(out.squeeze())\n"
     ]
    }
   ],
   "source": [
    "!pygmentize train/model.py"
   ]
  },
  {
   "cell_type": "markdown",
   "metadata": {},
   "source": [
    "The important takeaway from the implementation provided is that there are three parameters that we may wish to tweak to improve the performance of our model. These are the embedding dimension, the hidden dimension and the size of the vocabulary. We will likely want to make these parameters configurable in the training script so that if we wish to modify them we do not need to modify the script itself. We will see how to do this later on. To start we will write some of the training code in the notebook so that we can more easily diagnose any issues that arise.\n",
    "\n",
    "First we will load a small portion of the training data set to use as a sample. It would be very time consuming to try and train the model completely in the notebook as we do not have access to a gpu and the compute instance that we are using is not particularly powerful. However, we can work on a small bit of the data to get a feel for how our training script is behaving."
   ]
  },
  {
   "cell_type": "code",
   "execution_count": 24,
   "metadata": {},
   "outputs": [],
   "source": [
    "import torch\n",
    "import torch.utils.data\n",
    "\n",
    "# Read in only the first 250 rows\n",
    "train_sample = pd.read_csv(os.path.join(data_dir, 'train.csv'), header=None, names=None, nrows=250)\n",
    "\n",
    "# Turn the input pandas dataframe into tensors\n",
    "train_sample_y = torch.from_numpy(train_sample[[0]].values).float().squeeze()\n",
    "train_sample_X = torch.from_numpy(train_sample.drop([0], axis=1).values).long()\n",
    "\n",
    "# Build the dataset\n",
    "train_sample_ds = torch.utils.data.TensorDataset(train_sample_X, train_sample_y)\n",
    "# Build the dataloader\n",
    "train_sample_dl = torch.utils.data.DataLoader(train_sample_ds, batch_size=50)"
   ]
  },
  {
   "cell_type": "markdown",
   "metadata": {},
   "source": [
    "### (TODO) Writing the training method\n",
    "\n",
    "Next we need to write the training code itself. This should be very similar to training methods that you have written before to train PyTorch models. We will leave any difficult aspects such as model saving / loading and parameter loading until a little later."
   ]
  },
  {
   "cell_type": "code",
   "execution_count": 25,
   "metadata": {},
   "outputs": [],
   "source": [
    "def train(model, train_loader, epochs, optimizer, loss_fn, device):\n",
    "    for epoch in range(1, epochs + 1):\n",
    "        model.train()\n",
    "        total_loss = 0\n",
    "        for batch in train_loader:         \n",
    "            batch_X, batch_y = batch\n",
    "            \n",
    "            batch_X = batch_X.to(device)\n",
    "            batch_y = batch_y.to(device)\n",
    "            \n",
    "            # TODO: Complete this train method to train the model provided.\n",
    "            optimizer.zero_grad()\n",
    "            output = model(batch_X)\n",
    "            loss = loss_fn(output, batch_y)\n",
    "            loss.backward()\n",
    "            optimizer.step()\n",
    "            \n",
    "            total_loss += loss.data.item()\n",
    "        print(\"Epoch: {}, BCELoss: {}\".format(epoch, total_loss / len(train_loader)))"
   ]
  },
  {
   "cell_type": "markdown",
   "metadata": {},
   "source": [
    "Supposing we have the training method above, we will test that it is working by writing a bit of code in the notebook that executes our training method on the small sample training set that we loaded earlier. The reason for doing this in the notebook is so that we have an opportunity to fix any errors that arise early when they are easier to diagnose."
   ]
  },
  {
   "cell_type": "code",
   "execution_count": 26,
   "metadata": {},
   "outputs": [
    {
     "name": "stdout",
     "output_type": "stream",
     "text": [
      "Epoch: 1, BCELoss: 0.6898455619812012\n",
      "Epoch: 2, BCELoss: 0.6783297538757325\n",
      "Epoch: 3, BCELoss: 0.6678600668907165\n",
      "Epoch: 4, BCELoss: 0.6558000087738037\n",
      "Epoch: 5, BCELoss: 0.6405989646911621\n"
     ]
    }
   ],
   "source": [
    "import torch.optim as optim\n",
    "from train.model import LSTMClassifier\n",
    "\n",
    "device = torch.device(\"cuda\" if torch.cuda.is_available() else \"cpu\")\n",
    "model = LSTMClassifier(32, 100, 5000).to(device)\n",
    "optimizer = optim.Adam(model.parameters())\n",
    "loss_fn = torch.nn.BCELoss()\n",
    "\n",
    "train(model, train_sample_dl, 5, optimizer, loss_fn, device)"
   ]
  },
  {
   "cell_type": "markdown",
   "metadata": {},
   "source": [
    "In order to construct a PyTorch model using SageMaker we must provide SageMaker with a training script. We may optionally include a directory which will be copied to the container and from which our training code will be run. When the training container is executed it will check the uploaded directory (if there is one) for a `requirements.txt` file and install any required Python libraries, after which the training script will be run."
   ]
  },
  {
   "cell_type": "markdown",
   "metadata": {},
   "source": [
    "### (TODO) Training the model\n",
    "\n",
    "When a PyTorch model is constructed in SageMaker, an entry point must be specified. This is the Python file which will be executed when the model is trained. Inside of the `train` directory is a file called `train.py` which has been provided and which contains most of the necessary code to train our model. The only thing that is missing is the implementation of the `train()` method which you wrote earlier in this notebook.\n",
    "\n",
    "**TODO**: Copy the `train()` method written above and paste it into the `train/train.py` file where required.\n",
    "\n",
    "The way that SageMaker passes hyperparameters to the training script is by way of arguments. These arguments can then be parsed and used in the training script. To see how this is done take a look at the provided `train/train.py` file."
   ]
  },
  {
   "cell_type": "code",
   "execution_count": 31,
   "metadata": {},
   "outputs": [],
   "source": [
    "from sagemaker.pytorch import PyTorch\n",
    "\n",
    "estimator = PyTorch(entry_point=\"train.py\",\n",
    "                    source_dir=\"train\",\n",
    "                    role=role,\n",
    "                    framework_version='0.4.0',\n",
    "                    train_instance_count=1,\n",
    "                    train_instance_type= 'ml.p2.xlarge',\n",
    "                    hyperparameters={\n",
    "                        'epochs': 10,\n",
    "                        'hidden_dim': 200,\n",
    "                    })"
   ]
  },
  {
   "cell_type": "code",
   "execution_count": 32,
   "metadata": {},
   "outputs": [
    {
     "name": "stderr",
     "output_type": "stream",
     "text": [
      "'create_image_uri' will be deprecated in favor of 'ImageURIProvider' class in SageMaker Python SDK v2.\n",
      "'s3_input' class will be renamed to 'TrainingInput' in SageMaker Python SDK v2.\n",
      "'create_image_uri' will be deprecated in favor of 'ImageURIProvider' class in SageMaker Python SDK v2.\n"
     ]
    },
    {
     "name": "stdout",
     "output_type": "stream",
     "text": [
      "2020-09-09 12:43:13 Starting - Starting the training job...\n",
      "2020-09-09 12:43:15 Starting - Launching requested ML instances......\n",
      "2020-09-09 12:44:19 Starting - Preparing the instances for training......\n",
      "2020-09-09 12:45:36 Downloading - Downloading input data......\n",
      "2020-09-09 12:46:40 Training - Training image download completed. Training in progress..\u001b[34mbash: cannot set terminal process group (-1): Inappropriate ioctl for device\u001b[0m\n",
      "\u001b[34mbash: no job control in this shell\u001b[0m\n",
      "\u001b[34m2020-09-09 12:46:41,147 sagemaker-containers INFO     Imported framework sagemaker_pytorch_container.training\u001b[0m\n",
      "\u001b[34m2020-09-09 12:46:41,173 sagemaker_pytorch_container.training INFO     Block until all host DNS lookups succeed.\u001b[0m\n",
      "\u001b[34m2020-09-09 12:46:41,176 sagemaker_pytorch_container.training INFO     Invoking user training script.\u001b[0m\n",
      "\u001b[34m2020-09-09 12:46:41,414 sagemaker-containers INFO     Module train does not provide a setup.py. \u001b[0m\n",
      "\u001b[34mGenerating setup.py\u001b[0m\n",
      "\u001b[34m2020-09-09 12:46:41,415 sagemaker-containers INFO     Generating setup.cfg\u001b[0m\n",
      "\u001b[34m2020-09-09 12:46:41,415 sagemaker-containers INFO     Generating MANIFEST.in\u001b[0m\n",
      "\u001b[34m2020-09-09 12:46:41,415 sagemaker-containers INFO     Installing module with the following command:\u001b[0m\n",
      "\u001b[34m/usr/bin/python -m pip install -U . -r requirements.txt\u001b[0m\n",
      "\u001b[34mProcessing /opt/ml/code\u001b[0m\n",
      "\u001b[34mCollecting pandas (from -r requirements.txt (line 1))\n",
      "  Downloading https://files.pythonhosted.org/packages/74/24/0cdbf8907e1e3bc5a8da03345c23cbed7044330bb8f73bb12e711a640a00/pandas-0.24.2-cp35-cp35m-manylinux1_x86_64.whl (10.0MB)\u001b[0m\n",
      "\u001b[34mCollecting numpy (from -r requirements.txt (line 2))\n",
      "  Downloading https://files.pythonhosted.org/packages/b5/36/88723426b4ff576809fec7d73594fe17a35c27f8d01f93637637a29ae25b/numpy-1.18.5-cp35-cp35m-manylinux1_x86_64.whl (19.9MB)\u001b[0m\n",
      "\u001b[34mCollecting nltk (from -r requirements.txt (line 3))\n",
      "  Downloading https://files.pythonhosted.org/packages/92/75/ce35194d8e3022203cca0d2f896dbb88689f9b3fce8e9f9cff942913519d/nltk-3.5.zip (1.4MB)\u001b[0m\n",
      "\u001b[34mCollecting beautifulsoup4 (from -r requirements.txt (line 4))\n",
      "  Downloading https://files.pythonhosted.org/packages/66/25/ff030e2437265616a1e9b25ccc864e0371a0bc3adb7c5a404fd661c6f4f6/beautifulsoup4-4.9.1-py3-none-any.whl (115kB)\u001b[0m\n",
      "\u001b[34mCollecting html5lib (from -r requirements.txt (line 5))\n",
      "  Downloading https://files.pythonhosted.org/packages/6c/dd/a834df6482147d48e225a49515aabc28974ad5a4ca3215c18a882565b028/html5lib-1.1-py2.py3-none-any.whl (112kB)\u001b[0m\n",
      "\u001b[34mCollecting pytz>=2011k (from pandas->-r requirements.txt (line 1))\n",
      "  Downloading https://files.pythonhosted.org/packages/4f/a4/879454d49688e2fad93e59d7d4efda580b783c745fd2ec2a3adf87b0808d/pytz-2020.1-py2.py3-none-any.whl (510kB)\u001b[0m\n",
      "\u001b[34mRequirement already satisfied, skipping upgrade: python-dateutil>=2.5.0 in /usr/local/lib/python3.5/dist-packages (from pandas->-r requirements.txt (line 1)) (2.7.5)\u001b[0m\n",
      "\u001b[34mRequirement already satisfied, skipping upgrade: click in /usr/local/lib/python3.5/dist-packages (from nltk->-r requirements.txt (line 3)) (7.0)\u001b[0m\n",
      "\u001b[34mCollecting joblib (from nltk->-r requirements.txt (line 3))\n",
      "  Downloading https://files.pythonhosted.org/packages/28/5c/cf6a2b65a321c4a209efcdf64c2689efae2cb62661f8f6f4bb28547cf1bf/joblib-0.14.1-py2.py3-none-any.whl (294kB)\u001b[0m\n",
      "\u001b[34mCollecting regex (from nltk->-r requirements.txt (line 3))\u001b[0m\n",
      "\u001b[34m  Downloading https://files.pythonhosted.org/packages/09/c3/ddaa87500f31ed86290e3d014c0302a51fde28d7139eda0b5f33733726db/regex-2020.7.14.tar.gz (690kB)\u001b[0m\n",
      "\u001b[34mCollecting tqdm (from nltk->-r requirements.txt (line 3))\n",
      "  Downloading https://files.pythonhosted.org/packages/28/7e/281edb5bc3274dfb894d90f4dbacfceaca381c2435ec6187a2c6f329aed7/tqdm-4.48.2-py2.py3-none-any.whl (68kB)\u001b[0m\n",
      "\u001b[34mCollecting soupsieve>1.2 (from beautifulsoup4->-r requirements.txt (line 4))\n",
      "  Downloading https://files.pythonhosted.org/packages/6f/8f/457f4a5390eeae1cc3aeab89deb7724c965be841ffca6cfca9197482e470/soupsieve-2.0.1-py3-none-any.whl\u001b[0m\n",
      "\u001b[34mCollecting webencodings (from html5lib->-r requirements.txt (line 5))\n",
      "  Downloading https://files.pythonhosted.org/packages/f4/24/2a3e3df732393fed8b3ebf2ec078f05546de641fe1b667ee316ec1dcf3b7/webencodings-0.5.1-py2.py3-none-any.whl\u001b[0m\n",
      "\u001b[34mRequirement already satisfied, skipping upgrade: six>=1.9 in /usr/local/lib/python3.5/dist-packages (from html5lib->-r requirements.txt (line 5)) (1.11.0)\u001b[0m\n",
      "\u001b[34mBuilding wheels for collected packages: nltk, train, regex\n",
      "  Running setup.py bdist_wheel for nltk: started\u001b[0m\n",
      "\u001b[34m  Running setup.py bdist_wheel for nltk: finished with status 'done'\n",
      "  Stored in directory: /root/.cache/pip/wheels/ae/8c/3f/b1fe0ba04555b08b57ab52ab7f86023639a526d8bc8d384306\n",
      "  Running setup.py bdist_wheel for train: started\u001b[0m\n",
      "\u001b[34m  Running setup.py bdist_wheel for train: finished with status 'done'\n",
      "  Stored in directory: /tmp/pip-ephem-wheel-cache-mym7lb8h/wheels/35/24/16/37574d11bf9bde50616c67372a334f94fa8356bc7164af8ca3\n",
      "  Running setup.py bdist_wheel for regex: started\u001b[0m\n",
      "\u001b[34m  Running setup.py bdist_wheel for regex: finished with status 'done'\n",
      "  Stored in directory: /root/.cache/pip/wheels/53/55/dc/e17fa4568958f4c53be34b65e474a1327b64641f65df379ec3\u001b[0m\n",
      "\u001b[34mSuccessfully built nltk train regex\u001b[0m\n",
      "\u001b[34mInstalling collected packages: pytz, numpy, pandas, joblib, regex, tqdm, nltk, soupsieve, beautifulsoup4, webencodings, html5lib, train\n",
      "  Found existing installation: numpy 1.15.4\u001b[0m\n",
      "\u001b[34m    Uninstalling numpy-1.15.4:\n",
      "      Successfully uninstalled numpy-1.15.4\u001b[0m\n",
      "\u001b[34mSuccessfully installed beautifulsoup4-4.9.1 html5lib-1.1 joblib-0.14.1 nltk-3.5 numpy-1.18.5 pandas-0.24.2 pytz-2020.1 regex-2020.7.14 soupsieve-2.0.1 tqdm-4.48.2 train-1.0.0 webencodings-0.5.1\u001b[0m\n",
      "\u001b[34mYou are using pip version 18.1, however version 20.2.3 is available.\u001b[0m\n",
      "\u001b[34mYou should consider upgrading via the 'pip install --upgrade pip' command.\u001b[0m\n",
      "\u001b[34m2020-09-09 12:47:04,301 sagemaker-containers INFO     Invoking user script\n",
      "\u001b[0m\n",
      "\u001b[34mTraining Env:\n",
      "\u001b[0m\n",
      "\u001b[34m{\n",
      "    \"user_entry_point\": \"train.py\",\n",
      "    \"additional_framework_parameters\": {},\n",
      "    \"hyperparameters\": {\n",
      "        \"epochs\": 10,\n",
      "        \"hidden_dim\": 200\n",
      "    },\n",
      "    \"input_config_dir\": \"/opt/ml/input/config\",\n",
      "    \"output_dir\": \"/opt/ml/output\",\n",
      "    \"network_interface_name\": \"eth0\",\n",
      "    \"framework_module\": \"sagemaker_pytorch_container.training:main\",\n",
      "    \"module_name\": \"train\",\n",
      "    \"input_dir\": \"/opt/ml/input\",\n",
      "    \"output_data_dir\": \"/opt/ml/output/data\",\n",
      "    \"channel_input_dirs\": {\n",
      "        \"training\": \"/opt/ml/input/data/training\"\n",
      "    },\n",
      "    \"num_cpus\": 4,\n",
      "    \"input_data_config\": {\n",
      "        \"training\": {\n",
      "            \"S3DistributionType\": \"FullyReplicated\",\n",
      "            \"TrainingInputMode\": \"File\",\n",
      "            \"RecordWrapperType\": \"None\"\n",
      "        }\n",
      "    },\n",
      "    \"num_gpus\": 1,\n",
      "    \"model_dir\": \"/opt/ml/model\",\n",
      "    \"module_dir\": \"s3://sagemaker-us-east-2-478676226505/sagemaker-pytorch-2020-09-09-12-43-13-533/source/sourcedir.tar.gz\",\n",
      "    \"hosts\": [\n",
      "        \"algo-1\"\n",
      "    ],\n",
      "    \"output_intermediate_dir\": \"/opt/ml/output/intermediate\",\n",
      "    \"log_level\": 20,\n",
      "    \"job_name\": \"sagemaker-pytorch-2020-09-09-12-43-13-533\",\n",
      "    \"resource_config\": {\n",
      "        \"hosts\": [\n",
      "            \"algo-1\"\n",
      "        ],\n",
      "        \"network_interface_name\": \"eth0\",\n",
      "        \"current_host\": \"algo-1\"\n",
      "    },\n",
      "    \"current_host\": \"algo-1\"\u001b[0m\n",
      "\u001b[34m}\n",
      "\u001b[0m\n",
      "\u001b[34mEnvironment variables:\n",
      "\u001b[0m\n",
      "\u001b[34mPYTHONPATH=/usr/local/bin:/usr/lib/python35.zip:/usr/lib/python3.5:/usr/lib/python3.5/plat-x86_64-linux-gnu:/usr/lib/python3.5/lib-dynload:/usr/local/lib/python3.5/dist-packages:/usr/lib/python3/dist-packages\u001b[0m\n",
      "\u001b[34mSM_MODULE_NAME=train\u001b[0m\n",
      "\u001b[34mSM_NETWORK_INTERFACE_NAME=eth0\u001b[0m\n",
      "\u001b[34mSM_FRAMEWORK_MODULE=sagemaker_pytorch_container.training:main\u001b[0m\n",
      "\u001b[34mSM_CHANNELS=[\"training\"]\u001b[0m\n",
      "\u001b[34mSM_INPUT_DIR=/opt/ml/input\u001b[0m\n",
      "\u001b[34mSM_TRAINING_ENV={\"additional_framework_parameters\":{},\"channel_input_dirs\":{\"training\":\"/opt/ml/input/data/training\"},\"current_host\":\"algo-1\",\"framework_module\":\"sagemaker_pytorch_container.training:main\",\"hosts\":[\"algo-1\"],\"hyperparameters\":{\"epochs\":10,\"hidden_dim\":200},\"input_config_dir\":\"/opt/ml/input/config\",\"input_data_config\":{\"training\":{\"RecordWrapperType\":\"None\",\"S3DistributionType\":\"FullyReplicated\",\"TrainingInputMode\":\"File\"}},\"input_dir\":\"/opt/ml/input\",\"job_name\":\"sagemaker-pytorch-2020-09-09-12-43-13-533\",\"log_level\":20,\"model_dir\":\"/opt/ml/model\",\"module_dir\":\"s3://sagemaker-us-east-2-478676226505/sagemaker-pytorch-2020-09-09-12-43-13-533/source/sourcedir.tar.gz\",\"module_name\":\"train\",\"network_interface_name\":\"eth0\",\"num_cpus\":4,\"num_gpus\":1,\"output_data_dir\":\"/opt/ml/output/data\",\"output_dir\":\"/opt/ml/output\",\"output_intermediate_dir\":\"/opt/ml/output/intermediate\",\"resource_config\":{\"current_host\":\"algo-1\",\"hosts\":[\"algo-1\"],\"network_interface_name\":\"eth0\"},\"user_entry_point\":\"train.py\"}\u001b[0m\n",
      "\u001b[34mSM_OUTPUT_DATA_DIR=/opt/ml/output/data\u001b[0m\n",
      "\u001b[34mSM_USER_ARGS=[\"--epochs\",\"10\",\"--hidden_dim\",\"200\"]\u001b[0m\n",
      "\u001b[34mSM_INPUT_DATA_CONFIG={\"training\":{\"RecordWrapperType\":\"None\",\"S3DistributionType\":\"FullyReplicated\",\"TrainingInputMode\":\"File\"}}\u001b[0m\n",
      "\u001b[34mSM_HOSTS=[\"algo-1\"]\u001b[0m\n",
      "\u001b[34mSM_CURRENT_HOST=algo-1\u001b[0m\n",
      "\u001b[34mSM_USER_ENTRY_POINT=train.py\u001b[0m\n",
      "\u001b[34mSM_NUM_CPUS=4\u001b[0m\n",
      "\u001b[34mSM_MODEL_DIR=/opt/ml/model\u001b[0m\n",
      "\u001b[34mSM_HP_HIDDEN_DIM=200\u001b[0m\n",
      "\u001b[34mSM_MODULE_DIR=s3://sagemaker-us-east-2-478676226505/sagemaker-pytorch-2020-09-09-12-43-13-533/source/sourcedir.tar.gz\u001b[0m\n",
      "\u001b[34mSM_CHANNEL_TRAINING=/opt/ml/input/data/training\u001b[0m\n",
      "\u001b[34mSM_INPUT_CONFIG_DIR=/opt/ml/input/config\u001b[0m\n",
      "\u001b[34mSM_OUTPUT_DIR=/opt/ml/output\u001b[0m\n",
      "\u001b[34mSM_OUTPUT_INTERMEDIATE_DIR=/opt/ml/output/intermediate\u001b[0m\n",
      "\u001b[34mSM_NUM_GPUS=1\u001b[0m\n",
      "\u001b[34mSM_RESOURCE_CONFIG={\"current_host\":\"algo-1\",\"hosts\":[\"algo-1\"],\"network_interface_name\":\"eth0\"}\u001b[0m\n",
      "\u001b[34mSM_HP_EPOCHS=10\u001b[0m\n",
      "\u001b[34mSM_LOG_LEVEL=20\u001b[0m\n",
      "\u001b[34mSM_HPS={\"epochs\":10,\"hidden_dim\":200}\u001b[0m\n",
      "\u001b[34mSM_FRAMEWORK_PARAMS={}\n",
      "\u001b[0m\n",
      "\u001b[34mInvoking script with the following command:\n",
      "\u001b[0m\n",
      "\u001b[34m/usr/bin/python -m train --epochs 10 --hidden_dim 200\n",
      "\n",
      "\u001b[0m\n",
      "\u001b[34mUsing device cuda.\u001b[0m\n",
      "\u001b[34mGet train data loader.\u001b[0m\n",
      "\u001b[34mModel loaded with embedding_dim 32, hidden_dim 200, vocab_size 5000.\u001b[0m\n",
      "\u001b[34mEpoch: 1, BCELoss: 0.6749546734654174\u001b[0m\n",
      "\u001b[34mEpoch: 2, BCELoss: 0.6035319870832015\u001b[0m\n",
      "\u001b[34mEpoch: 3, BCELoss: 0.48958870403620663\u001b[0m\n",
      "\u001b[34mEpoch: 4, BCELoss: 0.4189203588330016\u001b[0m\n",
      "\u001b[34mEpoch: 5, BCELoss: 0.3807742364552556\u001b[0m\n",
      "\u001b[34mEpoch: 6, BCELoss: 0.3684286201486782\u001b[0m\n",
      "\u001b[34mEpoch: 7, BCELoss: 0.3261929780853038\u001b[0m\n",
      "\u001b[34mEpoch: 8, BCELoss: 0.3002457630877592\u001b[0m\n",
      "\u001b[34mEpoch: 9, BCELoss: 0.27515552542647537\u001b[0m\n",
      "\n",
      "2020-09-09 12:50:10 Uploading - Uploading generated training model\n",
      "2020-09-09 12:50:10 Completed - Training job completed\n",
      "\u001b[34mEpoch: 10, BCELoss: 0.2560333110848252\u001b[0m\n",
      "\u001b[34m2020-09-09 12:50:01,074 sagemaker-containers INFO     Reporting training SUCCESS\u001b[0m\n",
      "Training seconds: 274\n",
      "Billable seconds: 274\n"
     ]
    }
   ],
   "source": [
    "estimator.fit({'training': input_data})"
   ]
  },
  {
   "cell_type": "markdown",
   "metadata": {},
   "source": [
    "## Step 5: Testing the model\n",
    "\n",
    "As mentioned at the top of this notebook, we will be testing this model by first deploying it and then sending the testing data to the deployed endpoint. We will do this so that we can make sure that the deployed model is working correctly.\n",
    "\n",
    "## Step 6: Deploy the model for testing\n",
    "\n",
    "Now that we have trained our model, we would like to test it to see how it performs. Currently our model takes input of the form `review_length, review[500]` where `review[500]` is a sequence of `500` integers which describe the words present in the review, encoded using `word_dict`. Fortunately for us, SageMaker provides built-in inference code for models with simple inputs such as this.\n",
    "\n",
    "There is one thing that we need to provide, however, and that is a function which loads the saved model. This function must be called `model_fn()` and takes as its only parameter a path to the directory where the model artifacts are stored. This function must also be present in the python file which we specified as the entry point. In our case the model loading function has been provided and so no changes need to be made.\n",
    "\n",
    "**NOTE**: When the built-in inference code is run it must import the `model_fn()` method from the `train.py` file. This is why the training code is wrapped in a main guard ( ie, `if __name__ == '__main__':` )\n",
    "\n",
    "Since we don't need to change anything in the code that was uploaded during training, we can simply deploy the current model as-is.\n",
    "\n",
    "**NOTE:** When deploying a model you are asking SageMaker to launch an compute instance that will wait for data to be sent to it. As a result, this compute instance will continue to run until *you* shut it down. This is important to know since the cost of a deployed endpoint depends on how long it has been running for.\n",
    "\n",
    "In other words **If you are no longer using a deployed endpoint, shut it down!**\n",
    "\n",
    "**TODO:** Deploy the trained model."
   ]
  },
  {
   "cell_type": "code",
   "execution_count": 33,
   "metadata": {},
   "outputs": [
    {
     "name": "stderr",
     "output_type": "stream",
     "text": [
      "Parameter image will be renamed to image_uri in SageMaker Python SDK v2.\n",
      "'create_image_uri' will be deprecated in favor of 'ImageURIProvider' class in SageMaker Python SDK v2.\n"
     ]
    },
    {
     "name": "stdout",
     "output_type": "stream",
     "text": [
      "-------------------!"
     ]
    }
   ],
   "source": [
    "# TODO: Deploy the trained model\n",
    "predictor = estimator.deploy(initial_instance_count=4, instance_type='ml.p2.xlarge')"
   ]
  },
  {
   "cell_type": "markdown",
   "metadata": {},
   "source": [
    "## Step 7 - Use the model for testing\n",
    "\n",
    "Once deployed, we can read in the test data and send it off to our deployed model to get some results. Once we collect all of the results we can determine how accurate our model is."
   ]
  },
  {
   "cell_type": "code",
   "execution_count": 34,
   "metadata": {},
   "outputs": [
    {
     "data": {
      "text/plain": [
       "array([[ 109,    2, 2874, ...,    0,    0,    0],\n",
       "       [ 176,   12,    1, ...,    0,    0,    0],\n",
       "       [  73,   20,    1, ...,    0,    0,    0],\n",
       "       ...,\n",
       "       [  69,  290,  722, ...,    0,    0,    0],\n",
       "       [ 182,  600, 1857, ...,    0,    0,    0],\n",
       "       [  63,  198,  197, ...,    0,    0,    0]])"
      ]
     },
     "execution_count": 34,
     "metadata": {},
     "output_type": "execute_result"
    }
   ],
   "source": [
    "test_X = pd.concat([pd.DataFrame(test_X_len), pd.DataFrame(test_X)], axis=1)\n",
    "test_X.values"
   ]
  },
  {
   "cell_type": "code",
   "execution_count": 35,
   "metadata": {},
   "outputs": [
    {
     "data": {
      "text/plain": [
       "(25000, 501)"
      ]
     },
     "execution_count": 35,
     "metadata": {},
     "output_type": "execute_result"
    }
   ],
   "source": [
    "test_X.shape"
   ]
  },
  {
   "cell_type": "code",
   "execution_count": 36,
   "metadata": {},
   "outputs": [],
   "source": [
    "#split_array = np.array_split(test_X.values, int(test_X.values.shape[0] / float(512) + 1))"
   ]
  },
  {
   "cell_type": "code",
   "execution_count": 37,
   "metadata": {},
   "outputs": [],
   "source": [
    "#split_array"
   ]
  },
  {
   "cell_type": "code",
   "execution_count": 38,
   "metadata": {},
   "outputs": [],
   "source": [
    "# We split the data into chunks and send each chunk seperately, accumulating the results.\n",
    "\n",
    "def predict(data, rows=512):\n",
    "    split_array = np.array_split(data, int(data.shape[0] / float(rows) + 1))\n",
    "    predictions = np.array([])\n",
    "    for array in split_array:\n",
    "        predictions = np.append(predictions, predictor.predict(array))\n",
    "    \n",
    "    return predictions"
   ]
  },
  {
   "cell_type": "code",
   "execution_count": 39,
   "metadata": {},
   "outputs": [],
   "source": [
    "predictions = predict(test_X.values)"
   ]
  },
  {
   "cell_type": "code",
   "execution_count": 40,
   "metadata": {},
   "outputs": [
    {
     "data": {
      "text/plain": [
       "array([0.24455585, 0.60436833, 0.04135368, ..., 0.2165875 , 0.01087292,\n",
       "       0.02896515])"
      ]
     },
     "execution_count": 40,
     "metadata": {},
     "output_type": "execute_result"
    }
   ],
   "source": [
    "predictions"
   ]
  },
  {
   "cell_type": "code",
   "execution_count": 41,
   "metadata": {},
   "outputs": [],
   "source": [
    "predictions = [round(num) for num in predictions]"
   ]
  },
  {
   "cell_type": "code",
   "execution_count": 42,
   "metadata": {},
   "outputs": [
    {
     "data": {
      "text/plain": [
       "0.85652"
      ]
     },
     "execution_count": 42,
     "metadata": {},
     "output_type": "execute_result"
    }
   ],
   "source": [
    "from sklearn.metrics import accuracy_score\n",
    "accuracy_score(test_y, predictions)"
   ]
  },
  {
   "cell_type": "markdown",
   "metadata": {},
   "source": [
    "**Question:** How does this model compare to the XGBoost model you created earlier? Why might these two models perform differently on this dataset? Which do *you* think is better for sentiment analysis?"
   ]
  },
  {
   "cell_type": "markdown",
   "metadata": {},
   "source": [
    "**Answer:** Both the model have similar accuracy scores. RNN is better when it comes for sentiment analysis, due to its ability to remember the previous inputs so as to predict well.\n",
    "There is no need of hyperparameter tuning in RNN, while XGBoost expects hyperparameter tuning for better performance."
   ]
  },
  {
   "cell_type": "markdown",
   "metadata": {},
   "source": [
    "### (TODO) More testing\n",
    "\n",
    "We now have a trained model which has been deployed and which we can send processed reviews to and which returns the predicted sentiment. However, ultimately we would like to be able to send our model an unprocessed review. That is, we would like to send the review itself as a string. For example, suppose we wish to send the following review to our model."
   ]
  },
  {
   "cell_type": "code",
   "execution_count": 43,
   "metadata": {},
   "outputs": [],
   "source": [
    "test_review = 'The simplest pleasures in life are the best, and this film is one of them. Combining a rather basic storyline of love and adventure this movie transcends the usual weekend fair with wit and unmitigated charm.'"
   ]
  },
  {
   "cell_type": "markdown",
   "metadata": {},
   "source": [
    "The question we now need to answer is, how do we send this review to our model?\n",
    "\n",
    "Recall in the first section of this notebook we did a bunch of data processing to the IMDb dataset. In particular, we did two specific things to the provided reviews.\n",
    " - Removed any html tags and stemmed the input\n",
    " - Encoded the review as a sequence of integers using `word_dict`\n",
    " \n",
    "In order process the review we will need to repeat these two steps.\n",
    "\n",
    "**TODO**: Using the `review_to_words` and `convert_and_pad` methods from section one, convert `test_review` into a numpy array `test_data` suitable to send to our model. Remember that our model expects input of the form `review_length, review[500]`."
   ]
  },
  {
   "cell_type": "code",
   "execution_count": 44,
   "metadata": {},
   "outputs": [],
   "source": [
    "# TODO: Convert test_review into a form usable by the model and save the results in test_data\n",
    "test_data = None\n",
    "\n",
    "test_words = review_to_words(test_review)\n",
    "test_input, test_input_length= convert_and_pad(word_dict, test_words)\n",
    "test_data = [np.array([test_input_length] + test_input)]"
   ]
  },
  {
   "cell_type": "markdown",
   "metadata": {},
   "source": [
    "Now that we have processed the review, we can send the resulting array to our model to predict the sentiment of the review."
   ]
  },
  {
   "cell_type": "code",
   "execution_count": 45,
   "metadata": {},
   "outputs": [
    {
     "data": {
      "text/plain": [
       "array(0.9343728, dtype=float32)"
      ]
     },
     "execution_count": 45,
     "metadata": {},
     "output_type": "execute_result"
    }
   ],
   "source": [
    "predictor.predict(test_data)"
   ]
  },
  {
   "cell_type": "markdown",
   "metadata": {},
   "source": [
    "Since the return value of our model is close to `1`, we can be certain that the review we submitted is positive."
   ]
  },
  {
   "cell_type": "markdown",
   "metadata": {},
   "source": [
    "### Delete the endpoint\n",
    "\n",
    "Of course, just like in the XGBoost notebook, once we've deployed an endpoint it continues to run until we tell it to shut down. Since we are done using our endpoint for now, we can delete it."
   ]
  },
  {
   "cell_type": "code",
   "execution_count": 46,
   "metadata": {},
   "outputs": [
    {
     "name": "stderr",
     "output_type": "stream",
     "text": [
      "estimator.delete_endpoint() will be deprecated in SageMaker Python SDK v2. Please use the delete_endpoint() function on your predictor instead.\n"
     ]
    }
   ],
   "source": [
    "estimator.delete_endpoint()"
   ]
  },
  {
   "cell_type": "markdown",
   "metadata": {},
   "source": [
    "## Step 6 (again) - Deploy the model for the web app\n",
    "\n",
    "Now that we know that our model is working, it's time to create some custom inference code so that we can send the model a review which has not been processed and have it determine the sentiment of the review.\n",
    "\n",
    "As we saw above, by default the estimator which we created, when deployed, will use the entry script and directory which we provided when creating the model. However, since we now wish to accept a string as input and our model expects a processed review, we need to write some custom inference code.\n",
    "\n",
    "We will store the code that we write in the `serve` directory. Provided in this directory is the `model.py` file that we used to construct our model, a `utils.py` file which contains the `review_to_words` and `convert_and_pad` pre-processing functions which we used during the initial data processing, and `predict.py`, the file which will contain our custom inference code. Note also that `requirements.txt` is present which will tell SageMaker what Python libraries are required by our custom inference code.\n",
    "\n",
    "When deploying a PyTorch model in SageMaker, you are expected to provide four functions which the SageMaker inference container will use.\n",
    " - `model_fn`: This function is the same function that we used in the training script and it tells SageMaker how to load our model.\n",
    " - `input_fn`: This function receives the raw serialized input that has been sent to the model's endpoint and its job is to de-serialize and make the input available for the inference code.\n",
    " - `output_fn`: This function takes the output of the inference code and its job is to serialize this output and return it to the caller of the model's endpoint.\n",
    " - `predict_fn`: The heart of the inference script, this is where the actual prediction is done and is the function which you will need to complete.\n",
    "\n",
    "For the simple website that we are constructing during this project, the `input_fn` and `output_fn` methods are relatively straightforward. We only require being able to accept a string as input and we expect to return a single value as output. You might imagine though that in a more complex application the input or output may be image data or some other binary data which would require some effort to serialize.\n",
    "\n",
    "### (TODO) Writing inference code\n",
    "\n",
    "Before writing our custom inference code, we will begin by taking a look at the code which has been provided."
   ]
  },
  {
   "cell_type": "code",
   "execution_count": 47,
   "metadata": {},
   "outputs": [
    {
     "name": "stdout",
     "output_type": "stream",
     "text": [
      "\u001b[34mimport\u001b[39;49;00m \u001b[04m\u001b[36margparse\u001b[39;49;00m\n",
      "\u001b[34mimport\u001b[39;49;00m \u001b[04m\u001b[36mjson\u001b[39;49;00m\n",
      "\u001b[34mimport\u001b[39;49;00m \u001b[04m\u001b[36mos\u001b[39;49;00m\n",
      "\u001b[34mimport\u001b[39;49;00m \u001b[04m\u001b[36mpickle\u001b[39;49;00m\n",
      "\u001b[34mimport\u001b[39;49;00m \u001b[04m\u001b[36msys\u001b[39;49;00m\n",
      "\u001b[34mimport\u001b[39;49;00m \u001b[04m\u001b[36msagemaker_containers\u001b[39;49;00m\n",
      "\u001b[34mimport\u001b[39;49;00m \u001b[04m\u001b[36mpandas\u001b[39;49;00m \u001b[34mas\u001b[39;49;00m \u001b[04m\u001b[36mpd\u001b[39;49;00m\n",
      "\u001b[34mimport\u001b[39;49;00m \u001b[04m\u001b[36mnumpy\u001b[39;49;00m \u001b[34mas\u001b[39;49;00m \u001b[04m\u001b[36mnp\u001b[39;49;00m\n",
      "\u001b[34mimport\u001b[39;49;00m \u001b[04m\u001b[36mtorch\u001b[39;49;00m\n",
      "\u001b[34mimport\u001b[39;49;00m \u001b[04m\u001b[36mtorch\u001b[39;49;00m\u001b[04m\u001b[36m.\u001b[39;49;00m\u001b[04m\u001b[36mnn\u001b[39;49;00m \u001b[34mas\u001b[39;49;00m \u001b[04m\u001b[36mnn\u001b[39;49;00m\n",
      "\u001b[34mimport\u001b[39;49;00m \u001b[04m\u001b[36mtorch\u001b[39;49;00m\u001b[04m\u001b[36m.\u001b[39;49;00m\u001b[04m\u001b[36moptim\u001b[39;49;00m \u001b[34mas\u001b[39;49;00m \u001b[04m\u001b[36moptim\u001b[39;49;00m\n",
      "\u001b[34mimport\u001b[39;49;00m \u001b[04m\u001b[36mtorch\u001b[39;49;00m\u001b[04m\u001b[36m.\u001b[39;49;00m\u001b[04m\u001b[36mutils\u001b[39;49;00m\u001b[04m\u001b[36m.\u001b[39;49;00m\u001b[04m\u001b[36mdata\u001b[39;49;00m\n",
      "\n",
      "\u001b[34mfrom\u001b[39;49;00m \u001b[04m\u001b[36mmodel\u001b[39;49;00m \u001b[34mimport\u001b[39;49;00m LSTMClassifier\n",
      "\n",
      "\u001b[34mfrom\u001b[39;49;00m \u001b[04m\u001b[36mutils\u001b[39;49;00m \u001b[34mimport\u001b[39;49;00m review_to_words, convert_and_pad\n",
      "\n",
      "\u001b[34mdef\u001b[39;49;00m \u001b[32mmodel_fn\u001b[39;49;00m(model_dir):\n",
      "    \u001b[33m\"\"\"Load the PyTorch model from the `model_dir` directory.\"\"\"\u001b[39;49;00m\n",
      "    \u001b[36mprint\u001b[39;49;00m(\u001b[33m\"\u001b[39;49;00m\u001b[33mLoading model.\u001b[39;49;00m\u001b[33m\"\u001b[39;49;00m)\n",
      "\n",
      "    \u001b[37m# First, load the parameters used to create the model.\u001b[39;49;00m\n",
      "    model_info = {}\n",
      "    model_info_path = os.path.join(model_dir, \u001b[33m'\u001b[39;49;00m\u001b[33mmodel_info.pth\u001b[39;49;00m\u001b[33m'\u001b[39;49;00m)\n",
      "    \u001b[34mwith\u001b[39;49;00m \u001b[36mopen\u001b[39;49;00m(model_info_path, \u001b[33m'\u001b[39;49;00m\u001b[33mrb\u001b[39;49;00m\u001b[33m'\u001b[39;49;00m) \u001b[34mas\u001b[39;49;00m f:\n",
      "        model_info = torch.load(f)\n",
      "\n",
      "    \u001b[36mprint\u001b[39;49;00m(\u001b[33m\"\u001b[39;49;00m\u001b[33mmodel_info: \u001b[39;49;00m\u001b[33m{}\u001b[39;49;00m\u001b[33m\"\u001b[39;49;00m.format(model_info))\n",
      "\n",
      "    \u001b[37m# Determine the device and construct the model.\u001b[39;49;00m\n",
      "    device = torch.device(\u001b[33m\"\u001b[39;49;00m\u001b[33mcuda\u001b[39;49;00m\u001b[33m\"\u001b[39;49;00m \u001b[34mif\u001b[39;49;00m torch.cuda.is_available() \u001b[34melse\u001b[39;49;00m \u001b[33m\"\u001b[39;49;00m\u001b[33mcpu\u001b[39;49;00m\u001b[33m\"\u001b[39;49;00m)\n",
      "    model = LSTMClassifier(model_info[\u001b[33m'\u001b[39;49;00m\u001b[33membedding_dim\u001b[39;49;00m\u001b[33m'\u001b[39;49;00m], model_info[\u001b[33m'\u001b[39;49;00m\u001b[33mhidden_dim\u001b[39;49;00m\u001b[33m'\u001b[39;49;00m], model_info[\u001b[33m'\u001b[39;49;00m\u001b[33mvocab_size\u001b[39;49;00m\u001b[33m'\u001b[39;49;00m])\n",
      "\n",
      "    \u001b[37m# Load the store model parameters.\u001b[39;49;00m\n",
      "    model_path = os.path.join(model_dir, \u001b[33m'\u001b[39;49;00m\u001b[33mmodel.pth\u001b[39;49;00m\u001b[33m'\u001b[39;49;00m)\n",
      "    \u001b[34mwith\u001b[39;49;00m \u001b[36mopen\u001b[39;49;00m(model_path, \u001b[33m'\u001b[39;49;00m\u001b[33mrb\u001b[39;49;00m\u001b[33m'\u001b[39;49;00m) \u001b[34mas\u001b[39;49;00m f:\n",
      "        model.load_state_dict(torch.load(f))\n",
      "\n",
      "    \u001b[37m# Load the saved word_dict.\u001b[39;49;00m\n",
      "    word_dict_path = os.path.join(model_dir, \u001b[33m'\u001b[39;49;00m\u001b[33mword_dict.pkl\u001b[39;49;00m\u001b[33m'\u001b[39;49;00m)\n",
      "    \u001b[34mwith\u001b[39;49;00m \u001b[36mopen\u001b[39;49;00m(word_dict_path, \u001b[33m'\u001b[39;49;00m\u001b[33mrb\u001b[39;49;00m\u001b[33m'\u001b[39;49;00m) \u001b[34mas\u001b[39;49;00m f:\n",
      "        model.word_dict = pickle.load(f)\n",
      "\n",
      "    model.to(device).eval()\n",
      "\n",
      "    \u001b[36mprint\u001b[39;49;00m(\u001b[33m\"\u001b[39;49;00m\u001b[33mDone loading model.\u001b[39;49;00m\u001b[33m\"\u001b[39;49;00m)\n",
      "    \u001b[34mreturn\u001b[39;49;00m model\n",
      "\n",
      "\u001b[34mdef\u001b[39;49;00m \u001b[32minput_fn\u001b[39;49;00m(serialized_input_data, content_type):\n",
      "    \u001b[36mprint\u001b[39;49;00m(\u001b[33m'\u001b[39;49;00m\u001b[33mDeserializing the input data.\u001b[39;49;00m\u001b[33m'\u001b[39;49;00m)\n",
      "    \u001b[34mif\u001b[39;49;00m content_type == \u001b[33m'\u001b[39;49;00m\u001b[33mtext/plain\u001b[39;49;00m\u001b[33m'\u001b[39;49;00m:\n",
      "        data = serialized_input_data.decode(\u001b[33m'\u001b[39;49;00m\u001b[33mutf-8\u001b[39;49;00m\u001b[33m'\u001b[39;49;00m)\n",
      "        \u001b[34mreturn\u001b[39;49;00m data\n",
      "    \u001b[34mraise\u001b[39;49;00m \u001b[36mException\u001b[39;49;00m(\u001b[33m'\u001b[39;49;00m\u001b[33mRequested unsupported ContentType in content_type: \u001b[39;49;00m\u001b[33m'\u001b[39;49;00m + content_type)\n",
      "\n",
      "\u001b[34mdef\u001b[39;49;00m \u001b[32moutput_fn\u001b[39;49;00m(prediction_output, accept):\n",
      "    \u001b[36mprint\u001b[39;49;00m(\u001b[33m'\u001b[39;49;00m\u001b[33mSerializing the generated output.\u001b[39;49;00m\u001b[33m'\u001b[39;49;00m)\n",
      "    \u001b[34mreturn\u001b[39;49;00m \u001b[36mstr\u001b[39;49;00m(prediction_output)\n",
      "\n",
      "\u001b[34mdef\u001b[39;49;00m \u001b[32mpredict_fn\u001b[39;49;00m(input_data, model):\n",
      "    \u001b[36mprint\u001b[39;49;00m(\u001b[33m'\u001b[39;49;00m\u001b[33mInferring sentiment of input data.\u001b[39;49;00m\u001b[33m'\u001b[39;49;00m)\n",
      "\n",
      "    device = torch.device(\u001b[33m\"\u001b[39;49;00m\u001b[33mcuda\u001b[39;49;00m\u001b[33m\"\u001b[39;49;00m \u001b[34mif\u001b[39;49;00m torch.cuda.is_available() \u001b[34melse\u001b[39;49;00m \u001b[33m\"\u001b[39;49;00m\u001b[33mcpu\u001b[39;49;00m\u001b[33m\"\u001b[39;49;00m)\n",
      "    \n",
      "    \u001b[34mif\u001b[39;49;00m model.word_dict \u001b[35mis\u001b[39;49;00m \u001b[34mNone\u001b[39;49;00m:\n",
      "        \u001b[34mraise\u001b[39;49;00m \u001b[36mException\u001b[39;49;00m(\u001b[33m'\u001b[39;49;00m\u001b[33mModel has not been loaded properly, no word_dict.\u001b[39;49;00m\u001b[33m'\u001b[39;49;00m)\n",
      "    \n",
      "    \u001b[37m# TODO: Process input_data so that it is ready to be sent to our model.\u001b[39;49;00m\n",
      "    \u001b[37m#       You should produce two variables:\u001b[39;49;00m\n",
      "    \u001b[37m#         data_X   - A sequence of length 500 which represents the converted review\u001b[39;49;00m\n",
      "    \u001b[37m#         data_len - The length of the review\u001b[39;49;00m\n",
      "\n",
      "    data_X = \u001b[34mNone\u001b[39;49;00m\n",
      "    data_len = \u001b[34mNone\u001b[39;49;00m\n",
      "    \n",
      "    data_X ,data_len = convert_and_pad(model.word_dict, review_to_words(input_data))\n",
      "\n",
      "    \u001b[37m# Using data_X and data_len we construct an appropriate input tensor. Remember\u001b[39;49;00m\n",
      "    \u001b[37m# that our model expects input data of the form 'len, review[500]'.\u001b[39;49;00m\n",
      "    data_pack = np.hstack((data_len, data_X))\n",
      "    data_pack = data_pack.reshape(\u001b[34m1\u001b[39;49;00m, -\u001b[34m1\u001b[39;49;00m)\n",
      "    \n",
      "    data = torch.from_numpy(data_pack)\n",
      "    data = data.to(device)\n",
      "\n",
      "    \u001b[37m# Make sure to put the model into evaluation mode\u001b[39;49;00m\n",
      "    model.eval()\n",
      "\n",
      "    \u001b[37m# TODO: Compute the result of applying the model to the input data. The variable `result` should\u001b[39;49;00m\n",
      "    \u001b[37m#       be a numpy array which contains a single integer which is either 1 or 0\u001b[39;49;00m\n",
      "\n",
      "    result = \u001b[34mNone\u001b[39;49;00m\n",
      "    \n",
      "    \u001b[34mwith\u001b[39;49;00m torch.no_grad():\n",
      "        output = model.forward(data)\n",
      "        \n",
      "    result = np.round(output.numpy()).astype(\u001b[36mint\u001b[39;49;00m)\n",
      "\n",
      "    \u001b[34mreturn\u001b[39;49;00m result\n"
     ]
    }
   ],
   "source": [
    "!pygmentize serve/predict.py"
   ]
  },
  {
   "cell_type": "markdown",
   "metadata": {},
   "source": [
    "As mentioned earlier, the `model_fn` method is the same as the one provided in the training code and the `input_fn` and `output_fn` methods are very simple and your task will be to complete the `predict_fn` method. Make sure that you save the completed file as `predict.py` in the `serve` directory.\n",
    "\n",
    "**TODO**: Complete the `predict_fn()` method in the `serve/predict.py` file."
   ]
  },
  {
   "cell_type": "markdown",
   "metadata": {},
   "source": [
    "### Deploying the model\n",
    "\n",
    "Now that the custom inference code has been written, we will create and deploy our model. To begin with, we need to construct a new PyTorchModel object which points to the model artifacts created during training and also points to the inference code that we wish to use. Then we can call the deploy method to launch the deployment container.\n",
    "\n",
    "**NOTE**: The default behaviour for a deployed PyTorch model is to assume that any input passed to the predictor is a `numpy` array. In our case we want to send a string so we need to construct a simple wrapper around the `RealTimePredictor` class to accomodate simple strings. In a more complicated situation you may want to provide a serialization object, for example if you wanted to sent image data."
   ]
  },
  {
   "cell_type": "code",
   "execution_count": 48,
   "metadata": {},
   "outputs": [
    {
     "name": "stderr",
     "output_type": "stream",
     "text": [
      "Parameter image will be renamed to image_uri in SageMaker Python SDK v2.\n",
      "'create_image_uri' will be deprecated in favor of 'ImageURIProvider' class in SageMaker Python SDK v2.\n"
     ]
    },
    {
     "name": "stdout",
     "output_type": "stream",
     "text": [
      "-------------!"
     ]
    }
   ],
   "source": [
    "from sagemaker.predictor import RealTimePredictor\n",
    "from sagemaker.pytorch import PyTorchModel\n",
    "\n",
    "class StringPredictor(RealTimePredictor):\n",
    "    def __init__(self, endpoint_name, sagemaker_session):\n",
    "        super(StringPredictor, self).__init__(endpoint_name, sagemaker_session, content_type='text/plain')\n",
    "\n",
    "model = PyTorchModel(model_data=estimator.model_data,\n",
    "                     role = role,\n",
    "                     framework_version='0.4.0',\n",
    "                     entry_point='predict.py',\n",
    "                     source_dir='serve',\n",
    "                     predictor_cls=StringPredictor)\n",
    "predictor = model.deploy(initial_instance_count=1, instance_type='ml.m4.xlarge')"
   ]
  },
  {
   "cell_type": "markdown",
   "metadata": {},
   "source": [
    "### Testing the model\n",
    "\n",
    "Now that we have deployed our model with the custom inference code, we should test to see if everything is working. Here we test our model by loading the first `250` positive and negative reviews and send them to the endpoint, then collect the results. The reason for only sending some of the data is that the amount of time it takes for our model to process the input and then perform inference is quite long and so testing the entire data set would be prohibitive."
   ]
  },
  {
   "cell_type": "code",
   "execution_count": 49,
   "metadata": {},
   "outputs": [],
   "source": [
    "import glob\n",
    "\n",
    "def test_reviews(data_dir='../data/aclImdb', stop=250):\n",
    "    \n",
    "    results = []\n",
    "    ground = []\n",
    "    \n",
    "    # We make sure to test both positive and negative reviews    \n",
    "    for sentiment in ['pos', 'neg']:\n",
    "        \n",
    "        path = os.path.join(data_dir, 'test', sentiment, '*.txt')\n",
    "        files = glob.glob(path)\n",
    "        \n",
    "        files_read = 0\n",
    "        \n",
    "        print('Starting ', sentiment, ' files')\n",
    "        \n",
    "        # Iterate through the files and send them to the predictor\n",
    "        for f in files:\n",
    "            with open(f) as review:\n",
    "                # First, we store the ground truth (was the review positive or negative)\n",
    "                if sentiment == 'pos':\n",
    "                    ground.append(1)\n",
    "                else:\n",
    "                    ground.append(0)\n",
    "                # Read in the review and convert to 'utf-8' for transmission via HTTP\n",
    "                review_input = review.read().encode('utf-8')\n",
    "                # Send the review to the predictor and store the results\n",
    "                results.append(int(predictor.predict(review_input)))\n",
    "                \n",
    "            # Sending reviews to our endpoint one at a time takes a while so we\n",
    "            # only send a small number of reviews\n",
    "            files_read += 1\n",
    "            if files_read == stop:\n",
    "                break\n",
    "            \n",
    "    return ground, results"
   ]
  },
  {
   "cell_type": "code",
   "execution_count": 50,
   "metadata": {},
   "outputs": [
    {
     "name": "stdout",
     "output_type": "stream",
     "text": [
      "Starting  pos  files\n",
      "Starting  neg  files\n"
     ]
    }
   ],
   "source": [
    "ground, results = test_reviews()"
   ]
  },
  {
   "cell_type": "code",
   "execution_count": 51,
   "metadata": {},
   "outputs": [
    {
     "data": {
      "text/plain": [
       "0.856"
      ]
     },
     "execution_count": 51,
     "metadata": {},
     "output_type": "execute_result"
    }
   ],
   "source": [
    "from sklearn.metrics import accuracy_score\n",
    "accuracy_score(ground, results)"
   ]
  },
  {
   "cell_type": "markdown",
   "metadata": {},
   "source": [
    "As an additional test, we can try sending the `test_review` that we looked at earlier."
   ]
  },
  {
   "cell_type": "code",
   "execution_count": 52,
   "metadata": {},
   "outputs": [
    {
     "data": {
      "text/plain": [
       "b'1'"
      ]
     },
     "execution_count": 52,
     "metadata": {},
     "output_type": "execute_result"
    }
   ],
   "source": [
    "predictor.predict(test_review)"
   ]
  },
  {
   "cell_type": "markdown",
   "metadata": {},
   "source": [
    "Now that we know our endpoint is working as expected, we can set up the web page that will interact with it. If you don't have time to finish the project now, make sure to skip down to the end of this notebook and shut down your endpoint. You can deploy it again when you come back."
   ]
  },
  {
   "cell_type": "markdown",
   "metadata": {},
   "source": [
    "## Step 7 (again): Use the model for the web app\n",
    "\n",
    "> **TODO:** This entire section and the next contain tasks for you to complete, mostly using the AWS console.\n",
    "\n",
    "So far we have been accessing our model endpoint by constructing a predictor object which uses the endpoint and then just using the predictor object to perform inference. What if we wanted to create a web app which accessed our model? The way things are set up currently makes that not possible since in order to access a SageMaker endpoint the app would first have to authenticate with AWS using an IAM role which included access to SageMaker endpoints. However, there is an easier way! We just need to use some additional AWS services.\n",
    "\n",
    "<img src=\"Web App Diagram.svg\">\n",
    "\n",
    "The diagram above gives an overview of how the various services will work together. On the far right is the model which we trained above and which is deployed using SageMaker. On the far left is our web app that collects a user's movie review, sends it off and expects a positive or negative sentiment in return.\n",
    "\n",
    "In the middle is where some of the magic happens. We will construct a Lambda function, which you can think of as a straightforward Python function that can be executed whenever a specified event occurs. We will give this function permission to send and recieve data from a SageMaker endpoint.\n",
    "\n",
    "Lastly, the method we will use to execute the Lambda function is a new endpoint that we will create using API Gateway. This endpoint will be a url that listens for data to be sent to it. Once it gets some data it will pass that data on to the Lambda function and then return whatever the Lambda function returns. Essentially it will act as an interface that lets our web app communicate with the Lambda function.\n",
    "\n",
    "### Setting up a Lambda function\n",
    "\n",
    "The first thing we are going to do is set up a Lambda function. This Lambda function will be executed whenever our public API has data sent to it. When it is executed it will receive the data, perform any sort of processing that is required, send the data (the review) to the SageMaker endpoint we've created and then return the result.\n",
    "\n",
    "#### Part A: Create an IAM Role for the Lambda function\n",
    "\n",
    "Since we want the Lambda function to call a SageMaker endpoint, we need to make sure that it has permission to do so. To do this, we will construct a role that we can later give the Lambda function.\n",
    "\n",
    "Using the AWS Console, navigate to the **IAM** page and click on **Roles**. Then, click on **Create role**. Make sure that the **AWS service** is the type of trusted entity selected and choose **Lambda** as the service that will use this role, then click **Next: Permissions**.\n",
    "\n",
    "In the search box type `sagemaker` and select the check box next to the **AmazonSageMakerFullAccess** policy. Then, click on **Next: Review**.\n",
    "\n",
    "Lastly, give this role a name. Make sure you use a name that you will remember later on, for example `LambdaSageMakerRole`. Then, click on **Create role**.\n",
    "\n",
    "#### Part B: Create a Lambda function\n",
    "\n",
    "Now it is time to actually create the Lambda function.\n",
    "\n",
    "Using the AWS Console, navigate to the AWS Lambda page and click on **Create a function**. When you get to the next page, make sure that **Author from scratch** is selected. Now, name your Lambda function, using a name that you will remember later on, for example `sentiment_analysis_func`. Make sure that the **Python 3.6** runtime is selected and then choose the role that you created in the previous part. Then, click on **Create Function**.\n",
    "\n",
    "On the next page you will see some information about the Lambda function you've just created. If you scroll down you should see an editor in which you can write the code that will be executed when your Lambda function is triggered. In our example, we will use the code below. \n",
    "\n",
    "```python\n",
    "# We need to use the low-level library to interact with SageMaker since the SageMaker API\n",
    "# is not available natively through Lambda.\n",
    "import boto3\n",
    "\n",
    "def lambda_handler(event, context):\n",
    "\n",
    "    # The SageMaker runtime is what allows us to invoke the endpoint that we've created.\n",
    "    runtime = boto3.Session().client('sagemaker-runtime')\n",
    "\n",
    "    # Now we use the SageMaker runtime to invoke our endpoint, sending the review we were given\n",
    "    response = runtime.invoke_endpoint(EndpointName = '**ENDPOINT NAME HERE**',    # The name of the endpoint we created\n",
    "                                       ContentType = 'text/plain',                 # The data format that is expected\n",
    "                                       Body = event['body'])                       # The actual review\n",
    "\n",
    "    # The response is an HTTP response whose body contains the result of our inference\n",
    "    result = response['Body'].read().decode('utf-8')\n",
    "\n",
    "    return {\n",
    "        'statusCode' : 200,\n",
    "        'headers' : { 'Content-Type' : 'text/plain', 'Access-Control-Allow-Origin' : '*' },\n",
    "        'body' : result\n",
    "    }\n",
    "```\n",
    "\n",
    "Once you have copy and pasted the code above into the Lambda code editor, replace the `**ENDPOINT NAME HERE**` portion with the name of the endpoint that we deployed earlier. You can determine the name of the endpoint using the code cell below."
   ]
  },
  {
   "cell_type": "code",
   "execution_count": null,
   "metadata": {},
   "outputs": [],
   "source": []
  },
  {
   "cell_type": "code",
   "execution_count": 53,
   "metadata": {},
   "outputs": [
    {
     "data": {
      "text/plain": [
       "'sagemaker-pytorch-2020-09-09-13-01-26-716'"
      ]
     },
     "execution_count": 53,
     "metadata": {},
     "output_type": "execute_result"
    }
   ],
   "source": [
    "predictor.endpoint"
   ]
  },
  {
   "cell_type": "markdown",
   "metadata": {},
   "source": [
    "Once you have added the endpoint name to the Lambda function, click on **Save**. Your Lambda function is now up and running. Next we need to create a way for our web app to execute the Lambda function.\n",
    "\n",
    "### Setting up API Gateway\n",
    "\n",
    "Now that our Lambda function is set up, it is time to create a new API using API Gateway that will trigger the Lambda function we have just created.\n",
    "\n",
    "Using AWS Console, navigate to **Amazon API Gateway** and then click on **Get started**.\n",
    "\n",
    "On the next page, make sure that **New API** is selected and give the new api a name, for example, `sentiment_analysis_api`. Then, click on **Create API**.\n",
    "\n",
    "Now we have created an API, however it doesn't currently do anything. What we want it to do is to trigger the Lambda function that we created earlier.\n",
    "\n",
    "Select the **Actions** dropdown menu and click **Create Method**. A new blank method will be created, select its dropdown menu and select **POST**, then click on the check mark beside it.\n",
    "\n",
    "For the integration point, make sure that **Lambda Function** is selected and click on the **Use Lambda Proxy integration**. This option makes sure that the data that is sent to the API is then sent directly to the Lambda function with no processing. It also means that the return value must be a proper response object as it will also not be processed by API Gateway.\n",
    "\n",
    "Type the name of the Lambda function you created earlier into the **Lambda Function** text entry box and then click on **Save**. Click on **OK** in the pop-up box that then appears, giving permission to API Gateway to invoke the Lambda function you created.\n",
    "\n",
    "The last step in creating the API Gateway is to select the **Actions** dropdown and click on **Deploy API**. You will need to create a new Deployment stage and name it anything you like, for example `prod`.\n",
    "\n",
    "You have now successfully set up a public API to access your SageMaker model. Make sure to copy or write down the URL provided to invoke your newly created public API as this will be needed in the next step. This URL can be found at the top of the page, highlighted in blue next to the text **Invoke URL**."
   ]
  },
  {
   "cell_type": "markdown",
   "metadata": {},
   "source": [
    "## Step 4: Deploying our web app\n",
    "\n",
    "Now that we have a publicly available API, we can start using it in a web app. For our purposes, we have provided a simple static html file which can make use of the public api you created earlier.\n",
    "\n",
    "In the `website` folder there should be a file called `index.html`. Download the file to your computer and open that file up in a text editor of your choice. There should be a line which contains **\\*\\*REPLACE WITH PUBLIC API URL\\*\\***. Replace this string with the url that you wrote down in the last step and then save the file.\n",
    "\n",
    "Now, if you open `index.html` on your local computer, your browser will behave as a local web server and you can use the provided site to interact with your SageMaker model.\n",
    "\n",
    "If you'd like to go further, you can host this html file anywhere you'd like, for example using github or hosting a static site on Amazon's S3. Once you have done this you can share the link with anyone you'd like and have them play with it too!\n",
    "\n",
    "> **Important Note** In order for the web app to communicate with the SageMaker endpoint, the endpoint has to actually be deployed and running. This means that you are paying for it. Make sure that the endpoint is running when you want to use the web app but that you shut it down when you don't need it, otherwise you will end up with a surprisingly large AWS bill.\n",
    "\n",
    "**TODO:** Make sure that you include the edited `index.html` file in your project submission."
   ]
  },
  {
   "cell_type": "markdown",
   "metadata": {},
   "source": [
    "Now that your web app is working, trying playing around with it and see how well it works.\n",
    "\n",
    "**Question**: Give an example of a review that you entered into your web app. What was the predicted sentiment of your example review?"
   ]
  },
  {
   "cell_type": "markdown",
   "metadata": {},
   "source": [
    "**Answer:**\n",
    "\n",
    "- **Review :** The most successful quality of the film is how close it keeps in spirit and haphazard style to the first two installments, and how it feels proudly unstuck in time.\n",
    "\n",
    "- **Output :** Your review was POSITIVE!"
   ]
  },
  {
   "cell_type": "markdown",
   "metadata": {},
   "source": [
    "### Delete the endpoint\n",
    "\n",
    "Remember to always shut down your endpoint if you are no longer using it. You are charged for the length of time that the endpoint is running so if you forget and leave it on you could end up with an unexpectedly large bill."
   ]
  },
  {
   "cell_type": "code",
   "execution_count": 54,
   "metadata": {},
   "outputs": [],
   "source": [
    "predictor.delete_endpoint()"
   ]
  },
  {
   "cell_type": "code",
   "execution_count": null,
   "metadata": {},
   "outputs": [],
   "source": []
  },
  {
   "cell_type": "code",
   "execution_count": null,
   "metadata": {},
   "outputs": [],
   "source": []
  },
  {
   "cell_type": "code",
   "execution_count": null,
   "metadata": {},
   "outputs": [],
   "source": []
  }
 ],
 "metadata": {
  "kernelspec": {
   "display_name": "conda_pytorch_p36",
   "language": "python",
   "name": "conda_pytorch_p36"
  },
  "language_info": {
   "codemirror_mode": {
    "name": "ipython",
    "version": 3
   },
   "file_extension": ".py",
   "mimetype": "text/x-python",
   "name": "python",
   "nbconvert_exporter": "python",
   "pygments_lexer": "ipython3",
   "version": "3.6.10"
  }
 },
 "nbformat": 4,
 "nbformat_minor": 4
}
